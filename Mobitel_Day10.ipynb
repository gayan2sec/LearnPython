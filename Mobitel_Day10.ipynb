{
 "cells": [
  {
   "cell_type": "markdown",
   "id": "6b055deb",
   "metadata": {},
   "source": [
    "# Error Handling---> try: except"
   ]
  },
  {
   "cell_type": "code",
   "execution_count": 29,
   "id": "84228e5d",
   "metadata": {},
   "outputs": [
    {
     "ename": "ZeroDivisionError",
     "evalue": "division by zero",
     "output_type": "error",
     "traceback": [
      "\u001b[1;31m---------------------------------------------------------------------------\u001b[0m",
      "\u001b[1;31mZeroDivisionError\u001b[0m                         Traceback (most recent call last)",
      "Cell \u001b[1;32mIn[29], line 2\u001b[0m\n\u001b[0;32m      1\u001b[0m x\u001b[38;5;241m=\u001b[39m\u001b[38;5;241m10\u001b[39m\u001b[38;5;241m/\u001b[39m\u001b[38;5;241m2\u001b[39m\n\u001b[1;32m----> 2\u001b[0m y\u001b[38;5;241m=\u001b[39m\u001b[38;5;241;43m20\u001b[39;49m\u001b[38;5;241;43m/\u001b[39;49m\u001b[38;5;241;43m0\u001b[39;49m    \u001b[38;5;66;03m# <--- We will get ZeroDivisionError. Lets see how to cathch it and use it                 \u001b[39;00m\n\u001b[0;32m      3\u001b[0m \u001b[38;5;28mprint\u001b[39m (x\u001b[38;5;241m+\u001b[39my)\n",
      "\u001b[1;31mZeroDivisionError\u001b[0m: division by zero"
     ]
    }
   ],
   "source": [
    "x=10/2\n",
    "y=20/0    # <--- We will get ZeroDivisionError. Lets see how to cath it and use it                 \n",
    "print (x+y)"
   ]
  },
  {
   "cell_type": "code",
   "execution_count": 33,
   "id": "a2a755a1",
   "metadata": {},
   "outputs": [
    {
     "name": "stdout",
     "output_type": "stream",
     "text": [
      "An error is occured---ZeroDivisionError\n"
     ]
    }
   ],
   "source": [
    "try:     # Like in try catch in other languages python use try except\n",
    "    y=0\n",
    "    x=10/y\n",
    "    print(x)\n",
    "except:\n",
    "    print(\"An error is occured---ZeroDivisionError\")"
   ]
  },
  {
   "cell_type": "code",
   "execution_count": 28,
   "id": "3ae5fa4f",
   "metadata": {},
   "outputs": [
    {
     "name": "stdout",
     "output_type": "stream",
     "text": [
      "An Error\n",
      "[2, 1, 4, 7, 8, 6, 5]\n"
     ]
    }
   ],
   "source": [
    "x=30   #<---put a number not in this list ex 30\n",
    "L=[2,1,4,7,8,6,5]\n",
    "try: L.remove(x)  #If it tries to remove something not in this list an Err will occur\n",
    "except:\n",
    "    print(\"An Error\")\n",
    "print(L)\n"
   ]
  },
  {
   "cell_type": "code",
   "execution_count": 21,
   "id": "f90e506e",
   "metadata": {},
   "outputs": [
    {
     "name": "stdout",
     "output_type": "stream",
     "text": [
      "[2, 1, 4, 7, 8, 6, 5, 20]\n"
     ]
    }
   ],
   "source": [
    "x=20   #<---put a number not in this list ex 30\n",
    "L=[2,1,4,7,8,6,5]\n",
    "try: L.remove(x)\n",
    "except:\n",
    "    #print(\"An Error\") # Instead printing error , we do somethin useful\n",
    "    L.append(x) #Here we add the missing element to the array\n",
    "print(L)"
   ]
  },
  {
   "cell_type": "code",
   "execution_count": 34,
   "id": "d2e27281",
   "metadata": {},
   "outputs": [
    {
     "name": "stdout",
     "output_type": "stream",
     "text": [
      "list.remove(x): x not in list\n",
      "[2, 1, 4, 7, 8, 6, 5]\n"
     ]
    }
   ],
   "source": [
    "x=3   \n",
    "L=[2,1,4,7,8,6,5]\n",
    "try: L.remove(x)\n",
    "except Exception as ex:\n",
    "    print(ex)\n",
    "print(L)"
   ]
  },
  {
   "cell_type": "code",
   "execution_count": 43,
   "id": "3cc12ea6",
   "metadata": {},
   "outputs": [
    {
     "name": "stdout",
     "output_type": "stream",
     "text": [
      "list index out of range\n"
     ]
    }
   ],
   "source": [
    "L=[2,1,4,7,8,6,5]\n",
    "try:\n",
    "    print(L[20])\n",
    "except Exception as ex:\n",
    "    print(ex)"
   ]
  },
  {
   "cell_type": "code",
   "execution_count": 44,
   "id": "70c94847",
   "metadata": {},
   "outputs": [
    {
     "name": "stdout",
     "output_type": "stream",
     "text": [
      "B\n"
     ]
    }
   ],
   "source": [
    "L=[2,1,4,7,8,6,5]\n",
    "try:\n",
    "    print(L[10])\n",
    "except ZeroDivisionError:\n",
    "    print(\"A\")\n",
    "except IndexError:\n",
    "    print(\"B\")\n",
    "except ValueError:\n",
    "    print(\"C\")\n",
    "except NameError:\n",
    "    print(\"D\")"
   ]
  },
  {
   "cell_type": "code",
   "execution_count": 58,
   "id": "4b1f37e7",
   "metadata": {},
   "outputs": [
    {
     "name": "stdout",
     "output_type": "stream",
     "text": [
      "B\n",
      "[2, 1, 4, 7, 8, 6, 5]\n"
     ]
    }
   ],
   "source": [
    "L=[2,1,4,7,8,6,5]\n",
    "x=9\n",
    "try:\n",
    "    L.remove(x)\n",
    "except ZeroDivisionError :\n",
    "    print(\"A\")\n",
    "except IndexError :\n",
    "    print(\"B\")\n",
    "except ValueError :\n",
    "    print(\"B\")\n",
    "except NameError :\n",
    "    print(\"D\")\n",
    "print(L)"
   ]
  },
  {
   "cell_type": "code",
   "execution_count": 72,
   "id": "ebf1d4b6",
   "metadata": {},
   "outputs": [
    {
     "name": "stdout",
     "output_type": "stream",
     "text": [
      "B list.remove(x): x not in list\n",
      "[2, 1, 4, 7, 8, 6, 5]\n"
     ]
    }
   ],
   "source": [
    "L=[2,1,4,7,8,6,5]\n",
    "x=9\n",
    "try:\n",
    "    L.remove(x)  \n",
    "except ZeroDivisionError as ex:    \n",
    "    print(\"A\",ex)\n",
    "except IndexError as ex :\n",
    "    print(\"B\",ex)\n",
    "except ValueError  as ex:\n",
    "    print(\"B\",ex)\n",
    "except NameError as ex :\n",
    "    print(\"D\",ex)\n",
    "print(L)   # if there is no error error will not be printed"
   ]
  },
  {
   "cell_type": "code",
   "execution_count": 71,
   "id": "7b3a1d1b",
   "metadata": {},
   "outputs": [
    {
     "name": "stdout",
     "output_type": "stream",
     "text": [
      "[1, 4, 7, 8, 6, 5]\n"
     ]
    }
   ],
   "source": [
    "L=[2,1,4,7,8,6,5]\n",
    "x=2\n",
    "try:\n",
    "    L.remove(x)  \n",
    "except ZeroDivisionError :    \n",
    "    print(\"A\")\n",
    "except IndexError :\n",
    "    print(\"B\")\n",
    "except ValueError :\n",
    "    print(\"B\")\n",
    "except NameError  :\n",
    "    print(\"D\")\n",
    "else:\n",
    "    print(L)   # if there is no error this will be printed. if error not printed"
   ]
  },
  {
   "cell_type": "code",
   "execution_count": null,
   "id": "b509324e",
   "metadata": {},
   "outputs": [],
   "source": [
    "L=[2,1,4,7,8,6,5]\n",
    "x=23\n",
    "try:\n",
    "    L.remove(x)  \n",
    "except ZeroDivisionError :    \n",
    "    print(\"A\")\n",
    "except IndexError :\n",
    "    print(\"B\")\n",
    "except ValueError :\n",
    "    print(\"B\")\n",
    "except NameError  :\n",
    "    print(\"D\")\n",
    "else:\n",
    "    print(L)  # if there is no error only this will be printed(if error not printed)\n",
    "finally:\n",
    "    print(\"End of the program\") # any way this line will be executed whether error or no error"
   ]
  },
  {
   "cell_type": "markdown",
   "id": "64736b32",
   "metadata": {},
   "source": [
    "# Object Oriented Programming Concept in Python (OOP)"
   ]
  },
  {
   "cell_type": "code",
   "execution_count": 81,
   "id": "237b41ea",
   "metadata": {},
   "outputs": [],
   "source": [
    "# class can be empty\n",
    "class Employee():\n",
    "    pass   # <--- this means it is just an empty class i.e abstract class"
   ]
  },
  {
   "cell_type": "code",
   "execution_count": 86,
   "id": "2d14d6cd",
   "metadata": {},
   "outputs": [],
   "source": [
    "emp1=Employee()\n",
    "emp2=Employee()  \n",
    "emp3=Employee()\n"
   ]
  },
  {
   "cell_type": "code",
   "execution_count": 87,
   "id": "9208c905",
   "metadata": {},
   "outputs": [
    {
     "name": "stdout",
     "output_type": "stream",
     "text": [
      "<__main__.Employee object at 0x000001E51959D6C0>\n",
      "<__main__.Employee object at 0x000001E51903C400>\n",
      "<__main__.Employee object at 0x000001E5184AA050>\n"
     ]
    }
   ],
   "source": [
    "print(emp1)# All these are different objects\n",
    "print(emp2)# All these are different objects\n",
    "print(emp3)# All these are different objects"
   ]
  },
  {
   "cell_type": "markdown",
   "id": "41ac38b0",
   "metadata": {},
   "source": [
    "#How to give an attribute to an Object"
   ]
  },
  {
   "cell_type": "code",
   "execution_count": 88,
   "id": "59f06f20",
   "metadata": {},
   "outputs": [],
   "source": [
    "class Employee():\n",
    "    def __init__():\n",
    "        firstname\n",
    "        lastname\n",
    "        email\n",
    "        salary"
   ]
  },
  {
   "cell_type": "code",
   "execution_count": 90,
   "id": "993c22ca",
   "metadata": {},
   "outputs": [
    {
     "ename": "TypeError",
     "evalue": "Employee.__init__() takes 0 positional arguments but 1 was given",
     "output_type": "error",
     "traceback": [
      "\u001b[1;31m---------------------------------------------------------------------------\u001b[0m",
      "\u001b[1;31mTypeError\u001b[0m                                 Traceback (most recent call last)",
      "Cell \u001b[1;32mIn[90], line 1\u001b[0m\n\u001b[1;32m----> 1\u001b[0m emp1\u001b[38;5;241m=\u001b[39m\u001b[43mEmployee\u001b[49m\u001b[43m(\u001b[49m\u001b[43m)\u001b[49m\n\u001b[0;32m      2\u001b[0m emp2\u001b[38;5;241m=\u001b[39mEmployee()  \n\u001b[0;32m      3\u001b[0m emp3\u001b[38;5;241m=\u001b[39mEmployee()\n",
      "\u001b[1;31mTypeError\u001b[0m: Employee.__init__() takes 0 positional arguments but 1 was given"
     ]
    }
   ],
   "source": [
    "emp1=Employee()\n",
    "emp2=Employee()  \n",
    "emp3=Employee()\n",
    "\n",
    "emp1.firstname\n",
    "emp2=firstname"
   ]
  },
  {
   "cell_type": "code",
   "execution_count": 117,
   "id": "9aa46952",
   "metadata": {},
   "outputs": [],
   "source": [
    "class Employee():\n",
    "    def __init__(self,a,b,c,d): # We define init function here. Then refer the object itself as \"self\" paramete, parameters are passed as a,b,c,d here in this init function\n",
    "        self.firstname=a    #Rather we call this block as the Constructor function\n",
    "        self.lastname=b     #or the Constructor\n",
    "        self.email=c        #and we can feed parameters and change the\n",
    "        self.salary=d       #attribute values for each objects\n"
   ]
  },
  {
   "cell_type": "code",
   "execution_count": 103,
   "id": "38103ff7",
   "metadata": {},
   "outputs": [],
   "source": [
    "emp1=Employee(\"Sam\",\"taylor\",\"sam@gmail.com\",1000)\n",
    "emp2=Employee(\"John\",\"Francis\",\"john@gmail.com\",150000)\n",
    "emp3=Employee(\"Sammie\",\"Jhonson\",\"Sammie@gmail.com\",750000)"
   ]
  },
  {
   "cell_type": "code",
   "execution_count": 104,
   "id": "e2bdf8fd",
   "metadata": {},
   "outputs": [
    {
     "data": {
      "text/plain": [
       "'Sam'"
      ]
     },
     "execution_count": 104,
     "metadata": {},
     "output_type": "execute_result"
    }
   ],
   "source": [
    "emp1.firstname"
   ]
  },
  {
   "cell_type": "code",
   "execution_count": 105,
   "id": "c052ad8b",
   "metadata": {},
   "outputs": [
    {
     "data": {
      "text/plain": [
       "'Sammie@gmail.com'"
      ]
     },
     "execution_count": 105,
     "metadata": {},
     "output_type": "execute_result"
    }
   ],
   "source": [
    "emp3.email"
   ]
  },
  {
   "cell_type": "code",
   "execution_count": 108,
   "id": "22ccb9ea",
   "metadata": {},
   "outputs": [
    {
     "data": {
      "text/plain": [
       "{'firstname': 'Sam',\n",
       " 'lastname': 'taylor',\n",
       " 'email': 'sam@gmail.com',\n",
       " 'salary': 1000}"
      ]
     },
     "execution_count": 108,
     "metadata": {},
     "output_type": "execute_result"
    }
   ],
   "source": [
    "emp1.__dict__   # Get the entire Dictionary or the attributes of the object"
   ]
  },
  {
   "cell_type": "code",
   "execution_count": 98,
   "id": "cd674717",
   "metadata": {},
   "outputs": [
    {
     "data": {
      "text/plain": [
       "{'firstname': 'John',\n",
       " 'lastname': 'Francis',\n",
       " 'email': 'john@gmail.com',\n",
       " 'salary': 150000}"
      ]
     },
     "execution_count": 98,
     "metadata": {},
     "output_type": "execute_result"
    }
   ],
   "source": [
    "emp2.__dict__"
   ]
  },
  {
   "cell_type": "code",
   "execution_count": 99,
   "id": "6487fa23",
   "metadata": {},
   "outputs": [
    {
     "data": {
      "text/plain": [
       "{'firstname': 'Sammie',\n",
       " 'lastname': 'Jhonson',\n",
       " 'email': 'Sammie@gmail.com',\n",
       " 'salary': 750000}"
      ]
     },
     "execution_count": 99,
     "metadata": {},
     "output_type": "execute_result"
    }
   ],
   "source": [
    "emp3.__dict__"
   ]
  },
  {
   "cell_type": "code",
   "execution_count": 111,
   "id": "330c307f",
   "metadata": {},
   "outputs": [],
   "source": [
    "emp1.firstname=\"Kane\""
   ]
  },
  {
   "cell_type": "code",
   "execution_count": 112,
   "id": "46deceb3",
   "metadata": {},
   "outputs": [
    {
     "data": {
      "text/plain": [
       "{'firstname': 'Kane',\n",
       " 'lastname': 'Perera',\n",
       " 'email': 'sam@gmail.com',\n",
       " 'salary': 1000}"
      ]
     },
     "execution_count": 112,
     "metadata": {},
     "output_type": "execute_result"
    }
   ],
   "source": [
    "emp1.__dict__"
   ]
  },
  {
   "cell_type": "code",
   "execution_count": 113,
   "id": "f71ad09b",
   "metadata": {},
   "outputs": [],
   "source": [
    "emp1.lastname=\"Perera\""
   ]
  },
  {
   "cell_type": "code",
   "execution_count": 114,
   "id": "54dafa12",
   "metadata": {},
   "outputs": [
    {
     "data": {
      "text/plain": [
       "{'firstname': 'Kane',\n",
       " 'lastname': 'Perera',\n",
       " 'email': 'sam@gmail.com',\n",
       " 'salary': 1000}"
      ]
     },
     "execution_count": 114,
     "metadata": {},
     "output_type": "execute_result"
    }
   ],
   "source": [
    "emp1.__dict__"
   ]
  },
  {
   "cell_type": "code",
   "execution_count": null,
   "id": "5e8e6cd8",
   "metadata": {},
   "outputs": [],
   "source": []
  }
 ],
 "metadata": {
  "kernelspec": {
   "display_name": "Python 3 (ipykernel)",
   "language": "python",
   "name": "python3"
  },
  "language_info": {
   "codemirror_mode": {
    "name": "ipython",
    "version": 3
   },
   "file_extension": ".py",
   "mimetype": "text/x-python",
   "name": "python",
   "nbconvert_exporter": "python",
   "pygments_lexer": "ipython3",
   "version": "3.10.9"
  }
 },
 "nbformat": 4,
 "nbformat_minor": 5
}
