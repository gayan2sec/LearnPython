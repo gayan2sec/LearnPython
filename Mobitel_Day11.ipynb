{
 "cells": [
  {
   "cell_type": "markdown",
   "id": "6506306c",
   "metadata": {},
   "source": [
    "# Objects in python Explained more"
   ]
  },
  {
   "cell_type": "code",
   "execution_count": 1,
   "id": "0c6169de",
   "metadata": {},
   "outputs": [],
   "source": [
    "class Employee():   #<---------class name\n",
    "    def __init__(self,a,b,c,d):         # Values passing for the attributes\n",
    "        self.firstname=a                  # Attributes\n",
    "        self.lastname=b\n",
    "        self.email=c\n",
    "        self.salary=d\n",
    "        "
   ]
  },
  {
   "cell_type": "code",
   "execution_count": 2,
   "id": "a3073885",
   "metadata": {},
   "outputs": [],
   "source": [
    "emp1=Employee(\"Sam\",\"Taylor\",\"sam@gmail.com\",150000)"
   ]
  },
  {
   "cell_type": "code",
   "execution_count": 3,
   "id": "4a5ac761",
   "metadata": {},
   "outputs": [
    {
     "data": {
      "text/plain": [
       "150000"
      ]
     },
     "execution_count": 3,
     "metadata": {},
     "output_type": "execute_result"
    }
   ],
   "source": [
    "emp1.salary"
   ]
  },
  {
   "cell_type": "code",
   "execution_count": 4,
   "id": "52736f5c",
   "metadata": {},
   "outputs": [
    {
     "data": {
      "text/plain": [
       "'sam@gmail.com'"
      ]
     },
     "execution_count": 4,
     "metadata": {},
     "output_type": "execute_result"
    }
   ],
   "source": [
    "emp1.email"
   ]
  },
  {
   "cell_type": "code",
   "execution_count": 6,
   "id": "ffe56339",
   "metadata": {},
   "outputs": [],
   "source": [
    "emp2=Employee(\"Kamal\",\"Perera\",\"kamalp@gmail.com\",1340000)"
   ]
  },
  {
   "cell_type": "code",
   "execution_count": 7,
   "id": "5ec90d82",
   "metadata": {},
   "outputs": [
    {
     "data": {
      "text/plain": [
       "'kamalp@gmail.com'"
      ]
     },
     "execution_count": 7,
     "metadata": {},
     "output_type": "execute_result"
    }
   ],
   "source": [
    "emp2.email"
   ]
  },
  {
   "cell_type": "code",
   "execution_count": 8,
   "id": "a9f72d73",
   "metadata": {},
   "outputs": [
    {
     "data": {
      "text/plain": [
       "'sam@gmail.com'"
      ]
     },
     "execution_count": 8,
     "metadata": {},
     "output_type": "execute_result"
    }
   ],
   "source": [
    "emp1.email"
   ]
  },
  {
   "cell_type": "code",
   "execution_count": 26,
   "id": "35f63a43",
   "metadata": {},
   "outputs": [],
   "source": [
    "class Employee():   #<---------class name\n",
    "    def __init__(self,a,b,c,d):         # Values passing for the attributes\n",
    "        self.firstname=a                  # Attributes\n",
    "        self.lastname=b\n",
    "        self.email=c\n",
    "        self.salary=d\n",
    "        \n",
    "    def salary_msg(self):\n",
    "         return \"{} earns {}\".format(self.firstname,self.salary)   \n",
    "    \n",
    "    def salary_bonus(self,p):\n",
    "        return self.salary*p"
   ]
  },
  {
   "cell_type": "code",
   "execution_count": 20,
   "id": "39b72f08",
   "metadata": {},
   "outputs": [],
   "source": [
    "emp1=Employee(\"Sam\",\"Taylor\",\"sam@gmail.com\",150000)\n",
    "emp2=Employee(\"Kamal\",\"Perera\",\"kamalp@gmail.com\",1340000)"
   ]
  },
  {
   "cell_type": "code",
   "execution_count": 14,
   "id": "6064cfdc",
   "metadata": {},
   "outputs": [
    {
     "data": {
      "text/plain": [
       "'Sam earns 150000'"
      ]
     },
     "execution_count": 14,
     "metadata": {},
     "output_type": "execute_result"
    }
   ],
   "source": [
    "emp1.salary_msg()"
   ]
  },
  {
   "cell_type": "code",
   "execution_count": 15,
   "id": "e9a99475",
   "metadata": {},
   "outputs": [
    {
     "data": {
      "text/plain": [
       "'Kamal earns 1340000'"
      ]
     },
     "execution_count": 15,
     "metadata": {},
     "output_type": "execute_result"
    }
   ],
   "source": [
    "emp2.salary_msg()"
   ]
  },
  {
   "cell_type": "code",
   "execution_count": 24,
   "id": "299a44a8",
   "metadata": {},
   "outputs": [
    {
     "data": {
      "text/plain": [
       "75000.0"
      ]
     },
     "execution_count": 24,
     "metadata": {},
     "output_type": "execute_result"
    }
   ],
   "source": [
    "emp1.salary_bonus(0.5)"
   ]
  },
  {
   "cell_type": "code",
   "execution_count": 27,
   "id": "618eae33",
   "metadata": {},
   "outputs": [
    {
     "data": {
      "text/plain": [
       "402000.0"
      ]
     },
     "execution_count": 27,
     "metadata": {},
     "output_type": "execute_result"
    }
   ],
   "source": [
    "emp2.salary_bonus(0.3)"
   ]
  },
  {
   "cell_type": "code",
   "execution_count": 29,
   "id": "01f1b0f5",
   "metadata": {},
   "outputs": [],
   "source": [
    "class Exam_Marks():\n",
    "    def __init__(self,mm,sm,em):\n",
    "        self.maths=mm\n",
    "        self.science=sm\n",
    "        self.english=em"
   ]
  },
  {
   "cell_type": "code",
   "execution_count": 41,
   "id": "4071db77",
   "metadata": {},
   "outputs": [],
   "source": [
    "c1=Exam_Marks([23,34,56,67,45],[43,56,73,85,45],[23,54,56,75,75])"
   ]
  },
  {
   "cell_type": "code",
   "execution_count": 31,
   "id": "358b9e53",
   "metadata": {},
   "outputs": [
    {
     "data": {
      "text/plain": [
       "[23, 34, 56, 67, 45]"
      ]
     },
     "execution_count": 31,
     "metadata": {},
     "output_type": "execute_result"
    }
   ],
   "source": [
    "c1.maths"
   ]
  },
  {
   "cell_type": "code",
   "execution_count": 32,
   "id": "0591ea44",
   "metadata": {},
   "outputs": [
    {
     "data": {
      "text/plain": [
       "[23, 54, 56, 75, 75]"
      ]
     },
     "execution_count": 32,
     "metadata": {},
     "output_type": "execute_result"
    }
   ],
   "source": [
    "c1.english"
   ]
  },
  {
   "cell_type": "code",
   "execution_count": 39,
   "id": "2e4c4ae1",
   "metadata": {},
   "outputs": [],
   "source": [
    "class Exam_Marks():\n",
    "    def __init__(self,mm,sm,em):\n",
    "        self.maths=mm\n",
    "        self.science=sm\n",
    "        self.english=em\n",
    "        \n",
    "    def get_total(self):\n",
    "        return {\"Maths\":sum(self.maths),\"Science\":sum(self.science),\"English\":sum(self.english)}"
   ]
  },
  {
   "cell_type": "code",
   "execution_count": 40,
   "id": "edaa0844",
   "metadata": {},
   "outputs": [
    {
     "data": {
      "text/plain": [
       "[23, 34, 56, 67, 45]"
      ]
     },
     "execution_count": 40,
     "metadata": {},
     "output_type": "execute_result"
    }
   ],
   "source": [
    "c1.maths"
   ]
  },
  {
   "cell_type": "code",
   "execution_count": 44,
   "id": "0adf9ac3",
   "metadata": {},
   "outputs": [],
   "source": [
    "c1=Exam_Marks([23,34,56,67,45],[43,56,73,85,45],[23,54,56,75,75])"
   ]
  },
  {
   "cell_type": "code",
   "execution_count": 45,
   "id": "8fc43544",
   "metadata": {},
   "outputs": [
    {
     "data": {
      "text/plain": [
       "{'Maths': 225, 'Science': 302, 'English': 283}"
      ]
     },
     "execution_count": 45,
     "metadata": {},
     "output_type": "execute_result"
    }
   ],
   "source": [
    "c1.get_total()"
   ]
  },
  {
   "cell_type": "code",
   "execution_count": null,
   "id": "9f5b2279",
   "metadata": {},
   "outputs": [],
   "source": []
  }
 ],
 "metadata": {
  "kernelspec": {
   "display_name": "Python 3 (ipykernel)",
   "language": "python",
   "name": "python3"
  },
  "language_info": {
   "codemirror_mode": {
    "name": "ipython",
    "version": 3
   },
   "file_extension": ".py",
   "mimetype": "text/x-python",
   "name": "python",
   "nbconvert_exporter": "python",
   "pygments_lexer": "ipython3",
   "version": "3.10.9"
  }
 },
 "nbformat": 4,
 "nbformat_minor": 5
}
