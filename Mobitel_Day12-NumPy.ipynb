{
 "cells": [
  {
   "cell_type": "markdown",
   "id": "4801270f",
   "metadata": {},
   "source": [
    "# NumPy \n",
    "NumPy is a Python library used for working with arrays. \n",
    "NumPy stands for Numerical Python.\n",
    "It also has functions for working in domain of linear algebra, fourier transform, and matrices. "
   ]
  },
  {
   "cell_type": "code",
   "execution_count": 6,
   "id": "6589f43b",
   "metadata": {},
   "outputs": [],
   "source": [
    "import numpy as np  # import numpy library to the Jupiter"
   ]
  },
  {
   "cell_type": "code",
   "execution_count": 8,
   "id": "b9a66bda",
   "metadata": {},
   "outputs": [
    {
     "data": {
      "text/plain": [
       "5.0"
      ]
     },
     "execution_count": 8,
     "metadata": {},
     "output_type": "execute_result"
    }
   ],
   "source": [
    "np.sqrt(25)  # test some functions in numpy library"
   ]
  },
  {
   "cell_type": "code",
   "execution_count": 5,
   "id": "bee979de",
   "metadata": {},
   "outputs": [
    {
     "data": {
      "text/plain": [
       "9"
      ]
     },
     "execution_count": 5,
     "metadata": {},
     "output_type": "execute_result"
    }
   ],
   "source": [
    "np.power(3,2)"
   ]
  },
  {
   "cell_type": "code",
   "execution_count": 9,
   "id": "9c22c363",
   "metadata": {},
   "outputs": [
    {
     "data": {
      "text/plain": [
       "20.085536923187668"
      ]
     },
     "execution_count": 9,
     "metadata": {},
     "output_type": "execute_result"
    }
   ],
   "source": [
    "np.exp(3)"
   ]
  },
  {
   "cell_type": "code",
   "execution_count": 10,
   "id": "1b30a796",
   "metadata": {},
   "outputs": [
    {
     "data": {
      "text/plain": [
       "-0.3048106211022167"
      ]
     },
     "execution_count": 10,
     "metadata": {},
     "output_type": "execute_result"
    }
   ],
   "source": [
    "np.sin(60)"
   ]
  },
  {
   "cell_type": "code",
   "execution_count": 11,
   "id": "5e7476ee",
   "metadata": {},
   "outputs": [
    {
     "data": {
      "text/plain": [
       "0.5253219888177297"
      ]
     },
     "execution_count": 11,
     "metadata": {},
     "output_type": "execute_result"
    }
   ],
   "source": [
    "np.cos(45)"
   ]
  },
  {
   "cell_type": "code",
   "execution_count": 15,
   "id": "b555828e",
   "metadata": {},
   "outputs": [
    {
     "data": {
      "text/plain": [
       "-6.405331196646276"
      ]
     },
     "execution_count": 15,
     "metadata": {},
     "output_type": "execute_result"
    }
   ],
   "source": [
    "np.tan(30)"
   ]
  },
  {
   "cell_type": "code",
   "execution_count": 16,
   "id": "a0095ce8",
   "metadata": {},
   "outputs": [
    {
     "data": {
      "text/plain": [
       "1.3862943611198906"
      ]
     },
     "execution_count": 16,
     "metadata": {},
     "output_type": "execute_result"
    }
   ],
   "source": [
    "np.log(4)"
   ]
  },
  {
   "cell_type": "code",
   "execution_count": 18,
   "id": "50377d33",
   "metadata": {},
   "outputs": [
    {
     "data": {
      "text/plain": [
       "11.0"
      ]
     },
     "execution_count": 18,
     "metadata": {},
     "output_type": "execute_result"
    }
   ],
   "source": [
    "np.round(10.565)"
   ]
  },
  {
   "cell_type": "code",
   "execution_count": 19,
   "id": "53f17198",
   "metadata": {},
   "outputs": [
    {
     "data": {
      "text/plain": [
       "10.0"
      ]
     },
     "execution_count": 19,
     "metadata": {},
     "output_type": "execute_result"
    }
   ],
   "source": [
    "np.round(10.465)"
   ]
  },
  {
   "cell_type": "code",
   "execution_count": 22,
   "id": "4f9bf277",
   "metadata": {},
   "outputs": [
    {
     "data": {
      "text/plain": [
       "3.141592653589793"
      ]
     },
     "execution_count": 22,
     "metadata": {},
     "output_type": "execute_result"
    }
   ],
   "source": [
    "np.pi  # pi value"
   ]
  },
  {
   "cell_type": "code",
   "execution_count": 25,
   "id": "18bc7337",
   "metadata": {},
   "outputs": [
    {
     "data": {
      "text/plain": [
       "2.718281828459045"
      ]
     },
     "execution_count": 25,
     "metadata": {},
     "output_type": "execute_result"
    }
   ],
   "source": [
    "np.e  # eulers value  or 'e' value"
   ]
  },
  {
   "cell_type": "code",
   "execution_count": 31,
   "id": "4b169db2",
   "metadata": {},
   "outputs": [
    {
     "data": {
      "text/plain": [
       "inf"
      ]
     },
     "execution_count": 31,
     "metadata": {},
     "output_type": "execute_result"
    }
   ],
   "source": [
    "np.inf  # to use as infinity in python or +ve infinity"
   ]
  },
  {
   "cell_type": "code",
   "execution_count": 30,
   "id": "331b33bd",
   "metadata": {},
   "outputs": [
    {
     "data": {
      "text/plain": [
       "-inf"
      ]
     },
     "execution_count": 30,
     "metadata": {},
     "output_type": "execute_result"
    }
   ],
   "source": [
    "np.NINF # -ve infinity"
   ]
  },
  {
   "cell_type": "code",
   "execution_count": 29,
   "id": "2efac971",
   "metadata": {},
   "outputs": [
    {
     "data": {
      "text/plain": [
       "-inf"
      ]
     },
     "execution_count": 29,
     "metadata": {},
     "output_type": "execute_result"
    }
   ],
   "source": [
    "-np.inf  # can use as -ve infinity also"
   ]
  },
  {
   "cell_type": "code",
   "execution_count": 32,
   "id": "959f4f3a",
   "metadata": {},
   "outputs": [],
   "source": [
    "import numpy as np"
   ]
  },
  {
   "cell_type": "code",
   "execution_count": 33,
   "id": "fcc38b5d",
   "metadata": {},
   "outputs": [
    {
     "data": {
      "text/plain": [
       "array([23, 21, 45, 46, 78])"
      ]
     },
     "execution_count": 33,
     "metadata": {},
     "output_type": "execute_result"
    }
   ],
   "source": [
    "a=np.array([23,21,45,46,78]) # one dimentional array with 5 elements\n",
    "a"
   ]
  },
  {
   "cell_type": "code",
   "execution_count": 65,
   "id": "2dc4aa81",
   "metadata": {},
   "outputs": [
    {
     "data": {
      "text/plain": [
       "[[21, 44, 56], [54, 34, 67], [45, 34, 56]]"
      ]
     },
     "execution_count": 65,
     "metadata": {},
     "output_type": "execute_result"
    }
   ],
   "source": [
    "[[21,44,56],[54,34,67],[45,34,56]] #i.e lists within lists or  nested lists is a two dimentional array"
   ]
  },
  {
   "cell_type": "code",
   "execution_count": 41,
   "id": "a75a9ee3",
   "metadata": {},
   "outputs": [
    {
     "data": {
      "text/plain": [
       "array([[21, 44, 56],\n",
       "       [54, 34, 67],\n",
       "       [45, 34, 56]])"
      ]
     },
     "execution_count": 41,
     "metadata": {},
     "output_type": "execute_result"
    }
   ],
   "source": [
    "b=np.array([[21,44,56],[54,34,67],[45,34,56]]) #Two dimentional arrays.. We use nested lists here. i.e lists within lists\n",
    "b                                              #Two dimentional arrays means it is having rows as well as columns"
   ]
  },
  {
   "cell_type": "code",
   "execution_count": 42,
   "id": "13d2607d",
   "metadata": {},
   "outputs": [
    {
     "data": {
      "text/plain": [
       "(5,)"
      ]
     },
     "execution_count": 42,
     "metadata": {},
     "output_type": "execute_result"
    }
   ],
   "source": [
    "a.shape"
   ]
  },
  {
   "cell_type": "code",
   "execution_count": 43,
   "id": "1264095a",
   "metadata": {},
   "outputs": [
    {
     "data": {
      "text/plain": [
       "(3, 3)"
      ]
     },
     "execution_count": 43,
     "metadata": {},
     "output_type": "execute_result"
    }
   ],
   "source": [
    "b.shape"
   ]
  },
  {
   "cell_type": "code",
   "execution_count": 46,
   "id": "5101a0a5",
   "metadata": {},
   "outputs": [
    {
     "name": "stdout",
     "output_type": "stream",
     "text": [
      "(5,)\n",
      "(3, 3)\n"
     ]
    }
   ],
   "source": [
    "print(a.shape)   # one dimentional array only shows the count of elements\n",
    "print(b.shape)   # multi dimention arrays shows row count and column count"
   ]
  },
  {
   "cell_type": "code",
   "execution_count": 49,
   "id": "ad53925b",
   "metadata": {},
   "outputs": [
    {
     "name": "stdout",
     "output_type": "stream",
     "text": [
      "1\n",
      "2\n"
     ]
    }
   ],
   "source": [
    "print(a.ndim)  # get the number of dimentions as one \n",
    "print(b.ndim)  # get the number of dimentions as 2 "
   ]
  },
  {
   "cell_type": "code",
   "execution_count": 50,
   "id": "286f695d",
   "metadata": {},
   "outputs": [
    {
     "name": "stdout",
     "output_type": "stream",
     "text": [
      "int32\n",
      "int32\n"
     ]
    }
   ],
   "source": [
    "print(a.dtype)  # get the data type\n",
    "print(b.dtype)  # get the data type"
   ]
  },
  {
   "cell_type": "code",
   "execution_count": 54,
   "id": "285119fc",
   "metadata": {},
   "outputs": [
    {
     "name": "stdout",
     "output_type": "stream",
     "text": [
      "5\n",
      "9\n"
     ]
    }
   ],
   "source": [
    "print(a.size)   # get the size of array or the element count of the array\n",
    "print(b.size)   # get the size of array or the element count of the array"
   ]
  },
  {
   "cell_type": "code",
   "execution_count": 62,
   "id": "2d0bb644",
   "metadata": {},
   "outputs": [],
   "source": [
    "c=np.array([23,'2',45,46,78]) "
   ]
  },
  {
   "cell_type": "code",
   "execution_count": 63,
   "id": "e4a63853",
   "metadata": {},
   "outputs": [
    {
     "name": "stdout",
     "output_type": "stream",
     "text": [
      "5\n"
     ]
    }
   ],
   "source": [
    "print(c.size) "
   ]
  },
  {
   "cell_type": "code",
   "execution_count": 64,
   "id": "c0164c58",
   "metadata": {},
   "outputs": [
    {
     "name": "stdout",
     "output_type": "stream",
     "text": [
      "<U11\n"
     ]
    }
   ],
   "source": [
    "print(c.dtype) "
   ]
  },
  {
   "cell_type": "code",
   "execution_count": 66,
   "id": "8634a4f4",
   "metadata": {},
   "outputs": [],
   "source": [
    "import numpy as np"
   ]
  },
  {
   "cell_type": "code",
   "execution_count": 67,
   "id": "b7aae01c",
   "metadata": {},
   "outputs": [
    {
     "data": {
      "text/plain": [
       "array([23, 21, 45, 46, 78])"
      ]
     },
     "execution_count": 67,
     "metadata": {},
     "output_type": "execute_result"
    }
   ],
   "source": [
    "a=np.array([23,21,45,46,78]) # one dimentional array with 5 elements\n",
    "a"
   ]
  },
  {
   "cell_type": "code",
   "execution_count": 68,
   "id": "06d7eb96",
   "metadata": {},
   "outputs": [
    {
     "data": {
      "text/plain": [
       "(5,)"
      ]
     },
     "execution_count": 68,
     "metadata": {},
     "output_type": "execute_result"
    }
   ],
   "source": [
    "a.shape # number of elements"
   ]
  },
  {
   "cell_type": "code",
   "execution_count": 69,
   "id": "d7ee6a24",
   "metadata": {},
   "outputs": [
    {
     "data": {
      "text/plain": [
       "array([ 23,  21,  45,  46,  78,  34, 454,  54,  56,  76,  46,  86])"
      ]
     },
     "execution_count": 69,
     "metadata": {},
     "output_type": "execute_result"
    }
   ],
   "source": [
    "a=np.array([23,21,45,46,78,34,454,54,56,76,46,86]) # one dimentional array\n",
    "a"
   ]
  },
  {
   "cell_type": "code",
   "execution_count": 70,
   "id": "5a329a52",
   "metadata": {},
   "outputs": [
    {
     "data": {
      "text/plain": [
       "(12,)"
      ]
     },
     "execution_count": 70,
     "metadata": {},
     "output_type": "execute_result"
    }
   ],
   "source": [
    "a.shape  # Array has 12 elements like 12 columns"
   ]
  },
  {
   "cell_type": "code",
   "execution_count": 71,
   "id": "c8a78c6e",
   "metadata": {},
   "outputs": [
    {
     "data": {
      "text/plain": [
       "array([[ 23,  21,  45],\n",
       "       [ 46,  78,  34],\n",
       "       [454,  54,  56],\n",
       "       [ 76,  46,  86]])"
      ]
     },
     "execution_count": 71,
     "metadata": {},
     "output_type": "execute_result"
    }
   ],
   "source": [
    "a.shape=(4,3) #Reshaping the array elements\n",
    "a           # create 4 * 3 =12 elements array of 4 rows 3 columns"
   ]
  },
  {
   "cell_type": "code",
   "execution_count": 72,
   "id": "930d0a09",
   "metadata": {},
   "outputs": [
    {
     "data": {
      "text/plain": [
       "array([[ 23,  21,  45,  46],\n",
       "       [ 78,  34, 454,  54],\n",
       "       [ 56,  76,  46,  86]])"
      ]
     },
     "execution_count": 72,
     "metadata": {},
     "output_type": "execute_result"
    }
   ],
   "source": [
    "a.shape=(3,4) #Reshaping the array elements\n",
    "a           # create 3 * 4 =12 elements array of 3 rows 4 columns"
   ]
  },
  {
   "cell_type": "code",
   "execution_count": 73,
   "id": "585db36a",
   "metadata": {},
   "outputs": [
    {
     "data": {
      "text/plain": [
       "array([[ 23,  21,  45,  46,  78,  34, 454,  54,  56,  76,  46,  86]])"
      ]
     },
     "execution_count": 73,
     "metadata": {},
     "output_type": "execute_result"
    }
   ],
   "source": [
    "a.shape=(1,12)\n",
    "a"
   ]
  },
  {
   "cell_type": "code",
   "execution_count": 74,
   "id": "3af71aae",
   "metadata": {},
   "outputs": [
    {
     "data": {
      "text/plain": [
       "array([[ 23,  21],\n",
       "       [ 45,  46],\n",
       "       [ 78,  34],\n",
       "       [454,  54],\n",
       "       [ 56,  76],\n",
       "       [ 46,  86]])"
      ]
     },
     "execution_count": 74,
     "metadata": {},
     "output_type": "execute_result"
    }
   ],
   "source": [
    "a.shape=(6,2)  # create 6 * 2 =12 elements  6 rows 2 columns\n",
    "a"
   ]
  },
  {
   "cell_type": "code",
   "execution_count": 75,
   "id": "89241215",
   "metadata": {},
   "outputs": [
    {
     "data": {
      "text/plain": [
       "array([[ 23,  21,  45,  46,  78,  34],\n",
       "       [454,  54,  56,  76,  46,  86]])"
      ]
     },
     "execution_count": 75,
     "metadata": {},
     "output_type": "execute_result"
    }
   ],
   "source": [
    "a.shape=(2,6)  # create 2 * 6 =12 elements  2 rows 6 columns\n",
    "a"
   ]
  },
  {
   "cell_type": "code",
   "execution_count": 76,
   "id": "19c04eea",
   "metadata": {},
   "outputs": [
    {
     "data": {
      "text/plain": [
       "array([[21, 44, 56],\n",
       "       [54, 34, 67],\n",
       "       [45, 34, 56]])"
      ]
     },
     "execution_count": 76,
     "metadata": {},
     "output_type": "execute_result"
    }
   ],
   "source": [
    "b=np.array([[21,44,56],[54,34,67],[45,34,56]]) #two dimentional array\n",
    "b"
   ]
  },
  {
   "cell_type": "code",
   "execution_count": 77,
   "id": "e5ecd7a8",
   "metadata": {},
   "outputs": [
    {
     "data": {
      "text/plain": [
       "(3, 3)"
      ]
     },
     "execution_count": 77,
     "metadata": {},
     "output_type": "execute_result"
    }
   ],
   "source": [
    "b.shape # Array of 3 rows and 3 cloumns"
   ]
  },
  {
   "cell_type": "code",
   "execution_count": 78,
   "id": "7cca3654",
   "metadata": {},
   "outputs": [
    {
     "data": {
      "text/plain": [
       "array([[2, 1, 4],\n",
       "       [6, 5, 6]])"
      ]
     },
     "execution_count": 78,
     "metadata": {},
     "output_type": "execute_result"
    }
   ],
   "source": [
    "c=np.array([2,1,4,6,5,6]).reshape(2,3) # at the moment you create the array you tell the shape\n",
    "c"
   ]
  },
  {
   "cell_type": "code",
   "execution_count": 79,
   "id": "3c7f5449",
   "metadata": {},
   "outputs": [
    {
     "data": {
      "text/plain": [
       "array([[21, 44, 56],\n",
       "       [54, 34, 67]])"
      ]
     },
     "execution_count": 79,
     "metadata": {},
     "output_type": "execute_result"
    }
   ],
   "source": [
    "b=np.array([[21,44,56],[54,34,67]]) #two dimentional array\n",
    "b"
   ]
  },
  {
   "cell_type": "code",
   "execution_count": 80,
   "id": "5719bbef",
   "metadata": {},
   "outputs": [
    {
     "data": {
      "text/plain": [
       "array([[21, 44, 56],\n",
       "       [54, 34, 67],\n",
       "       [45, 34, 56]])"
      ]
     },
     "execution_count": 80,
     "metadata": {},
     "output_type": "execute_result"
    }
   ],
   "source": [
    "b=np.array([[21,44,56],[54,34,67],[45,34,56]]) #two dimentional array\n",
    "b"
   ]
  },
  {
   "cell_type": "code",
   "execution_count": 81,
   "id": "79e204d1",
   "metadata": {},
   "outputs": [
    {
     "data": {
      "text/plain": [
       "array([0., 0., 0., 0., 0., 0., 0., 0., 0., 0.])"
      ]
     },
     "execution_count": 81,
     "metadata": {},
     "output_type": "execute_result"
    }
   ],
   "source": [
    "np.zeros(10) # 0 elements 10"
   ]
  },
  {
   "cell_type": "code",
   "execution_count": 82,
   "id": "9cfcf84e",
   "metadata": {},
   "outputs": [
    {
     "data": {
      "text/plain": [
       "array([[0., 0., 0., 0.],\n",
       "       [0., 0., 0., 0.],\n",
       "       [0., 0., 0., 0.],\n",
       "       [0., 0., 0., 0.]])"
      ]
     },
     "execution_count": 82,
     "metadata": {},
     "output_type": "execute_result"
    }
   ],
   "source": [
    "np.zeros((4,4)) # Row=4,Column=4  filled with 0"
   ]
  },
  {
   "cell_type": "code",
   "execution_count": 83,
   "id": "fcd6444f",
   "metadata": {},
   "outputs": [
    {
     "data": {
      "text/plain": [
       "array([[0., 0., 0.],\n",
       "       [0., 0., 0.]])"
      ]
     },
     "execution_count": 83,
     "metadata": {},
     "output_type": "execute_result"
    }
   ],
   "source": [
    "np.zeros((2,3)) # Row=2,Column=3 filled with 0"
   ]
  },
  {
   "cell_type": "code",
   "execution_count": 84,
   "id": "0d38c49c",
   "metadata": {},
   "outputs": [
    {
     "data": {
      "text/plain": [
       "array([1., 1., 1., 1., 1., 1., 1., 1., 1., 1.])"
      ]
     },
     "execution_count": 84,
     "metadata": {},
     "output_type": "execute_result"
    }
   ],
   "source": [
    "np.ones(10)  # Array of 10 elements filled with 1"
   ]
  },
  {
   "cell_type": "code",
   "execution_count": 85,
   "id": "eaf78945",
   "metadata": {},
   "outputs": [
    {
     "data": {
      "text/plain": [
       "array([1., 1., 1., 1.])"
      ]
     },
     "execution_count": 85,
     "metadata": {},
     "output_type": "execute_result"
    }
   ],
   "source": [
    "np.ones(4) # Array of 4 elements filled with 1"
   ]
  },
  {
   "cell_type": "code",
   "execution_count": 86,
   "id": "9abbefcc",
   "metadata": {},
   "outputs": [
    {
     "data": {
      "text/plain": [
       "array([[1., 1.],\n",
       "       [1., 1.],\n",
       "       [1., 1.]])"
      ]
     },
     "execution_count": 86,
     "metadata": {},
     "output_type": "execute_result"
    }
   ],
   "source": [
    "np.ones((3,2))   # Row=3,Column=2"
   ]
  },
  {
   "cell_type": "code",
   "execution_count": 87,
   "id": "9bac8bfa",
   "metadata": {},
   "outputs": [
    {
     "data": {
      "text/plain": [
       "array([[1., 1., 1.],\n",
       "       [1., 1., 1.]])"
      ]
     },
     "execution_count": 87,
     "metadata": {},
     "output_type": "execute_result"
    }
   ],
   "source": [
    "np.ones((2,3))   # Row=2,Column=3"
   ]
  },
  {
   "cell_type": "code",
   "execution_count": null,
   "id": "f6dcd239",
   "metadata": {},
   "outputs": [],
   "source": []
  }
 ],
 "metadata": {
  "kernelspec": {
   "display_name": "Python 3 (ipykernel)",
   "language": "python",
   "name": "python3"
  },
  "language_info": {
   "codemirror_mode": {
    "name": "ipython",
    "version": 3
   },
   "file_extension": ".py",
   "mimetype": "text/x-python",
   "name": "python",
   "nbconvert_exporter": "python",
   "pygments_lexer": "ipython3",
   "version": "3.10.9"
  }
 },
 "nbformat": 4,
 "nbformat_minor": 5
}
