{
 "cells": [
  {
   "cell_type": "code",
   "execution_count": 8,
   "id": "b7cdaf57",
   "metadata": {},
   "outputs": [],
   "source": [
    "import numpy as np"
   ]
  },
  {
   "cell_type": "code",
   "execution_count": 111,
   "id": "23968c14",
   "metadata": {},
   "outputs": [
    {
     "data": {
      "text/plain": [
       "5"
      ]
     },
     "execution_count": 111,
     "metadata": {},
     "output_type": "execute_result"
    }
   ],
   "source": [
    "np.random.randint(1,7) # gives an element with value  1 =<x <7"
   ]
  },
  {
   "cell_type": "code",
   "execution_count": 102,
   "id": "f8568b24",
   "metadata": {},
   "outputs": [
    {
     "data": {
      "text/plain": [
       "array([4, 4, 3, 4, 4, 5, 5, 4, 2, 2])"
      ]
     },
     "execution_count": 102,
     "metadata": {},
     "output_type": "execute_result"
    }
   ],
   "source": [
    "np.random.randint(1,7,10)"
   ]
  },
  {
   "cell_type": "code",
   "execution_count": 99,
   "id": "d585f035",
   "metadata": {},
   "outputs": [
    {
     "data": {
      "text/plain": [
       "array([2, 3, 1, 1, 2])"
      ]
     },
     "execution_count": 99,
     "metadata": {},
     "output_type": "execute_result"
    }
   ],
   "source": [
    "np.random.randint(1,7,5)"
   ]
  },
  {
   "cell_type": "code",
   "execution_count": 100,
   "id": "10e1ceb2",
   "metadata": {},
   "outputs": [
    {
     "data": {
      "text/plain": [
       "array([4, 2, 5])"
      ]
     },
     "execution_count": 100,
     "metadata": {},
     "output_type": "execute_result"
    }
   ],
   "source": [
    "np.random.randint(1,7,3)"
   ]
  },
  {
   "cell_type": "code",
   "execution_count": 18,
   "id": "96de3b27",
   "metadata": {},
   "outputs": [
    {
     "data": {
      "text/plain": [
       "array([[5, 2, 1, 6],\n",
       "       [6, 1, 3, 2]])"
      ]
     },
     "execution_count": 18,
     "metadata": {},
     "output_type": "execute_result"
    }
   ],
   "source": [
    "np.random.randint(1,7,(2,4))"
   ]
  },
  {
   "cell_type": "code",
   "execution_count": 19,
   "id": "f9178b64",
   "metadata": {},
   "outputs": [
    {
     "data": {
      "text/plain": [
       "array([[1, 6, 5, 3, 4, 1, 2],\n",
       "       [6, 2, 4, 5, 2, 2, 6],\n",
       "       [1, 4, 6, 4, 4, 3, 4],\n",
       "       [2, 5, 3, 3, 4, 5, 1],\n",
       "       [1, 4, 5, 5, 2, 2, 6]])"
      ]
     },
     "execution_count": 19,
     "metadata": {},
     "output_type": "execute_result"
    }
   ],
   "source": [
    "np.random.randint(1,7,(5,7))"
   ]
  },
  {
   "cell_type": "code",
   "execution_count": 24,
   "id": "3eeb0099",
   "metadata": {},
   "outputs": [
    {
     "data": {
      "text/plain": [
       "array([0.4462066 , 0.76139906, 0.02995654, 0.16826628, 0.77091907])"
      ]
     },
     "execution_count": 24,
     "metadata": {},
     "output_type": "execute_result"
    }
   ],
   "source": [
    "np.random.random(5)  #gives 5 different decimals/float from 0 - 1"
   ]
  },
  {
   "cell_type": "code",
   "execution_count": 23,
   "id": "c5c6a355",
   "metadata": {},
   "outputs": [
    {
     "data": {
      "text/plain": [
       "array([[0.17032396, 0.12840752],\n",
       "       [0.58624758, 0.61924049],\n",
       "       [0.14043798, 0.09140799],\n",
       "       [0.82353896, 0.87696843],\n",
       "       [0.30952377, 0.79851729]])"
      ]
     },
     "execution_count": 23,
     "metadata": {},
     "output_type": "execute_result"
    }
   ],
   "source": [
    "np.random.random((5,2))"
   ]
  },
  {
   "cell_type": "code",
   "execution_count": 27,
   "id": "445fbfb7",
   "metadata": {},
   "outputs": [
    {
     "data": {
      "text/plain": [
       "array([[0.03795117, 0.19200452, 0.2202054 , 0.06329801],\n",
       "       [0.66915958, 0.93816782, 0.57159455, 0.28833579],\n",
       "       [0.70131645, 0.05519845, 0.26790147, 0.60955887],\n",
       "       [0.60535831, 0.46984453, 0.1613901 , 0.97797167],\n",
       "       [0.61965355, 0.4236447 , 0.37253218, 0.92686652]])"
      ]
     },
     "execution_count": 27,
     "metadata": {},
     "output_type": "execute_result"
    }
   ],
   "source": [
    "np.random.random((5,4))  # 5 row 4 col decimals less than 1"
   ]
  },
  {
   "cell_type": "code",
   "execution_count": 49,
   "id": "d3969b28",
   "metadata": {},
   "outputs": [
    {
     "data": {
      "text/plain": [
       "2.059007350334727"
      ]
     },
     "execution_count": 49,
     "metadata": {},
     "output_type": "execute_result"
    }
   ],
   "source": [
    "np.random.uniform(1,5)  # gives a decimal from 1> x <5  "
   ]
  },
  {
   "cell_type": "code",
   "execution_count": 61,
   "id": "cfdfb25d",
   "metadata": {},
   "outputs": [
    {
     "data": {
      "text/plain": [
       "11.446530008038089"
      ]
     },
     "execution_count": 61,
     "metadata": {},
     "output_type": "execute_result"
    }
   ],
   "source": [
    "np.random.uniform(6,12)  # gives a decimal from 6> x <12  "
   ]
  },
  {
   "cell_type": "code",
   "execution_count": 66,
   "id": "3c394a40",
   "metadata": {},
   "outputs": [
    {
     "data": {
      "text/plain": [
       "array([2.50249116, 5.23492151, 6.40344722, 4.46090307, 3.17561703])"
      ]
     },
     "execution_count": 66,
     "metadata": {},
     "output_type": "execute_result"
    }
   ],
   "source": [
    "np.random.uniform(2,7,5) # gives a 5 element array with decimals starting from 2> x <7  "
   ]
  },
  {
   "cell_type": "code",
   "execution_count": 67,
   "id": "732638de",
   "metadata": {},
   "outputs": [
    {
     "data": {
      "text/plain": [
       "array([[7.70369684, 5.97210258, 5.90774089],\n",
       "       [3.35414985, 7.23982186, 4.64692127],\n",
       "       [6.33590373, 8.13342908, 4.30772621]])"
      ]
     },
     "execution_count": 67,
     "metadata": {},
     "output_type": "execute_result"
    }
   ],
   "source": [
    "np.random.uniform(3,9,(3,3)) # gives a 3 row by 3 col two dimentional array with elements having decimals starting from 3> x <9  "
   ]
  },
  {
   "cell_type": "code",
   "execution_count": 70,
   "id": "d8ddad1a",
   "metadata": {},
   "outputs": [
    {
     "data": {
      "text/plain": [
       "array([[8.7293385 , 5.78891673, 5.86244355, 6.12586195],\n",
       "       [7.94506301, 8.58336156, 7.73538292, 5.52770737]])"
      ]
     },
     "execution_count": 70,
     "metadata": {},
     "output_type": "execute_result"
    }
   ],
   "source": [
    "np.random.uniform(3,9,(2,4)) # gives a 2 row by 4 col two dimentional array with elements having decimals starting from 3> x <9  "
   ]
  },
  {
   "cell_type": "code",
   "execution_count": 124,
   "id": "150be1fb",
   "metadata": {},
   "outputs": [
    {
     "data": {
      "text/plain": [
       "array([[7.81387469, 3.42703346, 5.61261522, 8.29758616],\n",
       "       [5.14005469, 5.49424564, 3.31057249, 3.34608755]])"
      ]
     },
     "execution_count": 124,
     "metadata": {},
     "output_type": "execute_result"
    }
   ],
   "source": [
    "x=np.random.uniform(3,9,(2,4)) # gives a 2 row by 4 col two dimentional array with elements having decimals starting from 3> x <9 \n",
    "x"
   ]
  },
  {
   "cell_type": "code",
   "execution_count": 133,
   "id": "b2c78609",
   "metadata": {},
   "outputs": [
    {
     "data": {
      "text/plain": [
       "(4, 2)"
      ]
     },
     "execution_count": 133,
     "metadata": {},
     "output_type": "execute_result"
    }
   ],
   "source": [
    "x.shape  # get the shape of the array"
   ]
  },
  {
   "cell_type": "code",
   "execution_count": 132,
   "id": "50bad4fa",
   "metadata": {},
   "outputs": [
    {
     "data": {
      "text/plain": [
       "array([[7.81387469, 3.42703346],\n",
       "       [5.61261522, 8.29758616],\n",
       "       [5.14005469, 5.49424564],\n",
       "       [3.31057249, 3.34608755]])"
      ]
     },
     "execution_count": 132,
     "metadata": {},
     "output_type": "execute_result"
    }
   ],
   "source": [
    "x.shape=(4,2)   # change the shape of the array to 4 row 2 col\n",
    "x"
   ]
  },
  {
   "cell_type": "code",
   "execution_count": 84,
   "id": "e330cc69",
   "metadata": {},
   "outputs": [
    {
     "data": {
      "text/plain": [
       "array([0, 1, 2, 3, 4, 5, 6, 7, 8, 9])"
      ]
     },
     "execution_count": 84,
     "metadata": {},
     "output_type": "execute_result"
    }
   ],
   "source": [
    "np.arange(10) # gives an array of 10 elements from 0 to 9"
   ]
  },
  {
   "cell_type": "code",
   "execution_count": 83,
   "id": "de330024",
   "metadata": {},
   "outputs": [
    {
     "data": {
      "text/plain": [
       "array([ 0,  1,  2,  3,  4,  5,  6,  7,  8,  9, 10, 11, 12, 13, 14])"
      ]
     },
     "execution_count": 83,
     "metadata": {},
     "output_type": "execute_result"
    }
   ],
   "source": [
    "np.arange(15) # gives an array of 10 elements from 0 to 14"
   ]
  },
  {
   "cell_type": "code",
   "execution_count": 82,
   "id": "66174157",
   "metadata": {},
   "outputs": [
    {
     "data": {
      "text/plain": [
       "array([ 3,  4,  5,  6,  7,  8,  9, 10, 11, 12, 13, 14])"
      ]
     },
     "execution_count": 82,
     "metadata": {},
     "output_type": "execute_result"
    }
   ],
   "source": [
    "np.arange(3,15) # gives an array of elements starting from 3 to 15"
   ]
  },
  {
   "cell_type": "code",
   "execution_count": 81,
   "id": "0d3f374d",
   "metadata": {},
   "outputs": [
    {
     "data": {
      "text/plain": [
       "array([2, 3, 4, 5, 6, 7])"
      ]
     },
     "execution_count": 81,
     "metadata": {},
     "output_type": "execute_result"
    }
   ],
   "source": [
    "np.arange(2,8) # gives an array of elements starting from 2 to 8"
   ]
  },
  {
   "cell_type": "code",
   "execution_count": 277,
   "id": "f1f64bf4",
   "metadata": {},
   "outputs": [
    {
     "data": {
      "text/plain": [
       "array([2, 1, 4, 5, 7, 2, 8, 6, 3, 4, 0, 2])"
      ]
     },
     "execution_count": 277,
     "metadata": {},
     "output_type": "execute_result"
    }
   ],
   "source": [
    "a=np.array([2,1,4,5,7,2,8,6,3,4,0,2])\n",
    "a"
   ]
  },
  {
   "cell_type": "code",
   "execution_count": 278,
   "id": "08b4faf0",
   "metadata": {},
   "outputs": [
    {
     "data": {
      "text/plain": [
       "(12,)"
      ]
     },
     "execution_count": 278,
     "metadata": {},
     "output_type": "execute_result"
    }
   ],
   "source": [
    "a.shape"
   ]
  },
  {
   "cell_type": "code",
   "execution_count": 279,
   "id": "470d187c",
   "metadata": {},
   "outputs": [
    {
     "data": {
      "text/plain": [
       "array([[2, 1, 4, 5],\n",
       "       [7, 2, 8, 6],\n",
       "       [3, 4, 0, 2]])"
      ]
     },
     "execution_count": 279,
     "metadata": {},
     "output_type": "execute_result"
    }
   ],
   "source": [
    "a.shape=(3,4)  # 3X4 = 12 elements\n",
    "a"
   ]
  },
  {
   "cell_type": "code",
   "execution_count": 280,
   "id": "82e8a083",
   "metadata": {},
   "outputs": [
    {
     "data": {
      "text/plain": [
       "array([[2, 1, 4, 5, 7, 2],\n",
       "       [8, 6, 3, 4, 0, 2]])"
      ]
     },
     "execution_count": 280,
     "metadata": {},
     "output_type": "execute_result"
    }
   ],
   "source": [
    "a.shape=(2,6)  # 2X6 = 12 elements\n",
    "a"
   ]
  },
  {
   "cell_type": "code",
   "execution_count": 138,
   "id": "d033e2a0",
   "metadata": {},
   "outputs": [
    {
     "data": {
      "text/plain": [
       "array([2, 1, 4, 5, 6, 8])"
      ]
     },
     "execution_count": 138,
     "metadata": {},
     "output_type": "execute_result"
    }
   ],
   "source": [
    "b=np.array([2,1,4,5,6,8])\n",
    "b"
   ]
  },
  {
   "cell_type": "code",
   "execution_count": 140,
   "id": "576e068c",
   "metadata": {},
   "outputs": [
    {
     "data": {
      "text/plain": [
       "array([[2, 1, 4],\n",
       "       [5, 6, 8]])"
      ]
     },
     "execution_count": 140,
     "metadata": {},
     "output_type": "execute_result"
    }
   ],
   "source": [
    "b=np.array([2,1,4,5,6,8]).reshape(2,3)  # re-shape the array at the moment of creation\n",
    "b"
   ]
  },
  {
   "cell_type": "code",
   "execution_count": 141,
   "id": "3c308e95",
   "metadata": {},
   "outputs": [
    {
     "data": {
      "text/plain": [
       "array([2, 1, 4, 5, 6, 8, 3, 4, 5, 6])"
      ]
     },
     "execution_count": 141,
     "metadata": {},
     "output_type": "execute_result"
    }
   ],
   "source": [
    "a=np.array([2,1,4,5,6,8,3,4,5,6])\n",
    "a"
   ]
  },
  {
   "cell_type": "code",
   "execution_count": 142,
   "id": "acaeb116",
   "metadata": {},
   "outputs": [
    {
     "data": {
      "text/plain": [
       "2"
      ]
     },
     "execution_count": 142,
     "metadata": {},
     "output_type": "execute_result"
    }
   ],
   "source": [
    "a[0]"
   ]
  },
  {
   "cell_type": "code",
   "execution_count": 143,
   "id": "d5e7fd5d",
   "metadata": {
    "scrolled": true
   },
   "outputs": [
    {
     "data": {
      "text/plain": [
       "3"
      ]
     },
     "execution_count": 143,
     "metadata": {},
     "output_type": "execute_result"
    }
   ],
   "source": [
    "a[6]"
   ]
  },
  {
   "cell_type": "code",
   "execution_count": 144,
   "id": "36b7943f",
   "metadata": {},
   "outputs": [
    {
     "data": {
      "text/plain": [
       "6"
      ]
     },
     "execution_count": 144,
     "metadata": {},
     "output_type": "execute_result"
    }
   ],
   "source": [
    "a[-1]"
   ]
  },
  {
   "cell_type": "code",
   "execution_count": 145,
   "id": "e7e4acb5",
   "metadata": {},
   "outputs": [
    {
     "data": {
      "text/plain": [
       "array([4, 5, 6, 8])"
      ]
     },
     "execution_count": 145,
     "metadata": {},
     "output_type": "execute_result"
    }
   ],
   "source": [
    "a[2:6]"
   ]
  },
  {
   "cell_type": "code",
   "execution_count": 207,
   "id": "644ac45b",
   "metadata": {},
   "outputs": [
    {
     "data": {
      "text/plain": [
       "array([[2, 1, 4, 5, 6, 8, 3, 5],\n",
       "       [3, 5, 4, 5, 6, 1, 3, 5],\n",
       "       [9, 7, 4, 3, 2, 1, 7, 1],\n",
       "       [2, 1, 4, 5, 7, 5, 1, 3],\n",
       "       [2, 1, 4, 5, 2, 4, 3, 0]])"
      ]
     },
     "execution_count": 207,
     "metadata": {},
     "output_type": "execute_result"
    }
   ],
   "source": [
    "b=np.array([[2,1,4,5,6,8,3,5],[3,5,4,5,6,1,3,5],[9,7,4,3,2,1,7,1],[2,1,4,5,7,5,1,3],[2,1,4,5,2,4,3,0]])\n",
    "b"
   ]
  },
  {
   "cell_type": "code",
   "execution_count": 208,
   "id": "eaf321ec",
   "metadata": {},
   "outputs": [
    {
     "data": {
      "text/plain": [
       "2"
      ]
     },
     "execution_count": 208,
     "metadata": {},
     "output_type": "execute_result"
    }
   ],
   "source": [
    "b[0,0] # element in tow 0 , col 0   i.e ---->2"
   ]
  },
  {
   "cell_type": "code",
   "execution_count": 209,
   "id": "ecc07cf7",
   "metadata": {},
   "outputs": [
    {
     "data": {
      "text/plain": [
       "5"
      ]
     },
     "execution_count": 209,
     "metadata": {},
     "output_type": "execute_result"
    }
   ],
   "source": [
    "b[1,1]   # element in row 1 , col 1   i.e ---->5"
   ]
  },
  {
   "cell_type": "code",
   "execution_count": 210,
   "id": "873f3f48",
   "metadata": {},
   "outputs": [
    {
     "data": {
      "text/plain": [
       "9"
      ]
     },
     "execution_count": 210,
     "metadata": {},
     "output_type": "execute_result"
    }
   ],
   "source": [
    "b[2,0]   # I want to get value 9  < ---row 2 col 0"
   ]
  },
  {
   "cell_type": "code",
   "execution_count": 211,
   "id": "954652a7",
   "metadata": {},
   "outputs": [
    {
     "data": {
      "text/plain": [
       "7"
      ]
     },
     "execution_count": 211,
     "metadata": {},
     "output_type": "execute_result"
    }
   ],
   "source": [
    "b[3,4]  # element in row 3 , col 4   i.e ---->7"
   ]
  },
  {
   "cell_type": "code",
   "execution_count": 218,
   "id": "0c0a3bfe",
   "metadata": {},
   "outputs": [
    {
     "data": {
      "text/plain": [
       "array([[2, 1, 4, 5, 6, 8, 3, 5],\n",
       "       [3, 5, 4, 5, 6, 1, 3, 5],\n",
       "       [9, 7, 4, 3, 2, 1, 7, 1],\n",
       "       [2, 1, 4, 5, 7, 5, 1, 3],\n",
       "       [2, 1, 4, 5, 2, 4, 3, 0]])"
      ]
     },
     "execution_count": 218,
     "metadata": {},
     "output_type": "execute_result"
    }
   ],
   "source": [
    "b"
   ]
  },
  {
   "cell_type": "code",
   "execution_count": 244,
   "id": "d3ce9b1a",
   "metadata": {},
   "outputs": [
    {
     "data": {
      "text/plain": [
       "array([[2, 1, 4, 5],\n",
       "       [3, 5, 4, 5],\n",
       "       [9, 7, 4, 3]])"
      ]
     },
     "execution_count": 244,
     "metadata": {},
     "output_type": "execute_result"
    }
   ],
   "source": [
    "b[0:3,0:4]  # ( start row: end row , col start: col end)  #Row 0  row 3  , col 0  col4  "
   ]
  },
  {
   "cell_type": "code",
   "execution_count": 222,
   "id": "c5c7988a",
   "metadata": {},
   "outputs": [
    {
     "data": {
      "text/plain": [
       "array([[5, 4, 5, 6],\n",
       "       [7, 4, 3, 2],\n",
       "       [1, 4, 5, 7]])"
      ]
     },
     "execution_count": 222,
     "metadata": {},
     "output_type": "execute_result"
    }
   ],
   "source": [
    "b[1:4,1:5]"
   ]
  },
  {
   "cell_type": "code",
   "execution_count": 163,
   "id": "15c7e32e",
   "metadata": {},
   "outputs": [
    {
     "data": {
      "text/plain": [
       "array([[4, 5, 3]])"
      ]
     },
     "execution_count": 163,
     "metadata": {},
     "output_type": "execute_result"
    }
   ],
   "source": [
    "b[3:4,2:5]"
   ]
  },
  {
   "cell_type": "code",
   "execution_count": 179,
   "id": "d4dab120",
   "metadata": {},
   "outputs": [
    {
     "data": {
      "text/plain": [
       "array([[4, 5, 6, 8, 3, 5],\n",
       "       [4, 5, 6, 1, 3, 5],\n",
       "       [4, 3, 2, 1, 7, 1],\n",
       "       [4, 5, 7, 5, 1, 3]])"
      ]
     },
     "execution_count": 179,
     "metadata": {},
     "output_type": "execute_result"
    }
   ],
   "source": [
    "b[:4,2:]"
   ]
  },
  {
   "cell_type": "markdown",
   "id": "7ec0b229",
   "metadata": {},
   "source": [
    "# How to perform mathamatical operations with arrays"
   ]
  },
  {
   "cell_type": "code",
   "execution_count": 180,
   "id": "87491333",
   "metadata": {},
   "outputs": [],
   "source": [
    "import numpy as np"
   ]
  },
  {
   "cell_type": "code",
   "execution_count": 187,
   "id": "c437677f",
   "metadata": {},
   "outputs": [],
   "source": [
    "a=np.array([2,1,3,5])\n",
    "b=np.array([6,2,7,8])"
   ]
  },
  {
   "cell_type": "code",
   "execution_count": 188,
   "id": "df1d13dc",
   "metadata": {},
   "outputs": [
    {
     "data": {
      "text/plain": [
       "array([20, 10, 30, 50])"
      ]
     },
     "execution_count": 188,
     "metadata": {},
     "output_type": "execute_result"
    }
   ],
   "source": [
    "a*10   # element wise operation is happened here in numpy arrays Lists"
   ]
  },
  {
   "cell_type": "code",
   "execution_count": 189,
   "id": "2a2b92ae",
   "metadata": {},
   "outputs": [
    {
     "data": {
      "text/plain": [
       "array([ 7,  6,  8, 10])"
      ]
     },
     "execution_count": 189,
     "metadata": {},
     "output_type": "execute_result"
    }
   ],
   "source": [
    "a+5"
   ]
  },
  {
   "cell_type": "code",
   "execution_count": 190,
   "id": "3e7ae170",
   "metadata": {},
   "outputs": [
    {
     "data": {
      "text/plain": [
       "array([ 8,  3, 10, 13])"
      ]
     },
     "execution_count": 190,
     "metadata": {},
     "output_type": "execute_result"
    }
   ],
   "source": [
    "a+b"
   ]
  },
  {
   "cell_type": "code",
   "execution_count": 192,
   "id": "4d707e98",
   "metadata": {},
   "outputs": [
    {
     "data": {
      "text/plain": [
       "array([0.33333333, 0.5       , 0.42857143, 0.625     ])"
      ]
     },
     "execution_count": 192,
     "metadata": {},
     "output_type": "execute_result"
    }
   ],
   "source": [
    "a/b   # every element in array a is divided by coresponding element of array b"
   ]
  },
  {
   "cell_type": "code",
   "execution_count": 194,
   "id": "10b9d8ce",
   "metadata": {},
   "outputs": [],
   "source": [
    "p=np.array([[2,1,3],[3,4,2]])\n",
    "k=np.array([[6,2,8],[2,6,4]])"
   ]
  },
  {
   "cell_type": "code",
   "execution_count": 195,
   "id": "1784f237",
   "metadata": {},
   "outputs": [
    {
     "data": {
      "text/plain": [
       "array([[2, 1, 3],\n",
       "       [3, 4, 2]])"
      ]
     },
     "execution_count": 195,
     "metadata": {},
     "output_type": "execute_result"
    }
   ],
   "source": [
    "p"
   ]
  },
  {
   "cell_type": "code",
   "execution_count": 196,
   "id": "3d6f0f9b",
   "metadata": {},
   "outputs": [
    {
     "data": {
      "text/plain": [
       "array([[6, 2, 8],\n",
       "       [2, 6, 4]])"
      ]
     },
     "execution_count": 196,
     "metadata": {},
     "output_type": "execute_result"
    }
   ],
   "source": [
    "k"
   ]
  },
  {
   "cell_type": "code",
   "execution_count": 197,
   "id": "ed5158e9",
   "metadata": {},
   "outputs": [
    {
     "data": {
      "text/plain": [
       "array([[ 8,  3, 11],\n",
       "       [ 5, 10,  6]])"
      ]
     },
     "execution_count": 197,
     "metadata": {},
     "output_type": "execute_result"
    }
   ],
   "source": [
    "p+k"
   ]
  },
  {
   "cell_type": "code",
   "execution_count": 198,
   "id": "acec41d1",
   "metadata": {},
   "outputs": [
    {
     "data": {
      "text/plain": [
       "array([[-4, -1, -5],\n",
       "       [ 1, -2, -2]])"
      ]
     },
     "execution_count": 198,
     "metadata": {},
     "output_type": "execute_result"
    }
   ],
   "source": [
    "p-k"
   ]
  },
  {
   "cell_type": "code",
   "execution_count": 199,
   "id": "53f4cd04",
   "metadata": {},
   "outputs": [
    {
     "data": {
      "text/plain": [
       "array([[12,  2, 24],\n",
       "       [ 6, 24,  8]])"
      ]
     },
     "execution_count": 199,
     "metadata": {},
     "output_type": "execute_result"
    }
   ],
   "source": [
    "p*k"
   ]
  },
  {
   "cell_type": "code",
   "execution_count": 200,
   "id": "efc7891c",
   "metadata": {},
   "outputs": [
    {
     "data": {
      "text/plain": [
       "array([[0.33333333, 0.5       , 0.375     ],\n",
       "       [1.5       , 0.66666667, 0.5       ]])"
      ]
     },
     "execution_count": 200,
     "metadata": {},
     "output_type": "execute_result"
    }
   ],
   "source": [
    "p/k"
   ]
  },
  {
   "cell_type": "code",
   "execution_count": 201,
   "id": "49e4fce7",
   "metadata": {},
   "outputs": [],
   "source": [
    "a=np.array([2,1,3,5,3,5,6,7])"
   ]
  },
  {
   "cell_type": "code",
   "execution_count": 203,
   "id": "5848cd4f",
   "metadata": {},
   "outputs": [
    {
     "data": {
      "text/plain": [
       "array([False, False, False, False, False, False,  True,  True])"
      ]
     },
     "execution_count": 203,
     "metadata": {},
     "output_type": "execute_result"
    }
   ],
   "source": [
    "a>5  # element wise relational operation"
   ]
  },
  {
   "cell_type": "code",
   "execution_count": 205,
   "id": "a3c9ffb5",
   "metadata": {},
   "outputs": [
    {
     "data": {
      "text/plain": [
       "array([False, False, False,  True, False,  True,  True,  True])"
      ]
     },
     "execution_count": 205,
     "metadata": {},
     "output_type": "execute_result"
    }
   ],
   "source": [
    "a>=5  # element wise relational operation"
   ]
  },
  {
   "cell_type": "code",
   "execution_count": 265,
   "id": "71c256c4",
   "metadata": {},
   "outputs": [
    {
     "data": {
      "text/plain": [
       "array([10,  1,  3,  5,  4])"
      ]
     },
     "execution_count": 265,
     "metadata": {},
     "output_type": "execute_result"
    }
   ],
   "source": [
    "a[0]=10  # numpy arrays are always mutable\n",
    "a"
   ]
  },
  {
   "cell_type": "code",
   "execution_count": 281,
   "id": "88bf2429",
   "metadata": {},
   "outputs": [],
   "source": [
    "a=np.array([2,1,3,5,4]) # declare 5 element array"
   ]
  },
  {
   "cell_type": "code",
   "execution_count": 282,
   "id": "adc8ac76",
   "metadata": {},
   "outputs": [
    {
     "data": {
      "text/plain": [
       "(5,)"
      ]
     },
     "execution_count": 282,
     "metadata": {},
     "output_type": "execute_result"
    }
   ],
   "source": [
    "a.shape # see how many elements"
   ]
  },
  {
   "cell_type": "code",
   "execution_count": 283,
   "id": "18f7578e",
   "metadata": {},
   "outputs": [
    {
     "data": {
      "text/plain": [
       "array([2, 1, 4])"
      ]
     },
     "execution_count": 283,
     "metadata": {},
     "output_type": "execute_result"
    }
   ],
   "source": [
    "a[[True,True,False,False,True]] # gives only the elements satisfying the condition True"
   ]
  },
  {
   "cell_type": "code",
   "execution_count": 284,
   "id": "800717e1",
   "metadata": {},
   "outputs": [
    {
     "data": {
      "text/plain": [
       "array([2, 3, 5, 4])"
      ]
     },
     "execution_count": 284,
     "metadata": {},
     "output_type": "execute_result"
    }
   ],
   "source": [
    "a[a>=2]  # gives only the elements satisfying the condition >=2"
   ]
  },
  {
   "cell_type": "code",
   "execution_count": 285,
   "id": "50229b59",
   "metadata": {},
   "outputs": [
    {
     "data": {
      "text/plain": [
       "array([2, 4])"
      ]
     },
     "execution_count": 285,
     "metadata": {},
     "output_type": "execute_result"
    }
   ],
   "source": [
    "a[a%2==0]  # gives only the elements satisfying the condition i.e even numbers here"
   ]
  },
  {
   "cell_type": "code",
   "execution_count": 286,
   "id": "4dfd5e12",
   "metadata": {},
   "outputs": [
    {
     "data": {
      "text/plain": [
       "array([1, 3, 5])"
      ]
     },
     "execution_count": 286,
     "metadata": {},
     "output_type": "execute_result"
    }
   ],
   "source": [
    "a[a%2!=0]  # gives only the elements satisfying the condition i.e odd numbers here"
   ]
  },
  {
   "cell_type": "code",
   "execution_count": 287,
   "id": "75298cca",
   "metadata": {},
   "outputs": [
    {
     "data": {
      "text/plain": [
       "array([2, 1, 3, 5, 4])"
      ]
     },
     "execution_count": 287,
     "metadata": {},
     "output_type": "execute_result"
    }
   ],
   "source": [
    "a"
   ]
  },
  {
   "cell_type": "code",
   "execution_count": 288,
   "id": "e38a429a",
   "metadata": {},
   "outputs": [
    {
     "data": {
      "text/plain": [
       "array([2, 1, 3, 4])"
      ]
     },
     "execution_count": 288,
     "metadata": {},
     "output_type": "execute_result"
    }
   ],
   "source": [
    "a[a+2<=6]"
   ]
  },
  {
   "cell_type": "markdown",
   "id": "e0b494dc",
   "metadata": {},
   "source": [
    "# Statistical summeries for array function"
   ]
  },
  {
   "cell_type": "code",
   "execution_count": 289,
   "id": "f0e0ce6c",
   "metadata": {},
   "outputs": [],
   "source": [
    "import numpy as np"
   ]
  },
  {
   "cell_type": "code",
   "execution_count": 309,
   "id": "917f0526",
   "metadata": {},
   "outputs": [],
   "source": [
    "a=np.array([2,1,3,5,4,6,7,8,9,0]) # declare 5 element array"
   ]
  },
  {
   "cell_type": "code",
   "execution_count": 310,
   "id": "866c75b4",
   "metadata": {},
   "outputs": [
    {
     "data": {
      "text/plain": [
       "(10,)"
      ]
     },
     "execution_count": 310,
     "metadata": {},
     "output_type": "execute_result"
    }
   ],
   "source": [
    "a.shape"
   ]
  },
  {
   "cell_type": "code",
   "execution_count": 311,
   "id": "698a33c0",
   "metadata": {},
   "outputs": [
    {
     "data": {
      "text/plain": [
       "45"
      ]
     },
     "execution_count": 311,
     "metadata": {},
     "output_type": "execute_result"
    }
   ],
   "source": [
    "a.sum()"
   ]
  },
  {
   "cell_type": "code",
   "execution_count": 312,
   "id": "604d0d64",
   "metadata": {},
   "outputs": [
    {
     "data": {
      "text/plain": [
       "45"
      ]
     },
     "execution_count": 312,
     "metadata": {},
     "output_type": "execute_result"
    }
   ],
   "source": [
    "#or\n",
    "np.sum(a)"
   ]
  },
  {
   "cell_type": "code",
   "execution_count": 313,
   "id": "2429ea5a",
   "metadata": {},
   "outputs": [
    {
     "data": {
      "text/plain": [
       "4.5"
      ]
     },
     "execution_count": 313,
     "metadata": {},
     "output_type": "execute_result"
    }
   ],
   "source": [
    "a.mean()"
   ]
  },
  {
   "cell_type": "code",
   "execution_count": 314,
   "id": "48d31525",
   "metadata": {},
   "outputs": [
    {
     "data": {
      "text/plain": [
       "4.5"
      ]
     },
     "execution_count": 314,
     "metadata": {},
     "output_type": "execute_result"
    }
   ],
   "source": [
    "np.mean(a)"
   ]
  },
  {
   "cell_type": "code",
   "execution_count": 315,
   "id": "29e96c06",
   "metadata": {},
   "outputs": [
    {
     "data": {
      "text/plain": [
       "9"
      ]
     },
     "execution_count": 315,
     "metadata": {},
     "output_type": "execute_result"
    }
   ],
   "source": [
    "a.max()"
   ]
  },
  {
   "cell_type": "code",
   "execution_count": 316,
   "id": "b3af16aa",
   "metadata": {},
   "outputs": [
    {
     "data": {
      "text/plain": [
       "9"
      ]
     },
     "execution_count": 316,
     "metadata": {},
     "output_type": "execute_result"
    }
   ],
   "source": [
    "np.max(a)"
   ]
  },
  {
   "cell_type": "code",
   "execution_count": 317,
   "id": "8d3548fa",
   "metadata": {},
   "outputs": [
    {
     "data": {
      "text/plain": [
       "0"
      ]
     },
     "execution_count": 317,
     "metadata": {},
     "output_type": "execute_result"
    }
   ],
   "source": [
    "np.min(a)"
   ]
  },
  {
   "cell_type": "code",
   "execution_count": 318,
   "id": "60a2caa9",
   "metadata": {},
   "outputs": [
    {
     "data": {
      "text/plain": [
       "0"
      ]
     },
     "execution_count": 318,
     "metadata": {},
     "output_type": "execute_result"
    }
   ],
   "source": [
    "a.min()"
   ]
  },
  {
   "cell_type": "code",
   "execution_count": 319,
   "id": "87b553a1",
   "metadata": {},
   "outputs": [
    {
     "data": {
      "text/plain": [
       "8.25"
      ]
     },
     "execution_count": 319,
     "metadata": {},
     "output_type": "execute_result"
    }
   ],
   "source": [
    "a.var()"
   ]
  },
  {
   "cell_type": "code",
   "execution_count": 320,
   "id": "c7578254",
   "metadata": {},
   "outputs": [
    {
     "data": {
      "text/plain": [
       "8.25"
      ]
     },
     "execution_count": 320,
     "metadata": {},
     "output_type": "execute_result"
    }
   ],
   "source": [
    "np.var(a)"
   ]
  },
  {
   "cell_type": "code",
   "execution_count": 321,
   "id": "7ead8675",
   "metadata": {},
   "outputs": [
    {
     "data": {
      "text/plain": [
       "2.8722813232690143"
      ]
     },
     "execution_count": 321,
     "metadata": {},
     "output_type": "execute_result"
    }
   ],
   "source": [
    "a.std()"
   ]
  },
  {
   "cell_type": "code",
   "execution_count": 322,
   "id": "97bde876",
   "metadata": {},
   "outputs": [
    {
     "data": {
      "text/plain": [
       "2.8722813232690143"
      ]
     },
     "execution_count": 322,
     "metadata": {},
     "output_type": "execute_result"
    }
   ],
   "source": [
    "np.std(a)"
   ]
  },
  {
   "cell_type": "code",
   "execution_count": 323,
   "id": "e9452490",
   "metadata": {},
   "outputs": [
    {
     "data": {
      "text/plain": [
       "4.5"
      ]
     },
     "execution_count": 323,
     "metadata": {},
     "output_type": "execute_result"
    }
   ],
   "source": [
    "np.median(a)"
   ]
  },
  {
   "cell_type": "code",
   "execution_count": 324,
   "id": "9c6d6322",
   "metadata": {},
   "outputs": [
    {
     "ename": "AttributeError",
     "evalue": "'numpy.ndarray' object has no attribute 'median'",
     "output_type": "error",
     "traceback": [
      "\u001b[1;31m---------------------------------------------------------------------------\u001b[0m",
      "\u001b[1;31mAttributeError\u001b[0m                            Traceback (most recent call last)",
      "Cell \u001b[1;32mIn[324], line 1\u001b[0m\n\u001b[1;32m----> 1\u001b[0m \u001b[43ma\u001b[49m\u001b[38;5;241;43m.\u001b[39;49m\u001b[43mmedian\u001b[49m()\n",
      "\u001b[1;31mAttributeError\u001b[0m: 'numpy.ndarray' object has no attribute 'median'"
     ]
    }
   ],
   "source": [
    "a.median() # median not works this way"
   ]
  },
  {
   "cell_type": "code",
   "execution_count": null,
   "id": "9cfc0f26",
   "metadata": {},
   "outputs": [],
   "source": []
  },
  {
   "cell_type": "code",
   "execution_count": null,
   "id": "d0cef4c3",
   "metadata": {},
   "outputs": [],
   "source": []
  }
 ],
 "metadata": {
  "kernelspec": {
   "display_name": "Python 3 (ipykernel)",
   "language": "python",
   "name": "python3"
  },
  "language_info": {
   "codemirror_mode": {
    "name": "ipython",
    "version": 3
   },
   "file_extension": ".py",
   "mimetype": "text/x-python",
   "name": "python",
   "nbconvert_exporter": "python",
   "pygments_lexer": "ipython3",
   "version": "3.10.9"
  }
 },
 "nbformat": 4,
 "nbformat_minor": 5
}
