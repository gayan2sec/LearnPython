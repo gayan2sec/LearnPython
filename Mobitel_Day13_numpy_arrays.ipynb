{
 "cells": [
  {
   "cell_type": "markdown",
   "id": "fcad152a",
   "metadata": {},
   "source": [
    "# NumPy \n",
    "NumPy is a Python library used for working with arrays. \n",
    "NumPy stands for Numerical Python.\n",
    "It also has functions for working in domain of linear algebra, fourier transform, and matrices. "
   ]
  },
  {
   "cell_type": "code",
   "execution_count": 1,
   "id": "99988532",
   "metadata": {},
   "outputs": [],
   "source": [
    "import numpy as np"
   ]
  },
  {
   "cell_type": "code",
   "execution_count": 50,
   "id": "8f1a9e17",
   "metadata": {},
   "outputs": [
    {
     "data": {
      "text/plain": [
       "array([23, 21, 45, 46, 78])"
      ]
     },
     "execution_count": 50,
     "metadata": {},
     "output_type": "execute_result"
    }
   ],
   "source": [
    "a=np.array([23,21,45,46,78]) # one dimentional array with 5 elements\n",
    "a"
   ]
  },
  {
   "cell_type": "code",
   "execution_count": 51,
   "id": "8d71d930",
   "metadata": {},
   "outputs": [
    {
     "data": {
      "text/plain": [
       "(5,)"
      ]
     },
     "execution_count": 51,
     "metadata": {},
     "output_type": "execute_result"
    }
   ],
   "source": [
    "a.shape # number of elements"
   ]
  },
  {
   "cell_type": "code",
   "execution_count": 52,
   "id": "48a3314a",
   "metadata": {},
   "outputs": [
    {
     "data": {
      "text/plain": [
       "array([ 23,  21,  45,  46,  78,  34, 454,  54,  56,  76,  46,  86])"
      ]
     },
     "execution_count": 52,
     "metadata": {},
     "output_type": "execute_result"
    }
   ],
   "source": [
    "a=np.array([23,21,45,46,78,34,454,54,56,76,46,86]) # one dimentional array\n",
    "a"
   ]
  },
  {
   "cell_type": "code",
   "execution_count": 63,
   "id": "1954f3ce",
   "metadata": {},
   "outputs": [
    {
     "data": {
      "text/plain": [
       "(1, 12)"
      ]
     },
     "execution_count": 63,
     "metadata": {},
     "output_type": "execute_result"
    }
   ],
   "source": [
    "a.shape  # Array has 12 elements like 12 columns"
   ]
  },
  {
   "cell_type": "code",
   "execution_count": 73,
   "id": "1b99876a",
   "metadata": {},
   "outputs": [
    {
     "data": {
      "text/plain": [
       "array([[ 23,  21,  45],\n",
       "       [ 46,  78,  34],\n",
       "       [454,  54,  56],\n",
       "       [ 76,  46,  86]])"
      ]
     },
     "execution_count": 73,
     "metadata": {},
     "output_type": "execute_result"
    }
   ],
   "source": [
    "a.shape=(4,3) #Reshaping the array elements\n",
    "a           # create 4 * 3 =12 elements array of 4 rows 3 columns"
   ]
  },
  {
   "cell_type": "code",
   "execution_count": 74,
   "id": "e5c7544d",
   "metadata": {},
   "outputs": [
    {
     "data": {
      "text/plain": [
       "array([[ 23,  21,  45,  46],\n",
       "       [ 78,  34, 454,  54],\n",
       "       [ 56,  76,  46,  86]])"
      ]
     },
     "execution_count": 74,
     "metadata": {},
     "output_type": "execute_result"
    }
   ],
   "source": [
    "a.shape=(3,4) #Reshaping the array elements\n",
    "a           # create 3 * 4 =12 elements array of 3 rows 4 columns"
   ]
  },
  {
   "cell_type": "code",
   "execution_count": 64,
   "id": "33e460ca",
   "metadata": {},
   "outputs": [
    {
     "data": {
      "text/plain": [
       "array([[ 23,  21,  45,  46,  78,  34, 454,  54,  56,  76,  46,  86]])"
      ]
     },
     "execution_count": 64,
     "metadata": {},
     "output_type": "execute_result"
    }
   ],
   "source": [
    "a.shape=(1,12)\n",
    "a"
   ]
  },
  {
   "cell_type": "code",
   "execution_count": 68,
   "id": "41ab257a",
   "metadata": {},
   "outputs": [
    {
     "data": {
      "text/plain": [
       "array([[ 23,  21],\n",
       "       [ 45,  46],\n",
       "       [ 78,  34],\n",
       "       [454,  54],\n",
       "       [ 56,  76],\n",
       "       [ 46,  86]])"
      ]
     },
     "execution_count": 68,
     "metadata": {},
     "output_type": "execute_result"
    }
   ],
   "source": [
    "a.shape=(6,2)  # create 6 * 2 =12 elements  6 rows 2 columns\n",
    "a"
   ]
  },
  {
   "cell_type": "code",
   "execution_count": 70,
   "id": "cb25f1e9",
   "metadata": {},
   "outputs": [
    {
     "data": {
      "text/plain": [
       "array([[ 23,  21,  45,  46,  78,  34],\n",
       "       [454,  54,  56,  76,  46,  86]])"
      ]
     },
     "execution_count": 70,
     "metadata": {},
     "output_type": "execute_result"
    }
   ],
   "source": [
    "a.shape=(2,6)  # create 2 * 6 =12 elements  2 rows 6 columns\n",
    "a"
   ]
  },
  {
   "cell_type": "code",
   "execution_count": 23,
   "id": "358fa367",
   "metadata": {},
   "outputs": [
    {
     "data": {
      "text/plain": [
       "array([[21, 44, 56],\n",
       "       [54, 34, 67],\n",
       "       [45, 34, 56]])"
      ]
     },
     "execution_count": 23,
     "metadata": {},
     "output_type": "execute_result"
    }
   ],
   "source": [
    "b=np.array([[21,44,56],[54,34,67],[45,34,56]]) #two dimentional array\n",
    "b"
   ]
  },
  {
   "cell_type": "code",
   "execution_count": 55,
   "id": "15413731",
   "metadata": {},
   "outputs": [
    {
     "data": {
      "text/plain": [
       "(3, 3)"
      ]
     },
     "execution_count": 55,
     "metadata": {},
     "output_type": "execute_result"
    }
   ],
   "source": [
    "b.shape # Array of 3 rows and 3 cloumns"
   ]
  },
  {
   "cell_type": "code",
   "execution_count": 15,
   "id": "a2edfe5b",
   "metadata": {},
   "outputs": [
    {
     "data": {
      "text/plain": [
       "array([[2, 1, 4],\n",
       "       [6, 5, 6]])"
      ]
     },
     "execution_count": 15,
     "metadata": {},
     "output_type": "execute_result"
    }
   ],
   "source": [
    "c=np.array([2,1,4,6,5,6]).reshape(2,3)\n",
    "c"
   ]
  },
  {
   "cell_type": "code",
   "execution_count": 17,
   "id": "44198c11",
   "metadata": {},
   "outputs": [
    {
     "data": {
      "text/plain": [
       "array([[21, 44, 56],\n",
       "       [54, 34, 67]])"
      ]
     },
     "execution_count": 17,
     "metadata": {},
     "output_type": "execute_result"
    }
   ],
   "source": [
    "b=np.array([[21,44,56],[54,34,67]]) #two dimentional array\n",
    "b"
   ]
  },
  {
   "cell_type": "code",
   "execution_count": 19,
   "id": "4f6c686c",
   "metadata": {},
   "outputs": [
    {
     "data": {
      "text/plain": [
       "array([[21, 44, 56],\n",
       "       [54, 34, 67],\n",
       "       [45, 34, 56]])"
      ]
     },
     "execution_count": 19,
     "metadata": {},
     "output_type": "execute_result"
    }
   ],
   "source": [
    "b=np.array([[21,44,56],[54,34,67],[45,34,56]]) #two dimentional array\n",
    "b"
   ]
  },
  {
   "cell_type": "code",
   "execution_count": 46,
   "id": "7993f02c",
   "metadata": {},
   "outputs": [
    {
     "data": {
      "text/plain": [
       "array([0., 0., 0., 0., 0., 0., 0., 0., 0., 0.])"
      ]
     },
     "execution_count": 46,
     "metadata": {},
     "output_type": "execute_result"
    }
   ],
   "source": [
    "np.zeros(10) # 0 elements 10"
   ]
  },
  {
   "cell_type": "code",
   "execution_count": 47,
   "id": "0be2e82c",
   "metadata": {},
   "outputs": [
    {
     "data": {
      "text/plain": [
       "array([[0., 0., 0., 0.],\n",
       "       [0., 0., 0., 0.],\n",
       "       [0., 0., 0., 0.],\n",
       "       [0., 0., 0., 0.]])"
      ]
     },
     "execution_count": 47,
     "metadata": {},
     "output_type": "execute_result"
    }
   ],
   "source": [
    "np.zeros((4,4)) # Row=4,Column=4  filled with 0"
   ]
  },
  {
   "cell_type": "code",
   "execution_count": 45,
   "id": "7c3ccc96",
   "metadata": {},
   "outputs": [
    {
     "data": {
      "text/plain": [
       "array([[0., 0., 0.],\n",
       "       [0., 0., 0.]])"
      ]
     },
     "execution_count": 45,
     "metadata": {},
     "output_type": "execute_result"
    }
   ],
   "source": [
    "np.zeros((2,3)) # Row=2,Column=3 filled with 0"
   ]
  },
  {
   "cell_type": "code",
   "execution_count": 48,
   "id": "a2c71343",
   "metadata": {},
   "outputs": [
    {
     "data": {
      "text/plain": [
       "array([1., 1., 1., 1., 1., 1., 1., 1., 1., 1.])"
      ]
     },
     "execution_count": 48,
     "metadata": {},
     "output_type": "execute_result"
    }
   ],
   "source": [
    "np.ones(10)  # Array of 10 elements filled with 1"
   ]
  },
  {
   "cell_type": "code",
   "execution_count": 49,
   "id": "8902119b",
   "metadata": {},
   "outputs": [
    {
     "data": {
      "text/plain": [
       "array([1., 1., 1., 1.])"
      ]
     },
     "execution_count": 49,
     "metadata": {},
     "output_type": "execute_result"
    }
   ],
   "source": [
    "np.ones(4) # Array of 4 elements filled with 1"
   ]
  },
  {
   "cell_type": "code",
   "execution_count": 39,
   "id": "af0a4164",
   "metadata": {},
   "outputs": [
    {
     "data": {
      "text/plain": [
       "array([[1., 1.],\n",
       "       [1., 1.],\n",
       "       [1., 1.]])"
      ]
     },
     "execution_count": 39,
     "metadata": {},
     "output_type": "execute_result"
    }
   ],
   "source": [
    "np.ones((3,2))   # Row=3,Column=2"
   ]
  },
  {
   "cell_type": "code",
   "execution_count": 40,
   "id": "0751c42a",
   "metadata": {},
   "outputs": [
    {
     "data": {
      "text/plain": [
       "array([[1., 1., 1.],\n",
       "       [1., 1., 1.]])"
      ]
     },
     "execution_count": 40,
     "metadata": {},
     "output_type": "execute_result"
    }
   ],
   "source": [
    "np.ones((2,3))   # Row=2,Column=3"
   ]
  },
  {
   "cell_type": "code",
   "execution_count": null,
   "id": "f43fcf31",
   "metadata": {},
   "outputs": [],
   "source": []
  }
 ],
 "metadata": {
  "kernelspec": {
   "display_name": "Python 3 (ipykernel)",
   "language": "python",
   "name": "python3"
  },
  "language_info": {
   "codemirror_mode": {
    "name": "ipython",
    "version": 3
   },
   "file_extension": ".py",
   "mimetype": "text/x-python",
   "name": "python",
   "nbconvert_exporter": "python",
   "pygments_lexer": "ipython3",
   "version": "3.10.9"
  }
 },
 "nbformat": 4,
 "nbformat_minor": 5
}
