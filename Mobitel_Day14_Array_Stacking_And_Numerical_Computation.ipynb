{
 "cells": [
  {
   "cell_type": "code",
   "execution_count": 4,
   "id": "acfe8ccf",
   "metadata": {},
   "outputs": [],
   "source": [
    "import numpy as np\n",
    "a=np.array([[2,1,3],[4,5,7],[5,6,7]])\n",
    "b=np.array([[6,2,8],[4,2,7],[1,5,8]])"
   ]
  },
  {
   "cell_type": "code",
   "execution_count": 5,
   "id": "4d4724d9",
   "metadata": {},
   "outputs": [
    {
     "data": {
      "text/plain": [
       "array([[2, 1, 3],\n",
       "       [4, 5, 7],\n",
       "       [5, 6, 7]])"
      ]
     },
     "execution_count": 5,
     "metadata": {},
     "output_type": "execute_result"
    }
   ],
   "source": [
    "a"
   ]
  },
  {
   "cell_type": "code",
   "execution_count": 14,
   "id": "149bdd59",
   "metadata": {},
   "outputs": [
    {
     "data": {
      "text/plain": [
       "array([[6, 2, 8],\n",
       "       [4, 2, 7],\n",
       "       [1, 5, 8]])"
      ]
     },
     "execution_count": 14,
     "metadata": {},
     "output_type": "execute_result"
    }
   ],
   "source": [
    "b"
   ]
  },
  {
   "cell_type": "code",
   "execution_count": 14,
   "id": "319341b8-ace3-4ccd-b486-996e33060448",
   "metadata": {},
   "outputs": [
    {
     "data": {
      "text/plain": [
       "array([[6, 2, 8],\n",
       "       [4, 2, 7],\n",
       "       [1, 5, 8]])"
      ]
     },
     "execution_count": 14,
     "metadata": {},
     "output_type": "execute_result"
    }
   ],
   "source": [
    "b"
   ]
  },
  {
   "cell_type": "code",
   "execution_count": 16,
   "id": "c2c0f9c4",
   "metadata": {},
   "outputs": [
    {
     "data": {
      "text/plain": [
       "array([[2, 1, 3],\n",
       "       [4, 5, 7],\n",
       "       [5, 6, 7],\n",
       "       [6, 2, 8],\n",
       "       [4, 2, 7],\n",
       "       [1, 5, 8]])"
      ]
     },
     "execution_count": 16,
     "metadata": {},
     "output_type": "execute_result"
    }
   ],
   "source": [
    "np.vstack((a,b))  # Vertically stack both a and b arrays, second array will be @ lower level"
   ]
  },
  {
   "cell_type": "code",
   "execution_count": 17,
   "id": "eb4563b2",
   "metadata": {},
   "outputs": [
    {
     "data": {
      "text/plain": [
       "array([[2, 1, 3, 6, 2, 8],\n",
       "       [4, 5, 7, 4, 2, 7],\n",
       "       [5, 6, 7, 1, 5, 8]])"
      ]
     },
     "execution_count": 17,
     "metadata": {},
     "output_type": "execute_result"
    }
   ],
   "source": [
    "np.hstack((a,b)) # Horizontally stack both a and b arrays, second array will be @ Right Side"
   ]
  },
  {
   "cell_type": "code",
   "execution_count": 23,
   "id": "c703da55",
   "metadata": {},
   "outputs": [
    {
     "data": {
      "text/plain": [
       "array([[2, 1, 3],\n",
       "       [4, 5, 7],\n",
       "       [5, 6, 7],\n",
       "       [6, 2, 8],\n",
       "       [4, 2, 7],\n",
       "       [1, 5, 8]])"
      ]
     },
     "execution_count": 23,
     "metadata": {},
     "output_type": "execute_result"
    }
   ],
   "source": [
    "np.append(a,b,axis=0) # axis 0 means arrays are vertically aligned same as vstack"
   ]
  },
  {
   "cell_type": "code",
   "execution_count": 21,
   "id": "2a1030f7",
   "metadata": {},
   "outputs": [
    {
     "data": {
      "text/plain": [
       "array([[2, 1, 3, 6, 2, 8],\n",
       "       [4, 5, 7, 4, 2, 7],\n",
       "       [5, 6, 7, 1, 5, 8]])"
      ]
     },
     "execution_count": 21,
     "metadata": {},
     "output_type": "execute_result"
    }
   ],
   "source": [
    "np.append(a,b,axis=1) # axis 1 means arrays are Horizontally aligned"
   ]
  },
  {
   "cell_type": "code",
   "execution_count": 29,
   "id": "9b06dddb",
   "metadata": {},
   "outputs": [
    {
     "data": {
      "text/plain": [
       "array([[2, 1, 3],\n",
       "       [4, 5, 7],\n",
       "       [5, 6, 7],\n",
       "       [6, 2, 8],\n",
       "       [4, 2, 7],\n",
       "       [1, 5, 8]])"
      ]
     },
     "execution_count": 29,
     "metadata": {},
     "output_type": "execute_result"
    }
   ],
   "source": [
    "np.concatenate((a,b),axis=0) # same as vertically aligned both arrays as vstack or or np.append>--axis 0"
   ]
  },
  {
   "cell_type": "code",
   "execution_count": 28,
   "id": "ca329b93",
   "metadata": {},
   "outputs": [
    {
     "data": {
      "text/plain": [
       "array([[2, 1, 3, 6, 2, 8],\n",
       "       [4, 5, 7, 4, 2, 7],\n",
       "       [5, 6, 7, 1, 5, 8]])"
      ]
     },
     "execution_count": 28,
     "metadata": {},
     "output_type": "execute_result"
    }
   ],
   "source": [
    "np.concatenate((a,b),axis=1) # same as Horizontally aligned both arrays as hstack or np.append>--axis 1"
   ]
  },
  {
   "cell_type": "code",
   "execution_count": 64,
   "id": "e03fd60c",
   "metadata": {},
   "outputs": [
    {
     "data": {
      "text/plain": [
       "array([[5, 1, 6, 5, 4, 6],\n",
       "       [2, 5, 7, 8, 9, 7],\n",
       "       [3, 4, 6, 7, 8, 9],\n",
       "       [4, 2, 5, 7, 9, 2]])"
      ]
     },
     "execution_count": 64,
     "metadata": {},
     "output_type": "execute_result"
    }
   ],
   "source": [
    "b=np.array([[5,1,6,5,4,6],[2,5,7,8,9,7],[3,4,6,7,8,9],[4,2,5,7,9,2]]) # 4 by 6 arry\n",
    "b"
   ]
  },
  {
   "cell_type": "code",
   "execution_count": 70,
   "id": "dd8a163f",
   "metadata": {},
   "outputs": [
    {
     "data": {
      "text/plain": [
       "[array([[5, 1],\n",
       "        [2, 5],\n",
       "        [3, 4],\n",
       "        [4, 2]]),\n",
       " array([[6, 5],\n",
       "        [7, 8],\n",
       "        [6, 7],\n",
       "        [5, 7]]),\n",
       " array([[4, 6],\n",
       "        [9, 7],\n",
       "        [8, 9],\n",
       "        [9, 2]])]"
      ]
     },
     "execution_count": 70,
     "metadata": {},
     "output_type": "execute_result"
    }
   ],
   "source": [
    "np.hsplit(b,3) # break into 3 veritcal arrays by hsplit"
   ]
  },
  {
   "cell_type": "code",
   "execution_count": 71,
   "id": "29b8dd2d",
   "metadata": {},
   "outputs": [
    {
     "data": {
      "text/plain": [
       "[array([[5, 1, 6, 5, 4, 6],\n",
       "        [2, 5, 7, 8, 9, 7]]),\n",
       " array([[3, 4, 6, 7, 8, 9],\n",
       "        [4, 2, 5, 7, 9, 2]])]"
      ]
     },
     "execution_count": 71,
     "metadata": {},
     "output_type": "execute_result"
    }
   ],
   "source": [
    "np.vsplit(b,2) # break into 2 horizontal arrays by hsplit"
   ]
  },
  {
   "cell_type": "code",
   "execution_count": 43,
   "id": "147da107",
   "metadata": {},
   "outputs": [
    {
     "data": {
      "text/plain": [
       "[array([[5, 1, 6],\n",
       "        [3, 5, 7],\n",
       "        [3, 4, 6],\n",
       "        [3, 2, 5],\n",
       "        [0, 1, 2]]),\n",
       " array([[5, 4, 6],\n",
       "        [8, 9, 7],\n",
       "        [7, 8, 9],\n",
       "        [7, 9, 2],\n",
       "        [3, 5, 6]])]"
      ]
     },
     "execution_count": 43,
     "metadata": {},
     "output_type": "execute_result"
    }
   ],
   "source": [
    "np.hsplit(b,2) # break into 2 veritccal arrays by hsplit"
   ]
  },
  {
   "cell_type": "code",
   "execution_count": 47,
   "id": "28c80788",
   "metadata": {},
   "outputs": [
    {
     "data": {
      "text/plain": [
       "array([2.32, 1.24, 3.21, 6.35, 7.78])"
      ]
     },
     "execution_count": 47,
     "metadata": {},
     "output_type": "execute_result"
    }
   ],
   "source": [
    "h=np.array([2.32,1.24,3.21,6.35,7.78])\n",
    "h"
   ]
  },
  {
   "cell_type": "code",
   "execution_count": 49,
   "id": "695ee488",
   "metadata": {},
   "outputs": [
    {
     "data": {
      "text/plain": [
       "array([2, 1, 3, 6, 7])"
      ]
     },
     "execution_count": 49,
     "metadata": {},
     "output_type": "execute_result"
    }
   ],
   "source": [
    "h.astype(int)  # convert the entire arry to integer"
   ]
  },
  {
   "cell_type": "code",
   "execution_count": 51,
   "id": "09ff1c9d",
   "metadata": {},
   "outputs": [
    {
     "data": {
      "text/plain": [
       "array(['2.32', '1.24', '3.21', '6.35', '7.78'], dtype='<U32')"
      ]
     },
     "execution_count": 51,
     "metadata": {},
     "output_type": "execute_result"
    }
   ],
   "source": [
    "h.astype(str) # convert the entire arry to string"
   ]
  },
  {
   "cell_type": "code",
   "execution_count": 72,
   "id": "164ef513",
   "metadata": {},
   "outputs": [],
   "source": [
    "import numpy as np\n",
    "a=np.array([[2,1,3],[4,5,7],[5,6,7]])\n",
    "b=np.array([[6,2,8],[4,2,7],[1,5,8]])"
   ]
  },
  {
   "cell_type": "code",
   "execution_count": 73,
   "id": "fa056992",
   "metadata": {},
   "outputs": [
    {
     "data": {
      "text/plain": [
       "array([[ 8,  3, 11],\n",
       "       [ 8,  7, 14],\n",
       "       [ 6, 11, 15]])"
      ]
     },
     "execution_count": 73,
     "metadata": {},
     "output_type": "execute_result"
    }
   ],
   "source": [
    "a+b"
   ]
  },
  {
   "cell_type": "code",
   "execution_count": 75,
   "id": "796d37dd",
   "metadata": {},
   "outputs": [
    {
     "data": {
      "text/plain": [
       "array([[-4, -1, -5],\n",
       "       [ 0,  3,  0],\n",
       "       [ 4,  1, -1]])"
      ]
     },
     "execution_count": 75,
     "metadata": {},
     "output_type": "execute_result"
    }
   ],
   "source": [
    "a-b\n"
   ]
  },
  {
   "cell_type": "code",
   "execution_count": 77,
   "id": "73f30996",
   "metadata": {},
   "outputs": [
    {
     "data": {
      "text/plain": [
       "array([[20, 10, 30],\n",
       "       [40, 50, 70],\n",
       "       [50, 60, 70]])"
      ]
     },
     "execution_count": 77,
     "metadata": {},
     "output_type": "execute_result"
    }
   ],
   "source": [
    "10*a"
   ]
  },
  {
   "cell_type": "code",
   "execution_count": 82,
   "id": "ff9a1f34",
   "metadata": {},
   "outputs": [
    {
     "data": {
      "text/plain": [
       "array([[12,  2, 24],\n",
       "       [16, 10, 49],\n",
       "       [ 5, 30, 56]])"
      ]
     },
     "execution_count": 82,
     "metadata": {},
     "output_type": "execute_result"
    }
   ],
   "source": [
    "a*b #Hardamart product #this is element wise multiplication not matrice multiplication"
   ]
  },
  {
   "cell_type": "code",
   "execution_count": 83,
   "id": "5d9e2fac",
   "metadata": {},
   "outputs": [
    {
     "data": {
      "text/plain": [
       "array([[ 19,  21,  47],\n",
       "       [ 51,  53, 123],\n",
       "       [ 61,  57, 138]])"
      ]
     },
     "execution_count": 83,
     "metadata": {},
     "output_type": "execute_result"
    }
   ],
   "source": [
    "a.dot(b) #this is real matrice multiplication"
   ]
  },
  {
   "cell_type": "code",
   "execution_count": 86,
   "id": "86fae2e7",
   "metadata": {},
   "outputs": [
    {
     "data": {
      "text/plain": [
       "array([[ 19,  21,  47],\n",
       "       [ 51,  53, 123],\n",
       "       [ 61,  57, 138]])"
      ]
     },
     "execution_count": 86,
     "metadata": {},
     "output_type": "execute_result"
    }
   ],
   "source": [
    "np.dot(a,b) #this is real matrice multiplication ...same as above"
   ]
  },
  {
   "cell_type": "code",
   "execution_count": 84,
   "id": "04afca5f",
   "metadata": {},
   "outputs": [
    {
     "data": {
      "text/plain": [
       "array([[60, 64, 88],\n",
       "       [51, 56, 75],\n",
       "       [62, 74, 94]])"
      ]
     },
     "execution_count": 84,
     "metadata": {},
     "output_type": "execute_result"
    }
   ],
   "source": [
    "b.dot(a) "
   ]
  },
  {
   "cell_type": "code",
   "execution_count": 85,
   "id": "ce1c6620",
   "metadata": {},
   "outputs": [
    {
     "data": {
      "text/plain": [
       "array([[60, 64, 88],\n",
       "       [51, 56, 75],\n",
       "       [62, 74, 94]])"
      ]
     },
     "execution_count": 85,
     "metadata": {},
     "output_type": "execute_result"
    }
   ],
   "source": [
    "np.dot(b,a)"
   ]
  },
  {
   "cell_type": "code",
   "execution_count": 87,
   "id": "61712691",
   "metadata": {},
   "outputs": [
    {
     "data": {
      "text/plain": [
       "['[1.23 3.45 5.67]']"
      ]
     },
     "execution_count": 87,
     "metadata": {},
     "output_type": "execute_result"
    }
   ],
   "source": [
    "e=np.array([[1.23,3.45,5.67]])\n",
    "[str(i) for i in e]"
   ]
  },
  {
   "cell_type": "code",
   "execution_count": 88,
   "id": "97f740bd",
   "metadata": {},
   "outputs": [
    {
     "data": {
      "text/plain": [
       "['1.23', '3.45', '5.67']"
      ]
     },
     "execution_count": 88,
     "metadata": {},
     "output_type": "execute_result"
    }
   ],
   "source": [
    "e=np.array([1.23,3.45,5.67])\n",
    "[str(i) for i in e]"
   ]
  },
  {
   "cell_type": "code",
   "execution_count": null,
   "id": "4c96e4b0",
   "metadata": {},
   "outputs": [],
   "source": []
  }
 ],
 "metadata": {
  "kernelspec": {
   "display_name": "Python 3 (ipykernel)",
   "language": "python",
   "name": "python3"
  },
  "language_info": {
   "codemirror_mode": {
    "name": "ipython",
    "version": 3
   },
   "file_extension": ".py",
   "mimetype": "text/x-python",
   "name": "python",
   "nbconvert_exporter": "python",
   "pygments_lexer": "ipython3",
   "version": "3.10.7"
  }
 },
 "nbformat": 4,
 "nbformat_minor": 5
}
