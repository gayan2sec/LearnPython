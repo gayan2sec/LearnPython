{
 "cells": [
  {
   "cell_type": "code",
   "execution_count": 31,
   "id": "03035ae8",
   "metadata": {},
   "outputs": [
    {
     "name": "stdout",
     "output_type": "stream",
     "text": [
      "Hello!\n"
     ]
    }
   ],
   "source": [
    "print(\"Hello!\")"
   ]
  },
  {
   "cell_type": "markdown",
   "id": "2a4f23f6",
   "metadata": {},
   "source": [
    "Play with Python Arithmatic operators"
   ]
  },
  {
   "cell_type": "code",
   "execution_count": 104,
   "id": "6c1b5111",
   "metadata": {},
   "outputs": [
    {
     "data": {
      "text/plain": [
       "7"
      ]
     },
     "execution_count": 104,
     "metadata": {},
     "output_type": "execute_result"
    }
   ],
   "source": [
    "4+3"
   ]
  },
  {
   "cell_type": "code",
   "execution_count": 33,
   "id": "efb5fa49",
   "metadata": {},
   "outputs": [
    {
     "name": "stdout",
     "output_type": "stream",
     "text": [
      "3\n"
     ]
    }
   ],
   "source": [
    "print(15//4)\n"
   ]
  },
  {
   "cell_type": "code",
   "execution_count": 34,
   "id": "85236118",
   "metadata": {},
   "outputs": [
    {
     "name": "stdout",
     "output_type": "stream",
     "text": [
      "3\n"
     ]
    }
   ],
   "source": [
    "print(15%4)"
   ]
  },
  {
   "cell_type": "code",
   "execution_count": 35,
   "id": "38fb39c5",
   "metadata": {},
   "outputs": [
    {
     "name": "stdout",
     "output_type": "stream",
     "text": [
      "1\n"
     ]
    }
   ],
   "source": [
    "print(5%2)"
   ]
  },
  {
   "cell_type": "code",
   "execution_count": 36,
   "id": "9ae1085a",
   "metadata": {},
   "outputs": [
    {
     "data": {
      "text/plain": [
       "7"
      ]
     },
     "execution_count": 36,
     "metadata": {},
     "output_type": "execute_result"
    }
   ],
   "source": [
    "5+2"
   ]
  },
  {
   "cell_type": "code",
   "execution_count": 37,
   "id": "b99bcb59",
   "metadata": {},
   "outputs": [
    {
     "name": "stdout",
     "output_type": "stream",
     "text": [
      "16\n",
      "11\n"
     ]
    },
    {
     "data": {
      "text/plain": [
       "10"
      ]
     },
     "execution_count": 37,
     "metadata": {},
     "output_type": "execute_result"
    }
   ],
   "source": [
    "5+2\n",
    "print(9+7)\n",
    "print(4+7)\n",
    "3+7"
   ]
  },
  {
   "cell_type": "code",
   "execution_count": 38,
   "id": "05c88b7f",
   "metadata": {},
   "outputs": [
    {
     "data": {
      "text/plain": [
       "26"
      ]
     },
     "execution_count": 38,
     "metadata": {},
     "output_type": "execute_result"
    }
   ],
   "source": [
    "(4+2)**(5-3)-10"
   ]
  },
  {
   "cell_type": "code",
   "execution_count": 39,
   "id": "7d973fd2",
   "metadata": {},
   "outputs": [
    {
     "data": {
      "text/plain": [
       "4"
      ]
     },
     "execution_count": 39,
     "metadata": {},
     "output_type": "execute_result"
    }
   ],
   "source": [
    "((4+2)**(5-3)-10)%11"
   ]
  },
  {
   "cell_type": "markdown",
   "id": "68194af6",
   "metadata": {},
   "source": [
    "Play with Relational Operators"
   ]
  },
  {
   "cell_type": "code",
   "execution_count": 44,
   "id": "8429a1b2",
   "metadata": {},
   "outputs": [
    {
     "name": "stdout",
     "output_type": "stream",
     "text": [
      "False\n"
     ]
    }
   ],
   "source": [
    "print(5<2)"
   ]
  },
  {
   "cell_type": "code",
   "execution_count": 45,
   "id": "23bc367e",
   "metadata": {},
   "outputs": [
    {
     "data": {
      "text/plain": [
       "True"
      ]
     },
     "execution_count": 45,
     "metadata": {},
     "output_type": "execute_result"
    }
   ],
   "source": [
    "5>2"
   ]
  },
  {
   "cell_type": "code",
   "execution_count": 46,
   "id": "68e48fcd",
   "metadata": {},
   "outputs": [
    {
     "data": {
      "text/plain": [
       "False"
      ]
     },
     "execution_count": 46,
     "metadata": {},
     "output_type": "execute_result"
    }
   ],
   "source": [
    "5<2"
   ]
  },
  {
   "cell_type": "code",
   "execution_count": 47,
   "id": "e57361a8",
   "metadata": {},
   "outputs": [
    {
     "data": {
      "text/plain": [
       "True"
      ]
     },
     "execution_count": 47,
     "metadata": {},
     "output_type": "execute_result"
    }
   ],
   "source": [
    "7<=9"
   ]
  },
  {
   "cell_type": "code",
   "execution_count": 48,
   "id": "fb56cbda",
   "metadata": {},
   "outputs": [
    {
     "data": {
      "text/plain": [
       "True"
      ]
     },
     "execution_count": 48,
     "metadata": {},
     "output_type": "execute_result"
    }
   ],
   "source": [
    "7!=2"
   ]
  },
  {
   "cell_type": "code",
   "execution_count": 49,
   "id": "39857e2b",
   "metadata": {},
   "outputs": [
    {
     "data": {
      "text/plain": [
       "False"
      ]
     },
     "execution_count": 49,
     "metadata": {},
     "output_type": "execute_result"
    }
   ],
   "source": [
    "6==7"
   ]
  },
  {
   "cell_type": "code",
   "execution_count": 50,
   "id": "463b0ef1",
   "metadata": {},
   "outputs": [
    {
     "data": {
      "text/plain": [
       "True"
      ]
     },
     "execution_count": 50,
     "metadata": {},
     "output_type": "execute_result"
    }
   ],
   "source": [
    "6!=9"
   ]
  },
  {
   "cell_type": "code",
   "execution_count": 51,
   "id": "dea24c7e",
   "metadata": {},
   "outputs": [
    {
     "data": {
      "text/plain": [
       "True"
      ]
     },
     "execution_count": 51,
     "metadata": {},
     "output_type": "execute_result"
    }
   ],
   "source": [
    "6==6"
   ]
  },
  {
   "cell_type": "code",
   "execution_count": 55,
   "id": "27973352",
   "metadata": {},
   "outputs": [
    {
     "data": {
      "text/plain": [
       "False"
      ]
     },
     "execution_count": 55,
     "metadata": {},
     "output_type": "execute_result"
    }
   ],
   "source": [
    "6>6"
   ]
  },
  {
   "cell_type": "code",
   "execution_count": 53,
   "id": "ad82aa26",
   "metadata": {},
   "outputs": [
    {
     "data": {
      "text/plain": [
       "False"
      ]
     },
     "execution_count": 53,
     "metadata": {},
     "output_type": "execute_result"
    }
   ],
   "source": [
    "6!=6"
   ]
  },
  {
   "cell_type": "markdown",
   "id": "477ddf40",
   "metadata": {},
   "source": [
    "Play with Python Binary Operators"
   ]
  },
  {
   "cell_type": "code",
   "execution_count": 57,
   "id": "07165a52",
   "metadata": {},
   "outputs": [
    {
     "data": {
      "text/plain": [
       "1"
      ]
     },
     "execution_count": 57,
     "metadata": {},
     "output_type": "execute_result"
    }
   ],
   "source": [
    "1 and 1"
   ]
  },
  {
   "cell_type": "code",
   "execution_count": 58,
   "id": "93778617",
   "metadata": {},
   "outputs": [
    {
     "data": {
      "text/plain": [
       "0"
      ]
     },
     "execution_count": 58,
     "metadata": {},
     "output_type": "execute_result"
    }
   ],
   "source": [
    "1 and 0"
   ]
  },
  {
   "cell_type": "code",
   "execution_count": 59,
   "id": "6226e722",
   "metadata": {},
   "outputs": [
    {
     "data": {
      "text/plain": [
       "0"
      ]
     },
     "execution_count": 59,
     "metadata": {},
     "output_type": "execute_result"
    }
   ],
   "source": [
    "0 and 0"
   ]
  },
  {
   "cell_type": "code",
   "execution_count": 60,
   "id": "f19709fa",
   "metadata": {},
   "outputs": [
    {
     "data": {
      "text/plain": [
       "0"
      ]
     },
     "execution_count": 60,
     "metadata": {},
     "output_type": "execute_result"
    }
   ],
   "source": [
    "0 and 1"
   ]
  },
  {
   "cell_type": "code",
   "execution_count": 61,
   "id": "a70d42dc",
   "metadata": {},
   "outputs": [
    {
     "data": {
      "text/plain": [
       "1"
      ]
     },
     "execution_count": 61,
     "metadata": {},
     "output_type": "execute_result"
    }
   ],
   "source": [
    "1 or 1"
   ]
  },
  {
   "cell_type": "code",
   "execution_count": 62,
   "id": "d92a02da",
   "metadata": {},
   "outputs": [
    {
     "data": {
      "text/plain": [
       "1"
      ]
     },
     "execution_count": 62,
     "metadata": {},
     "output_type": "execute_result"
    }
   ],
   "source": [
    "0 or 1"
   ]
  },
  {
   "cell_type": "code",
   "execution_count": 63,
   "id": "a8ecea10",
   "metadata": {},
   "outputs": [
    {
     "name": "stdout",
     "output_type": "stream",
     "text": [
      "1\n"
     ]
    }
   ],
   "source": [
    "print(1 or 0)"
   ]
  },
  {
   "cell_type": "code",
   "execution_count": 64,
   "id": "fbafa238",
   "metadata": {},
   "outputs": [
    {
     "ename": "SyntaxError",
     "evalue": "invalid syntax (3649859033.py, line 1)",
     "output_type": "error",
     "traceback": [
      "\u001b[1;36m  Cell \u001b[1;32mIn[64], line 1\u001b[1;36m\u001b[0m\n\u001b[1;33m    1 not\u001b[0m\n\u001b[1;37m          ^\u001b[0m\n\u001b[1;31mSyntaxError\u001b[0m\u001b[1;31m:\u001b[0m invalid syntax\n"
     ]
    }
   ],
   "source": [
    "1 not "
   ]
  },
  {
   "cell_type": "code",
   "execution_count": 65,
   "id": "a64989ca",
   "metadata": {},
   "outputs": [
    {
     "data": {
      "text/plain": [
       "False"
      ]
     },
     "execution_count": 65,
     "metadata": {},
     "output_type": "execute_result"
    }
   ],
   "source": [
    "not 1"
   ]
  },
  {
   "cell_type": "code",
   "execution_count": 66,
   "id": "f545775f",
   "metadata": {},
   "outputs": [
    {
     "ename": "SyntaxError",
     "evalue": "invalid syntax (1621815627.py, line 1)",
     "output_type": "error",
     "traceback": [
      "\u001b[1;36m  Cell \u001b[1;32mIn[66], line 1\u001b[1;36m\u001b[0m\n\u001b[1;33m    Not 0\u001b[0m\n\u001b[1;37m        ^\u001b[0m\n\u001b[1;31mSyntaxError\u001b[0m\u001b[1;31m:\u001b[0m invalid syntax\n"
     ]
    }
   ],
   "source": [
    "Not 0"
   ]
  },
  {
   "cell_type": "code",
   "execution_count": 68,
   "id": "580b710a",
   "metadata": {},
   "outputs": [
    {
     "data": {
      "text/plain": [
       "True"
      ]
     },
     "execution_count": 68,
     "metadata": {},
     "output_type": "execute_result"
    }
   ],
   "source": [
    "not 0"
   ]
  },
  {
   "cell_type": "code",
   "execution_count": 69,
   "id": "7ea1c3d0",
   "metadata": {},
   "outputs": [
    {
     "data": {
      "text/plain": [
       "False"
      ]
     },
     "execution_count": 69,
     "metadata": {},
     "output_type": "execute_result"
    }
   ],
   "source": [
    "5<2 and 3==3"
   ]
  },
  {
   "cell_type": "code",
   "execution_count": 70,
   "id": "16712217",
   "metadata": {},
   "outputs": [
    {
     "data": {
      "text/plain": [
       "True"
      ]
     },
     "execution_count": 70,
     "metadata": {},
     "output_type": "execute_result"
    }
   ],
   "source": [
    "5>2 and 3==3"
   ]
  },
  {
   "cell_type": "code",
   "execution_count": 72,
   "id": "1a8078cb",
   "metadata": {},
   "outputs": [
    {
     "data": {
      "text/plain": [
       "True"
      ]
     },
     "execution_count": 72,
     "metadata": {},
     "output_type": "execute_result"
    }
   ],
   "source": [
    "5>2"
   ]
  },
  {
   "cell_type": "code",
   "execution_count": 73,
   "id": "66d60cd9",
   "metadata": {},
   "outputs": [
    {
     "data": {
      "text/plain": [
       "False"
      ]
     },
     "execution_count": 73,
     "metadata": {},
     "output_type": "execute_result"
    }
   ],
   "source": [
    "not 5>2"
   ]
  },
  {
   "cell_type": "code",
   "execution_count": 78,
   "id": "a27c67b2",
   "metadata": {},
   "outputs": [
    {
     "data": {
      "text/plain": [
       "True"
      ]
     },
     "execution_count": 78,
     "metadata": {},
     "output_type": "execute_result"
    }
   ],
   "source": [
    "(5>2  and 3<1) or 10>7"
   ]
  },
  {
   "cell_type": "code",
   "execution_count": 79,
   "id": "72bd2ce9",
   "metadata": {},
   "outputs": [
    {
     "data": {
      "text/plain": [
       "False"
      ]
     },
     "execution_count": 79,
     "metadata": {},
     "output_type": "execute_result"
    }
   ],
   "source": [
    "not ((5>2  and 3<1) or 10>7)"
   ]
  },
  {
   "cell_type": "code",
   "execution_count": 80,
   "id": "9cc0319a",
   "metadata": {},
   "outputs": [
    {
     "data": {
      "text/plain": [
       "True"
      ]
     },
     "execution_count": 80,
     "metadata": {},
     "output_type": "execute_result"
    }
   ],
   "source": [
    "a = True\n",
    "b = False\n",
    "a ^ b"
   ]
  },
  {
   "cell_type": "code",
   "execution_count": 81,
   "id": "e531b87c",
   "metadata": {},
   "outputs": [
    {
     "data": {
      "text/plain": [
       "False"
      ]
     },
     "execution_count": 81,
     "metadata": {},
     "output_type": "execute_result"
    }
   ],
   "source": [
    "a = True\n",
    "b = True\n",
    "a ^ b"
   ]
  },
  {
   "cell_type": "code",
   "execution_count": 82,
   "id": "179657b9",
   "metadata": {},
   "outputs": [
    {
     "data": {
      "text/plain": [
       "True"
      ]
     },
     "execution_count": 82,
     "metadata": {},
     "output_type": "execute_result"
    }
   ],
   "source": [
    "a = True\n",
    "b = False\n",
    "a ^ b"
   ]
  },
  {
   "cell_type": "code",
   "execution_count": 83,
   "id": "9a8145bf",
   "metadata": {},
   "outputs": [
    {
     "data": {
      "text/plain": [
       "False"
      ]
     },
     "execution_count": 83,
     "metadata": {},
     "output_type": "execute_result"
    }
   ],
   "source": [
    "a = False\n",
    "b = False\n",
    "a ^ b"
   ]
  },
  {
   "cell_type": "code",
   "execution_count": 85,
   "id": "8f83c871",
   "metadata": {},
   "outputs": [
    {
     "name": "stdout",
     "output_type": "stream",
     "text": [
      "a before swap = 45\n",
      "b before swap = 21\n",
      "\n",
      "a after swap = 21\n",
      "b after swap = 45\n"
     ]
    }
   ],
   "source": [
    "# Initializing two integer variables\n",
    "a = 45\n",
    "b = 21\n",
    "\n",
    "# Printing a and b before swapping\n",
    "print(\"a before swap =\", a)\n",
    "print(\"b before swap =\", b)\n",
    "\n",
    "print()\n",
    "\n",
    "# Swapping a and b using XOR operator\n",
    "a = a ^ b\n",
    "b = a ^ b\n",
    "a = a ^ b\n",
    "\n",
    "# Printing a and b after swapping using XOR\n",
    "print(\"a after swap =\", a)\n",
    "print(\"b after swap =\", b)"
   ]
  },
  {
   "cell_type": "markdown",
   "id": "b139e1b1",
   "metadata": {},
   "source": [
    "Python Primitive data types"
   ]
  },
  {
   "cell_type": "code",
   "execution_count": 86,
   "id": "d8ab17b5",
   "metadata": {},
   "outputs": [
    {
     "data": {
      "text/plain": [
       "2"
      ]
     },
     "execution_count": 86,
     "metadata": {},
     "output_type": "execute_result"
    }
   ],
   "source": [
    "2"
   ]
  },
  {
   "cell_type": "code",
   "execution_count": 97,
   "id": "46964aa1",
   "metadata": {},
   "outputs": [
    {
     "data": {
      "text/plain": [
       "int"
      ]
     },
     "execution_count": 97,
     "metadata": {},
     "output_type": "execute_result"
    }
   ],
   "source": [
    "type(2)"
   ]
  },
  {
   "cell_type": "code",
   "execution_count": 96,
   "id": "d2fee2fd",
   "metadata": {},
   "outputs": [
    {
     "name": "stdout",
     "output_type": "stream",
     "text": [
      "<class 'int'>\n"
     ]
    }
   ],
   "source": [
    "print(type(2))"
   ]
  },
  {
   "cell_type": "code",
   "execution_count": 87,
   "id": "83beb3d6",
   "metadata": {},
   "outputs": [
    {
     "data": {
      "text/plain": [
       "-4"
      ]
     },
     "execution_count": 87,
     "metadata": {},
     "output_type": "execute_result"
    }
   ],
   "source": [
    "-4"
   ]
  },
  {
   "cell_type": "code",
   "execution_count": 95,
   "id": "7a4c8e3d",
   "metadata": {},
   "outputs": [
    {
     "data": {
      "text/plain": [
       "int"
      ]
     },
     "execution_count": 95,
     "metadata": {},
     "output_type": "execute_result"
    }
   ],
   "source": [
    "type(-4)"
   ]
  },
  {
   "cell_type": "code",
   "execution_count": 88,
   "id": "1ed5df61",
   "metadata": {},
   "outputs": [
    {
     "data": {
      "text/plain": [
       "2.45"
      ]
     },
     "execution_count": 88,
     "metadata": {},
     "output_type": "execute_result"
    }
   ],
   "source": [
    "2.45"
   ]
  },
  {
   "cell_type": "code",
   "execution_count": 94,
   "id": "18780d72",
   "metadata": {},
   "outputs": [
    {
     "data": {
      "text/plain": [
       "float"
      ]
     },
     "execution_count": 94,
     "metadata": {},
     "output_type": "execute_result"
    }
   ],
   "source": [
    "type(2.45)"
   ]
  },
  {
   "cell_type": "code",
   "execution_count": 89,
   "id": "29eda7bd",
   "metadata": {},
   "outputs": [
    {
     "data": {
      "text/plain": [
       "-4.45"
      ]
     },
     "execution_count": 89,
     "metadata": {},
     "output_type": "execute_result"
    }
   ],
   "source": [
    "-4.45"
   ]
  },
  {
   "cell_type": "code",
   "execution_count": 92,
   "id": "f2241fdd",
   "metadata": {},
   "outputs": [
    {
     "data": {
      "text/plain": [
       "3.0"
      ]
     },
     "execution_count": 92,
     "metadata": {},
     "output_type": "execute_result"
    }
   ],
   "source": [
    "3.0"
   ]
  },
  {
   "cell_type": "code",
   "execution_count": 93,
   "id": "e723695f",
   "metadata": {},
   "outputs": [
    {
     "data": {
      "text/plain": [
       "float"
      ]
     },
     "execution_count": 93,
     "metadata": {},
     "output_type": "execute_result"
    }
   ],
   "source": [
    "type(3.0)"
   ]
  },
  {
   "cell_type": "code",
   "execution_count": 99,
   "id": "0724458b",
   "metadata": {},
   "outputs": [
    {
     "data": {
      "text/plain": [
       "bool"
      ]
     },
     "execution_count": 99,
     "metadata": {},
     "output_type": "execute_result"
    }
   ],
   "source": [
    "type(True)"
   ]
  },
  {
   "cell_type": "code",
   "execution_count": 100,
   "id": "bf90d4cd",
   "metadata": {},
   "outputs": [
    {
     "data": {
      "text/plain": [
       "str"
      ]
     },
     "execution_count": 100,
     "metadata": {},
     "output_type": "execute_result"
    }
   ],
   "source": [
    "type(\"Hi\")"
   ]
  },
  {
   "cell_type": "code",
   "execution_count": 101,
   "id": "6428252a",
   "metadata": {},
   "outputs": [
    {
     "data": {
      "text/plain": [
       "str"
      ]
     },
     "execution_count": 101,
     "metadata": {},
     "output_type": "execute_result"
    }
   ],
   "source": [
    "type(\"\")"
   ]
  },
  {
   "cell_type": "code",
   "execution_count": 102,
   "id": "ec9042ed",
   "metadata": {},
   "outputs": [
    {
     "data": {
      "text/plain": [
       "str"
      ]
     },
     "execution_count": 102,
     "metadata": {},
     "output_type": "execute_result"
    }
   ],
   "source": [
    "type('')"
   ]
  },
  {
   "cell_type": "code",
   "execution_count": 105,
   "id": "4ecaf1f1",
   "metadata": {},
   "outputs": [
    {
     "data": {
      "text/plain": [
       "str"
      ]
     },
     "execution_count": 105,
     "metadata": {},
     "output_type": "execute_result"
    }
   ],
   "source": [
    "type('dog is barking')"
   ]
  },
  {
   "cell_type": "code",
   "execution_count": 106,
   "id": "98e6416f",
   "metadata": {},
   "outputs": [
    {
     "data": {
      "text/plain": [
       "True"
      ]
     },
     "execution_count": 106,
     "metadata": {},
     "output_type": "execute_result"
    }
   ],
   "source": [
    "isinstance(2,int)"
   ]
  },
  {
   "cell_type": "code",
   "execution_count": 107,
   "id": "a2e74b51",
   "metadata": {},
   "outputs": [
    {
     "data": {
      "text/plain": [
       "False"
      ]
     },
     "execution_count": 107,
     "metadata": {},
     "output_type": "execute_result"
    }
   ],
   "source": [
    "isinstance(2.1,int)"
   ]
  },
  {
   "cell_type": "code",
   "execution_count": 108,
   "id": "338ad05b",
   "metadata": {},
   "outputs": [
    {
     "data": {
      "text/plain": [
       "True"
      ]
     },
     "execution_count": 108,
     "metadata": {},
     "output_type": "execute_result"
    }
   ],
   "source": [
    "isinstance(2.1,float)"
   ]
  },
  {
   "cell_type": "code",
   "execution_count": 113,
   "id": "6501e8c9",
   "metadata": {},
   "outputs": [
    {
     "data": {
      "text/plain": [
       "bool"
      ]
     },
     "execution_count": 113,
     "metadata": {},
     "output_type": "execute_result"
    }
   ],
   "source": [
    "type(True)"
   ]
  },
  {
   "cell_type": "code",
   "execution_count": 111,
   "id": "487d7961",
   "metadata": {},
   "outputs": [
    {
     "data": {
      "text/plain": [
       "True"
      ]
     },
     "execution_count": 111,
     "metadata": {},
     "output_type": "execute_result"
    }
   ],
   "source": [
    "isinstance(True,bool)"
   ]
  },
  {
   "cell_type": "code",
   "execution_count": 114,
   "id": "934d8e62",
   "metadata": {},
   "outputs": [
    {
     "data": {
      "text/plain": [
       "str"
      ]
     },
     "execution_count": 114,
     "metadata": {},
     "output_type": "execute_result"
    }
   ],
   "source": [
    "type(\"True\")"
   ]
  },
  {
   "cell_type": "code",
   "execution_count": 112,
   "id": "c7c1623c",
   "metadata": {},
   "outputs": [
    {
     "data": {
      "text/plain": [
       "False"
      ]
     },
     "execution_count": 112,
     "metadata": {},
     "output_type": "execute_result"
    }
   ],
   "source": [
    "isinstance(\"True\",bool)"
   ]
  },
  {
   "cell_type": "code",
   "execution_count": 116,
   "id": "88c56fd7",
   "metadata": {},
   "outputs": [
    {
     "data": {
      "text/plain": [
       "2.67"
      ]
     },
     "execution_count": 116,
     "metadata": {},
     "output_type": "execute_result"
    }
   ],
   "source": [
    "round(2.666666,2)"
   ]
  },
  {
   "cell_type": "code",
   "execution_count": 118,
   "id": "bd9b9d9b",
   "metadata": {},
   "outputs": [
    {
     "data": {
      "text/plain": [
       "2.7"
      ]
     },
     "execution_count": 118,
     "metadata": {},
     "output_type": "execute_result"
    }
   ],
   "source": [
    "round(2.666666,1)"
   ]
  },
  {
   "cell_type": "code",
   "execution_count": 119,
   "id": "ace124c2",
   "metadata": {},
   "outputs": [
    {
     "data": {
      "text/plain": [
       "3.0"
      ]
     },
     "execution_count": 119,
     "metadata": {},
     "output_type": "execute_result"
    }
   ],
   "source": [
    "round(2.666666,0)"
   ]
  },
  {
   "cell_type": "markdown",
   "id": "798f7740",
   "metadata": {},
   "source": [
    "Playing with Python Type Casting"
   ]
  },
  {
   "cell_type": "code",
   "execution_count": 124,
   "id": "f1aca241",
   "metadata": {},
   "outputs": [],
   "source": [
    "#All primitive types support type casting\n",
    "#int()\n",
    "#float\n",
    "#bool\n",
    "#str\n"
   ]
  },
  {
   "cell_type": "code",
   "execution_count": 129,
   "id": "a8351e39",
   "metadata": {},
   "outputs": [
    {
     "data": {
      "text/plain": [
       "3"
      ]
     },
     "execution_count": 129,
     "metadata": {},
     "output_type": "execute_result"
    }
   ],
   "source": [
    "int(3.6323)"
   ]
  },
  {
   "cell_type": "code",
   "execution_count": 125,
   "id": "e796904f",
   "metadata": {},
   "outputs": [
    {
     "data": {
      "text/plain": [
       "5"
      ]
     },
     "execution_count": 125,
     "metadata": {},
     "output_type": "execute_result"
    }
   ],
   "source": [
    "3+int(\"2\")"
   ]
  },
  {
   "cell_type": "code",
   "execution_count": 126,
   "id": "3eb4e59a",
   "metadata": {},
   "outputs": [
    {
     "data": {
      "text/plain": [
       "'4.56'"
      ]
     },
     "execution_count": 126,
     "metadata": {},
     "output_type": "execute_result"
    }
   ],
   "source": [
    "str(4.56)"
   ]
  },
  {
   "cell_type": "code",
   "execution_count": 127,
   "id": "eda1c5ee",
   "metadata": {},
   "outputs": [
    {
     "data": {
      "text/plain": [
       "'True'"
      ]
     },
     "execution_count": 127,
     "metadata": {},
     "output_type": "execute_result"
    }
   ],
   "source": [
    "str(True)"
   ]
  },
  {
   "cell_type": "code",
   "execution_count": 128,
   "id": "ae174321",
   "metadata": {},
   "outputs": [
    {
     "data": {
      "text/plain": [
       "2.0"
      ]
     },
     "execution_count": 128,
     "metadata": {},
     "output_type": "execute_result"
    }
   ],
   "source": [
    "float(\"2\")"
   ]
  },
  {
   "cell_type": "code",
   "execution_count": 130,
   "id": "cf17de0c",
   "metadata": {},
   "outputs": [
    {
     "data": {
      "text/plain": [
       "4"
      ]
     },
     "execution_count": 130,
     "metadata": {},
     "output_type": "execute_result"
    }
   ],
   "source": [
    "int(4.34)"
   ]
  },
  {
   "cell_type": "code",
   "execution_count": 131,
   "id": "d1f91fcb",
   "metadata": {},
   "outputs": [
    {
     "ename": "ValueError",
     "evalue": "invalid literal for int() with base 10: '4.34'",
     "output_type": "error",
     "traceback": [
      "\u001b[1;31m---------------------------------------------------------------------------\u001b[0m",
      "\u001b[1;31mValueError\u001b[0m                                Traceback (most recent call last)",
      "Cell \u001b[1;32mIn[131], line 1\u001b[0m\n\u001b[1;32m----> 1\u001b[0m \u001b[38;5;28;43mint\u001b[39;49m\u001b[43m(\u001b[49m\u001b[38;5;124;43m\"\u001b[39;49m\u001b[38;5;124;43m4.34\u001b[39;49m\u001b[38;5;124;43m\"\u001b[39;49m\u001b[43m)\u001b[49m\n",
      "\u001b[1;31mValueError\u001b[0m: invalid literal for int() with base 10: '4.34'"
     ]
    }
   ],
   "source": [
    "int(\"4.34\")"
   ]
  },
  {
   "cell_type": "code",
   "execution_count": 133,
   "id": "7d80cf72",
   "metadata": {},
   "outputs": [
    {
     "data": {
      "text/plain": [
       "4"
      ]
     },
     "execution_count": 133,
     "metadata": {},
     "output_type": "execute_result"
    }
   ],
   "source": [
    "int(float(\"4.34\"))"
   ]
  },
  {
   "cell_type": "code",
   "execution_count": 150,
   "id": "5afaf8fa",
   "metadata": {},
   "outputs": [
    {
     "data": {
      "text/plain": [
       "True"
      ]
     },
     "execution_count": 150,
     "metadata": {},
     "output_type": "execute_result"
    }
   ],
   "source": [
    "bool(3)"
   ]
  },
  {
   "cell_type": "code",
   "execution_count": 151,
   "id": "9e9a2766",
   "metadata": {},
   "outputs": [
    {
     "data": {
      "text/plain": [
       "False"
      ]
     },
     "execution_count": 151,
     "metadata": {},
     "output_type": "execute_result"
    }
   ],
   "source": [
    "bool(0.00000)"
   ]
  },
  {
   "cell_type": "code",
   "execution_count": 152,
   "id": "ad047e84",
   "metadata": {},
   "outputs": [
    {
     "data": {
      "text/plain": [
       "False"
      ]
     },
     "execution_count": 152,
     "metadata": {},
     "output_type": "execute_result"
    }
   ],
   "source": [
    "bool(0)"
   ]
  },
  {
   "cell_type": "code",
   "execution_count": 153,
   "id": "5abda256",
   "metadata": {},
   "outputs": [
    {
     "data": {
      "text/plain": [
       "False"
      ]
     },
     "execution_count": 153,
     "metadata": {},
     "output_type": "execute_result"
    }
   ],
   "source": [
    "bool(\"\")"
   ]
  },
  {
   "cell_type": "code",
   "execution_count": 154,
   "id": "65f64c00",
   "metadata": {},
   "outputs": [
    {
     "data": {
      "text/plain": [
       "True"
      ]
     },
     "execution_count": 154,
     "metadata": {},
     "output_type": "execute_result"
    }
   ],
   "source": [
    "bool(-4.55)"
   ]
  },
  {
   "cell_type": "code",
   "execution_count": 155,
   "id": "76b5b7e0",
   "metadata": {},
   "outputs": [
    {
     "data": {
      "text/plain": [
       "True"
      ]
     },
     "execution_count": 155,
     "metadata": {},
     "output_type": "execute_result"
    }
   ],
   "source": [
    "bool(\"cat\")"
   ]
  },
  {
   "cell_type": "code",
   "execution_count": 157,
   "id": "1ce0c0b6",
   "metadata": {},
   "outputs": [
    {
     "data": {
      "text/plain": [
       "1"
      ]
     },
     "execution_count": 157,
     "metadata": {},
     "output_type": "execute_result"
    }
   ],
   "source": [
    "int(True)"
   ]
  },
  {
   "cell_type": "code",
   "execution_count": 158,
   "id": "1f530336",
   "metadata": {},
   "outputs": [
    {
     "data": {
      "text/plain": [
       "0"
      ]
     },
     "execution_count": 158,
     "metadata": {},
     "output_type": "execute_result"
    }
   ],
   "source": [
    "int(False)"
   ]
  },
  {
   "cell_type": "code",
   "execution_count": 161,
   "id": "79e860cb",
   "metadata": {},
   "outputs": [
    {
     "data": {
      "text/plain": [
       "1.0"
      ]
     },
     "execution_count": 161,
     "metadata": {},
     "output_type": "execute_result"
    }
   ],
   "source": [
    "float(True)"
   ]
  },
  {
   "cell_type": "code",
   "execution_count": 162,
   "id": "bd56ffe2",
   "metadata": {},
   "outputs": [
    {
     "data": {
      "text/plain": [
       "'True'"
      ]
     },
     "execution_count": 162,
     "metadata": {},
     "output_type": "execute_result"
    }
   ],
   "source": [
    "str(True)"
   ]
  },
  {
   "cell_type": "code",
   "execution_count": 145,
   "id": "6b33c598",
   "metadata": {},
   "outputs": [
    {
     "name": "stdout",
     "output_type": "stream",
     "text": [
      "Values are x:10 y:2.45 bool:True\n"
     ]
    }
   ],
   "source": [
    "x=10\n",
    "y=2.45\n",
    "valid = True\n",
    "print(\"Values are x:\"+str(x)+\" y:\"+str(y) +\" bool:\"+str(valid))"
   ]
  },
  {
   "cell_type": "code",
   "execution_count": 146,
   "id": "9b3e2e5f",
   "metadata": {},
   "outputs": [
    {
     "name": "stdout",
     "output_type": "stream",
     "text": [
      "Values are x:10 y:2.45 valid:True\n"
     ]
    }
   ],
   "source": [
    "#There is an easy way for concatenation with f-string and {} <---for variables\n",
    "x=10\n",
    "y=2.45\n",
    "valid = True\n",
    "print(f\"Values are x:{x} y:{y} valid:{valid}\")"
   ]
  },
  {
   "cell_type": "code",
   "execution_count": null,
   "id": "2d0908db",
   "metadata": {},
   "outputs": [],
   "source": []
  }
 ],
 "metadata": {
  "kernelspec": {
   "display_name": "Python 3 (ipykernel)",
   "language": "python",
   "name": "python3"
  },
  "language_info": {
   "codemirror_mode": {
    "name": "ipython",
    "version": 3
   },
   "file_extension": ".py",
   "mimetype": "text/x-python",
   "name": "python",
   "nbconvert_exporter": "python",
   "pygments_lexer": "ipython3",
   "version": "3.10.9"
  }
 },
 "nbformat": 4,
 "nbformat_minor": 5
}
