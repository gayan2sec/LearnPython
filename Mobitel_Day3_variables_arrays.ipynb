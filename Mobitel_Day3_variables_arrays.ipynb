{
 "cells": [
  {
   "cell_type": "markdown",
   "id": "4250a17f",
   "metadata": {},
   "source": [
    "Variables"
   ]
  },
  {
   "cell_type": "code",
   "execution_count": 20,
   "id": "598eb000",
   "metadata": {},
   "outputs": [],
   "source": [
    "a=10\n",
    "b=20"
   ]
  },
  {
   "cell_type": "code",
   "execution_count": 21,
   "id": "4ed36d81",
   "metadata": {},
   "outputs": [
    {
     "data": {
      "text/plain": [
       "10"
      ]
     },
     "execution_count": 21,
     "metadata": {},
     "output_type": "execute_result"
    }
   ],
   "source": [
    "a"
   ]
  },
  {
   "cell_type": "code",
   "execution_count": 22,
   "id": "e113b8bd",
   "metadata": {},
   "outputs": [
    {
     "data": {
      "text/plain": [
       "20"
      ]
     },
     "execution_count": 22,
     "metadata": {},
     "output_type": "execute_result"
    }
   ],
   "source": [
    "b"
   ]
  },
  {
   "cell_type": "code",
   "execution_count": 23,
   "id": "3327b693",
   "metadata": {},
   "outputs": [
    {
     "data": {
      "text/plain": [
       "30"
      ]
     },
     "execution_count": 23,
     "metadata": {},
     "output_type": "execute_result"
    }
   ],
   "source": [
    "a+b"
   ]
  },
  {
   "cell_type": "code",
   "execution_count": 24,
   "id": "b0303c8a",
   "metadata": {},
   "outputs": [],
   "source": [
    "a=b=c=10"
   ]
  },
  {
   "cell_type": "code",
   "execution_count": 25,
   "id": "ac8d78ff",
   "metadata": {},
   "outputs": [
    {
     "data": {
      "text/plain": [
       "10"
      ]
     },
     "execution_count": 25,
     "metadata": {},
     "output_type": "execute_result"
    }
   ],
   "source": [
    "b"
   ]
  },
  {
   "cell_type": "code",
   "execution_count": 26,
   "id": "4e0fa567",
   "metadata": {},
   "outputs": [],
   "source": [
    "a,b,c=10,20,30"
   ]
  },
  {
   "cell_type": "code",
   "execution_count": 27,
   "id": "cdaa3fbe",
   "metadata": {},
   "outputs": [
    {
     "data": {
      "text/plain": [
       "20"
      ]
     },
     "execution_count": 27,
     "metadata": {},
     "output_type": "execute_result"
    }
   ],
   "source": [
    "b"
   ]
  },
  {
   "cell_type": "code",
   "execution_count": 28,
   "id": "666a4969",
   "metadata": {},
   "outputs": [
    {
     "data": {
      "text/plain": [
       "30"
      ]
     },
     "execution_count": 28,
     "metadata": {},
     "output_type": "execute_result"
    }
   ],
   "source": [
    "c"
   ]
  },
  {
   "cell_type": "code",
   "execution_count": 18,
   "id": "85a8aff8",
   "metadata": {},
   "outputs": [
    {
     "data": {
      "text/plain": [
       "[1, 2, 4, 5]"
      ]
     },
     "execution_count": 18,
     "metadata": {},
     "output_type": "execute_result"
    }
   ],
   "source": [
    "[1,2,4,5]"
   ]
  },
  {
   "cell_type": "code",
   "execution_count": 5,
   "id": "0a6f5857",
   "metadata": {},
   "outputs": [],
   "source": [
    "a=[2,3,4,5,6]"
   ]
  },
  {
   "cell_type": "code",
   "execution_count": 6,
   "id": "8a87fe76",
   "metadata": {},
   "outputs": [
    {
     "data": {
      "text/plain": [
       "list"
      ]
     },
     "execution_count": 6,
     "metadata": {},
     "output_type": "execute_result"
    }
   ],
   "source": [
    "type(a)"
   ]
  },
  {
   "cell_type": "code",
   "execution_count": 7,
   "id": "e64d2a14",
   "metadata": {},
   "outputs": [
    {
     "data": {
      "text/plain": [
       "2"
      ]
     },
     "execution_count": 7,
     "metadata": {},
     "output_type": "execute_result"
    }
   ],
   "source": [
    "a[0]"
   ]
  },
  {
   "cell_type": "code",
   "execution_count": 8,
   "id": "5819ed36",
   "metadata": {},
   "outputs": [],
   "source": [
    "b=[2,4,5.6,\"name\"]"
   ]
  },
  {
   "cell_type": "code",
   "execution_count": 9,
   "id": "b6243809",
   "metadata": {},
   "outputs": [
    {
     "data": {
      "text/plain": [
       "[2, 4, 5.6, 'name']"
      ]
     },
     "execution_count": 9,
     "metadata": {},
     "output_type": "execute_result"
    }
   ],
   "source": [
    "b"
   ]
  },
  {
   "cell_type": "code",
   "execution_count": 10,
   "id": "ecb6a989",
   "metadata": {},
   "outputs": [
    {
     "data": {
      "text/plain": [
       "'name'"
      ]
     },
     "execution_count": 10,
     "metadata": {},
     "output_type": "execute_result"
    }
   ],
   "source": [
    "b[3]"
   ]
  },
  {
   "cell_type": "code",
   "execution_count": 11,
   "id": "0f7284af",
   "metadata": {},
   "outputs": [],
   "source": [
    "c=[2, 4, 5.6, 'cat','dog',[2.5,5,2,6,7]]"
   ]
  },
  {
   "cell_type": "code",
   "execution_count": 15,
   "id": "bf1da056",
   "metadata": {},
   "outputs": [
    {
     "data": {
      "text/plain": [
       "list"
      ]
     },
     "execution_count": 15,
     "metadata": {},
     "output_type": "execute_result"
    }
   ],
   "source": [
    "type(c)"
   ]
  },
  {
   "cell_type": "code",
   "execution_count": 12,
   "id": "e27cc19f",
   "metadata": {},
   "outputs": [
    {
     "data": {
      "text/plain": [
       "5.6"
      ]
     },
     "execution_count": 12,
     "metadata": {},
     "output_type": "execute_result"
    }
   ],
   "source": [
    "c[2]"
   ]
  },
  {
   "cell_type": "code",
   "execution_count": 13,
   "id": "e949ac74",
   "metadata": {},
   "outputs": [
    {
     "data": {
      "text/plain": [
       "[2.5, 5, 2, 6, 7]"
      ]
     },
     "execution_count": 13,
     "metadata": {},
     "output_type": "execute_result"
    }
   ],
   "source": [
    "c[5]"
   ]
  },
  {
   "cell_type": "code",
   "execution_count": 14,
   "id": "235323bd",
   "metadata": {},
   "outputs": [
    {
     "data": {
      "text/plain": [
       "2"
      ]
     },
     "execution_count": 14,
     "metadata": {},
     "output_type": "execute_result"
    }
   ],
   "source": [
    "c[5][2]"
   ]
  },
  {
   "cell_type": "code",
   "execution_count": 16,
   "id": "be24cae2",
   "metadata": {},
   "outputs": [
    {
     "data": {
      "text/plain": [
       "6"
      ]
     },
     "execution_count": 16,
     "metadata": {},
     "output_type": "execute_result"
    }
   ],
   "source": [
    "len(c)"
   ]
  },
  {
   "cell_type": "code",
   "execution_count": 17,
   "id": "aef27110",
   "metadata": {},
   "outputs": [
    {
     "data": {
      "text/plain": [
       "5"
      ]
     },
     "execution_count": 17,
     "metadata": {},
     "output_type": "execute_result"
    }
   ],
   "source": [
    "len(c[5])"
   ]
  },
  {
   "cell_type": "code",
   "execution_count": 29,
   "id": "66827f74",
   "metadata": {},
   "outputs": [],
   "source": [
    "a=[1,2,3,4,6]\n",
    "b=[2,4,6,8,10,12,14]"
   ]
  },
  {
   "cell_type": "code",
   "execution_count": 33,
   "id": "6eda6717",
   "metadata": {},
   "outputs": [
    {
     "data": {
      "text/plain": [
       "[1, 2, 3, 4, 6, 2, 4, 6, 8, 10, 12, 14]"
      ]
     },
     "execution_count": 33,
     "metadata": {},
     "output_type": "execute_result"
    }
   ],
   "source": [
    "a+b\n",
    "#=[1,2,3,4,6]+[2,4,6,8,10,12,14]"
   ]
  },
  {
   "cell_type": "code",
   "execution_count": 45,
   "id": "5d23c1bd",
   "metadata": {},
   "outputs": [
    {
     "data": {
      "text/plain": [
       "[1, 2, 3, 4, 6, 2, 4, 6, 8, 10, 12, 14]"
      ]
     },
     "execution_count": 45,
     "metadata": {},
     "output_type": "execute_result"
    }
   ],
   "source": [
    "[1,2,3,4,6]+[2,4,6,8,10,12,14]\n",
    "#list is extended with the second list"
   ]
  },
  {
   "cell_type": "code",
   "execution_count": 32,
   "id": "2b6faf69",
   "metadata": {},
   "outputs": [
    {
     "data": {
      "text/plain": [
       "[1, 2, 3, 4, 6, 1, 2, 3, 4, 6, 1, 2, 3, 4, 6]"
      ]
     },
     "execution_count": 32,
     "metadata": {},
     "output_type": "execute_result"
    }
   ],
   "source": [
    "3*a\n",
    "#=a+a+a\n",
    "#=[1,2,3,4,6]+[1,2,3,4,6]+[1,2,3,4,6]"
   ]
  },
  {
   "cell_type": "code",
   "execution_count": 35,
   "id": "af9302f1",
   "metadata": {},
   "outputs": [
    {
     "data": {
      "text/plain": [
       "[1, 2, 3, 4, 6, 1, 2, 3, 4, 6, 1, 2, 3, 4, 6]"
      ]
     },
     "execution_count": 35,
     "metadata": {},
     "output_type": "execute_result"
    }
   ],
   "source": [
    "[1,2,3,4,6]+[1,2,3,4,6]+[1,2,3,4,6]"
   ]
  },
  {
   "cell_type": "code",
   "execution_count": 36,
   "id": "e2eae5db",
   "metadata": {},
   "outputs": [],
   "source": [
    "a=[1, 2, 3, 4, 6, 1, 2, 3, 4, 6, 1, 2, 3, 4, 6]"
   ]
  },
  {
   "cell_type": "code",
   "execution_count": 37,
   "id": "cc550174",
   "metadata": {},
   "outputs": [
    {
     "data": {
      "text/plain": [
       "15"
      ]
     },
     "execution_count": 37,
     "metadata": {},
     "output_type": "execute_result"
    }
   ],
   "source": [
    "len(a)"
   ]
  },
  {
   "cell_type": "code",
   "execution_count": 38,
   "id": "65588cf1",
   "metadata": {},
   "outputs": [
    {
     "data": {
      "text/plain": [
       "2"
      ]
     },
     "execution_count": 38,
     "metadata": {},
     "output_type": "execute_result"
    }
   ],
   "source": [
    "a[1]"
   ]
  },
  {
   "cell_type": "code",
   "execution_count": 39,
   "id": "c9c96104",
   "metadata": {},
   "outputs": [
    {
     "data": {
      "text/plain": [
       "4"
      ]
     },
     "execution_count": 39,
     "metadata": {},
     "output_type": "execute_result"
    }
   ],
   "source": [
    "a[3]"
   ]
  },
  {
   "cell_type": "code",
   "execution_count": 40,
   "id": "2c58b83e",
   "metadata": {},
   "outputs": [
    {
     "data": {
      "text/plain": [
       "6"
      ]
     },
     "execution_count": 40,
     "metadata": {},
     "output_type": "execute_result"
    }
   ],
   "source": [
    "a[-1]"
   ]
  },
  {
   "cell_type": "code",
   "execution_count": 41,
   "id": "4679862a",
   "metadata": {},
   "outputs": [
    {
     "data": {
      "text/plain": [
       "[1, 2, 3, 4, 6, 1, 2, 3, 4, 6, 1, 2, 3, 4, 6]"
      ]
     },
     "execution_count": 41,
     "metadata": {},
     "output_type": "execute_result"
    }
   ],
   "source": [
    "a"
   ]
  },
  {
   "cell_type": "code",
   "execution_count": 42,
   "id": "789f7267",
   "metadata": {},
   "outputs": [
    {
     "data": {
      "text/plain": [
       "4"
      ]
     },
     "execution_count": 42,
     "metadata": {},
     "output_type": "execute_result"
    }
   ],
   "source": [
    "a[-2]"
   ]
  },
  {
   "cell_type": "code",
   "execution_count": 43,
   "id": "96528f69",
   "metadata": {},
   "outputs": [
    {
     "data": {
      "text/plain": [
       "1"
      ]
     },
     "execution_count": 43,
     "metadata": {},
     "output_type": "execute_result"
    }
   ],
   "source": [
    "a[-0]"
   ]
  },
  {
   "cell_type": "code",
   "execution_count": 44,
   "id": "8df8b0c1",
   "metadata": {},
   "outputs": [
    {
     "data": {
      "text/plain": [
       "4"
      ]
     },
     "execution_count": 44,
     "metadata": {},
     "output_type": "execute_result"
    }
   ],
   "source": [
    "a[0]+a[2]"
   ]
  },
  {
   "cell_type": "code",
   "execution_count": 46,
   "id": "f880ff08",
   "metadata": {},
   "outputs": [
    {
     "data": {
      "text/plain": [
       "[1, 2, 3, 4, 6, 1, 2, 3, 4, 6, 1, 2, 3, 4, 6]"
      ]
     },
     "execution_count": 46,
     "metadata": {},
     "output_type": "execute_result"
    }
   ],
   "source": [
    "a"
   ]
  },
  {
   "cell_type": "code",
   "execution_count": 50,
   "id": "4c7d070f",
   "metadata": {},
   "outputs": [
    {
     "data": {
      "text/plain": [
       "[4, 6, 1, 2]"
      ]
     },
     "execution_count": 50,
     "metadata": {},
     "output_type": "execute_result"
    }
   ],
   "source": [
    "a[3:7] #slicing\n",
    "#[1, 2, 3,     4, 6, 1, 2, 3        , 4, 6, 1, 2, 3, 4, 6]\n",
    "#but will give one below ending point"
   ]
  },
  {
   "cell_type": "code",
   "execution_count": 48,
   "id": "61412e4d",
   "metadata": {},
   "outputs": [
    {
     "data": {
      "text/plain": [
       "[4, 6, 1, 2, 3]"
      ]
     },
     "execution_count": 48,
     "metadata": {},
     "output_type": "execute_result"
    }
   ],
   "source": [
    "a[3:8]"
   ]
  },
  {
   "cell_type": "code",
   "execution_count": 53,
   "id": "911ebe8a",
   "metadata": {},
   "outputs": [
    {
     "data": {
      "text/plain": [
       "[1, 2, 3, 4, 6, 1, 2]"
      ]
     },
     "execution_count": 53,
     "metadata": {},
     "output_type": "execute_result"
    }
   ],
   "source": [
    "a[:7] #up to 7th element from start"
   ]
  },
  {
   "cell_type": "code",
   "execution_count": 56,
   "id": "f21526b2",
   "metadata": {},
   "outputs": [
    {
     "data": {
      "text/plain": [
       "[3, 4, 6, 1, 2, 3, 4, 6]"
      ]
     },
     "execution_count": 56,
     "metadata": {},
     "output_type": "execute_result"
    }
   ],
   "source": [
    "a[7:]#  start from 7th element to end"
   ]
  },
  {
   "cell_type": "code",
   "execution_count": 57,
   "id": "ddc8499a",
   "metadata": {},
   "outputs": [
    {
     "data": {
      "text/plain": [
       "[3, 4, 6, 1, 2, 3]"
      ]
     },
     "execution_count": 57,
     "metadata": {},
     "output_type": "execute_result"
    }
   ],
   "source": [
    "a[7:-2]#  start from 7th element to end -2 elements"
   ]
  },
  {
   "cell_type": "code",
   "execution_count": 58,
   "id": "4869a06a",
   "metadata": {},
   "outputs": [
    {
     "data": {
      "text/plain": [
       "[1, 2, 3, 4, 6, 1, 2, 3, 4, 6, 1, 2, 3, 4, 6]"
      ]
     },
     "execution_count": 58,
     "metadata": {},
     "output_type": "execute_result"
    }
   ],
   "source": [
    "a"
   ]
  },
  {
   "cell_type": "code",
   "execution_count": 59,
   "id": "d59fed25",
   "metadata": {},
   "outputs": [],
   "source": [
    "a[3]=100"
   ]
  },
  {
   "cell_type": "code",
   "execution_count": 60,
   "id": "2a84e8bb",
   "metadata": {},
   "outputs": [
    {
     "data": {
      "text/plain": [
       "[1, 2, 3, 100, 6, 1, 2, 3, 4, 6, 1, 2, 3, 4, 6]"
      ]
     },
     "execution_count": 60,
     "metadata": {},
     "output_type": "execute_result"
    }
   ],
   "source": [
    "a"
   ]
  },
  {
   "cell_type": "code",
   "execution_count": 61,
   "id": "457fff9b",
   "metadata": {},
   "outputs": [],
   "source": [
    "a[-2]=200"
   ]
  },
  {
   "cell_type": "code",
   "execution_count": 62,
   "id": "bd308bdd",
   "metadata": {},
   "outputs": [
    {
     "data": {
      "text/plain": [
       "[1, 2, 3, 100, 6, 1, 2, 3, 4, 6, 1, 2, 3, 200, 6]"
      ]
     },
     "execution_count": 62,
     "metadata": {},
     "output_type": "execute_result"
    }
   ],
   "source": [
    "a"
   ]
  },
  {
   "cell_type": "code",
   "execution_count": 63,
   "id": "4eba6c60",
   "metadata": {},
   "outputs": [
    {
     "data": {
      "text/plain": [
       "[2, 3, 200, 6]"
      ]
     },
     "execution_count": 63,
     "metadata": {},
     "output_type": "execute_result"
    }
   ],
   "source": [
    "a[11:15]"
   ]
  },
  {
   "cell_type": "code",
   "execution_count": 68,
   "id": "41f58bd3",
   "metadata": {},
   "outputs": [],
   "source": [
    "a[11:15]=[300,350,400,450] #This is the mutability of python list .i.e values can be changed"
   ]
  },
  {
   "cell_type": "code",
   "execution_count": 65,
   "id": "c449b1c9",
   "metadata": {},
   "outputs": [
    {
     "data": {
      "text/plain": [
       "[300, 350, 400, 450]"
      ]
     },
     "execution_count": 65,
     "metadata": {},
     "output_type": "execute_result"
    }
   ],
   "source": [
    "a[11:15]"
   ]
  },
  {
   "cell_type": "code",
   "execution_count": 66,
   "id": "1cd164f6",
   "metadata": {},
   "outputs": [
    {
     "data": {
      "text/plain": [
       "[1, 2, 3, 100, 6, 1, 2, 3, 4, 6, 1, 300, 350, 400, 450]"
      ]
     },
     "execution_count": 66,
     "metadata": {},
     "output_type": "execute_result"
    }
   ],
   "source": [
    "a"
   ]
  },
  {
   "cell_type": "code",
   "execution_count": 69,
   "id": "873c55ee",
   "metadata": {},
   "outputs": [
    {
     "data": {
      "text/plain": [
       "15"
      ]
     },
     "execution_count": 69,
     "metadata": {},
     "output_type": "execute_result"
    }
   ],
   "source": [
    "len(a)"
   ]
  },
  {
   "cell_type": "code",
   "execution_count": 70,
   "id": "3b368019",
   "metadata": {},
   "outputs": [
    {
     "name": "stdout",
     "output_type": "stream",
     "text": [
      "[1, 2, 3, 100, 6, 1, 2, 3, 4, 6, 1, 300, 350, 400, 450]\n"
     ]
    }
   ],
   "source": [
    "print(a)"
   ]
  },
  {
   "cell_type": "code",
   "execution_count": 71,
   "id": "bb1c145c",
   "metadata": {},
   "outputs": [
    {
     "data": {
      "text/plain": [
       "list"
      ]
     },
     "execution_count": 71,
     "metadata": {},
     "output_type": "execute_result"
    }
   ],
   "source": [
    "type(a)"
   ]
  },
  {
   "cell_type": "code",
   "execution_count": 76,
   "id": "16fe7d42",
   "metadata": {},
   "outputs": [
    {
     "name": "stdout",
     "output_type": "stream",
     "text": [
      "<class 'list'>\n"
     ]
    }
   ],
   "source": [
    "print(type(a))  # print(type(12))ython is an object oriented language. in python every thing is a objects\n",
    "# All data types are from class objects"
   ]
  },
  {
   "cell_type": "code",
   "execution_count": 73,
   "id": "1b5b219e",
   "metadata": {},
   "outputs": [
    {
     "name": "stdout",
     "output_type": "stream",
     "text": [
      "<class 'int'>\n"
     ]
    }
   ],
   "source": [
    "print(type(12)) "
   ]
  },
  {
   "cell_type": "code",
   "execution_count": 74,
   "id": "279330d1",
   "metadata": {},
   "outputs": [
    {
     "name": "stdout",
     "output_type": "stream",
     "text": [
      "<class 'float'>\n"
     ]
    }
   ],
   "source": [
    "print(type(11.4))"
   ]
  },
  {
   "cell_type": "markdown",
   "id": "0f1a5def",
   "metadata": {},
   "source": [
    "#class is like a kokis achhuwa  or a mold . objects are like kikis made of that mold which has similar features and characteritics and functianalities"
   ]
  },
  {
   "cell_type": "code",
   "execution_count": 77,
   "id": "477833d5",
   "metadata": {},
   "outputs": [
    {
     "data": {
      "text/plain": [
       "[1, 2, 3, 100, 6, 1, 2, 3, 4, 6, 1, 300, 350, 400, 450]"
      ]
     },
     "execution_count": 77,
     "metadata": {},
     "output_type": "execute_result"
    }
   ],
   "source": [
    "a"
   ]
  },
  {
   "cell_type": "code",
   "execution_count": 87,
   "id": "46cf312f",
   "metadata": {},
   "outputs": [],
   "source": [
    "a.append(10)"
   ]
  },
  {
   "cell_type": "code",
   "execution_count": 81,
   "id": "063631a2",
   "metadata": {},
   "outputs": [
    {
     "data": {
      "text/plain": [
       "[1, 2, 3, 100, 6, 1, 2, 3, 4, 6, 1, 300, 350, 400, 450, 10]"
      ]
     },
     "execution_count": 81,
     "metadata": {},
     "output_type": "execute_result"
    }
   ],
   "source": [
    "a"
   ]
  },
  {
   "cell_type": "code",
   "execution_count": 82,
   "id": "3ad3f409",
   "metadata": {},
   "outputs": [],
   "source": [
    "a.append([1,3,5])"
   ]
  },
  {
   "cell_type": "code",
   "execution_count": 83,
   "id": "9af66849",
   "metadata": {},
   "outputs": [
    {
     "data": {
      "text/plain": [
       "[1, 2, 3, 100, 6, 1, 2, 3, 4, 6, 1, 300, 350, 400, 450, 10, [1, 3, 5]]"
      ]
     },
     "execution_count": 83,
     "metadata": {},
     "output_type": "execute_result"
    }
   ],
   "source": [
    "a"
   ]
  },
  {
   "cell_type": "code",
   "execution_count": 85,
   "id": "3f88cf8d",
   "metadata": {},
   "outputs": [],
   "source": [
    "a.extend([10,20,30])"
   ]
  },
  {
   "cell_type": "code",
   "execution_count": 86,
   "id": "5519d79c",
   "metadata": {},
   "outputs": [
    {
     "data": {
      "text/plain": [
       "[1,\n",
       " 2,\n",
       " 3,\n",
       " 100,\n",
       " 6,\n",
       " 1,\n",
       " 2,\n",
       " 3,\n",
       " 4,\n",
       " 6,\n",
       " 1,\n",
       " 300,\n",
       " 350,\n",
       " 400,\n",
       " 450,\n",
       " 10,\n",
       " [1, 3, 5],\n",
       " 10,\n",
       " 20,\n",
       " 30]"
      ]
     },
     "execution_count": 86,
     "metadata": {},
     "output_type": "execute_result"
    }
   ],
   "source": [
    "a"
   ]
  },
  {
   "cell_type": "code",
   "execution_count": 89,
   "id": "c5be36b2",
   "metadata": {},
   "outputs": [
    {
     "data": {
      "text/plain": [
       "[1,\n",
       " 2,\n",
       " 3,\n",
       " 100,\n",
       " 6,\n",
       " 1,\n",
       " 2,\n",
       " 3,\n",
       " 4,\n",
       " 6,\n",
       " 1,\n",
       " 300,\n",
       " 350,\n",
       " 400,\n",
       " 450,\n",
       " 10,\n",
       " [1, 3, 5],\n",
       " 10,\n",
       " 20,\n",
       " 30,\n",
       " 10]"
      ]
     },
     "execution_count": 89,
     "metadata": {},
     "output_type": "execute_result"
    }
   ],
   "source": [
    "a"
   ]
  },
  {
   "cell_type": "code",
   "execution_count": 92,
   "id": "bfc2605f",
   "metadata": {},
   "outputs": [],
   "source": [
    "a.insert(2,500) # change 2nd element of the array "
   ]
  },
  {
   "cell_type": "code",
   "execution_count": 91,
   "id": "8ed77a7e",
   "metadata": {},
   "outputs": [
    {
     "data": {
      "text/plain": [
       "[1,\n",
       " 2,\n",
       " 500,\n",
       " 3,\n",
       " 100,\n",
       " 6,\n",
       " 1,\n",
       " 2,\n",
       " 3,\n",
       " 4,\n",
       " 6,\n",
       " 1,\n",
       " 300,\n",
       " 350,\n",
       " 400,\n",
       " 450,\n",
       " 10,\n",
       " [1, 3, 5],\n",
       " 10,\n",
       " 20,\n",
       " 30,\n",
       " 10]"
      ]
     },
     "execution_count": 91,
     "metadata": {},
     "output_type": "execute_result"
    }
   ],
   "source": [
    "a"
   ]
  },
  {
   "cell_type": "code",
   "execution_count": 101,
   "id": "703d6139",
   "metadata": {},
   "outputs": [],
   "source": [
    "a.remove(1)"
   ]
  },
  {
   "cell_type": "code",
   "execution_count": 102,
   "id": "de49a5f7",
   "metadata": {},
   "outputs": [
    {
     "data": {
      "text/plain": [
       "[2,\n",
       " 500,\n",
       " 3,\n",
       " 100,\n",
       " 6,\n",
       " 1,\n",
       " 2,\n",
       " 3,\n",
       " 4,\n",
       " 6,\n",
       " 1,\n",
       " 300,\n",
       " 350,\n",
       " 400,\n",
       " 450,\n",
       " 10,\n",
       " [1, 3, 5],\n",
       " 10,\n",
       " 20,\n",
       " 30]"
      ]
     },
     "execution_count": 102,
     "metadata": {},
     "output_type": "execute_result"
    }
   ],
   "source": [
    "a"
   ]
  },
  {
   "cell_type": "code",
   "execution_count": 105,
   "id": "02977476",
   "metadata": {},
   "outputs": [],
   "source": [
    "a.remove(10) # only first element is removed"
   ]
  },
  {
   "cell_type": "code",
   "execution_count": 104,
   "id": "5521ae86",
   "metadata": {},
   "outputs": [
    {
     "data": {
      "text/plain": [
       "[2,\n",
       " 500,\n",
       " 3,\n",
       " 100,\n",
       " 6,\n",
       " 1,\n",
       " 2,\n",
       " 3,\n",
       " 4,\n",
       " 6,\n",
       " 1,\n",
       " 300,\n",
       " 350,\n",
       " 400,\n",
       " 450,\n",
       " [1, 3, 5],\n",
       " 10,\n",
       " 20,\n",
       " 30]"
      ]
     },
     "execution_count": 104,
     "metadata": {},
     "output_type": "execute_result"
    }
   ],
   "source": [
    "a"
   ]
  },
  {
   "cell_type": "code",
   "execution_count": 108,
   "id": "6a46a01e",
   "metadata": {},
   "outputs": [
    {
     "data": {
      "text/plain": [
       "[2, 500, 100, 6, 1, 2, 3, 4, 6, 1, 300, 350, 400, 450, [1, 3, 5]]"
      ]
     },
     "execution_count": 108,
     "metadata": {},
     "output_type": "execute_result"
    }
   ],
   "source": [
    "del a[-1]\n",
    "a"
   ]
  },
  {
   "cell_type": "code",
   "execution_count": 109,
   "id": "be4c6b99",
   "metadata": {},
   "outputs": [],
   "source": [
    "del a[2:3]"
   ]
  },
  {
   "cell_type": "code",
   "execution_count": 110,
   "id": "264eaab4",
   "metadata": {},
   "outputs": [
    {
     "data": {
      "text/plain": [
       "[2, 500, 6, 1, 2, 3, 4, 6, 1, 300, 350, 400, 450, [1, 3, 5]]"
      ]
     },
     "execution_count": 110,
     "metadata": {},
     "output_type": "execute_result"
    }
   ],
   "source": [
    "a"
   ]
  },
  {
   "cell_type": "code",
   "execution_count": null,
   "id": "67b2c54b",
   "metadata": {},
   "outputs": [],
   "source": []
  }
 ],
 "metadata": {
  "kernelspec": {
   "display_name": "Python 3 (ipykernel)",
   "language": "python",
   "name": "python3"
  },
  "language_info": {
   "codemirror_mode": {
    "name": "ipython",
    "version": 3
   },
   "file_extension": ".py",
   "mimetype": "text/x-python",
   "name": "python",
   "nbconvert_exporter": "python",
   "pygments_lexer": "ipython3",
   "version": "3.10.9"
  }
 },
 "nbformat": 4,
 "nbformat_minor": 5
}
