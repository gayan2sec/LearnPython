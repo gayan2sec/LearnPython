{
 "cells": [
  {
   "cell_type": "code",
   "execution_count": 16,
   "id": "e906a9ac",
   "metadata": {},
   "outputs": [],
   "source": [
    "L=[23,21,24,45,36,57] # Lists-Membership test"
   ]
  },
  {
   "cell_type": "code",
   "execution_count": 2,
   "id": "7c7624bc",
   "metadata": {},
   "outputs": [
    {
     "data": {
      "text/plain": [
       "[23, 21, 24, 45, 36, 57]"
      ]
     },
     "execution_count": 2,
     "metadata": {},
     "output_type": "execute_result"
    }
   ],
   "source": [
    "L"
   ]
  },
  {
   "cell_type": "code",
   "execution_count": 3,
   "id": "c44aa6c4",
   "metadata": {},
   "outputs": [
    {
     "data": {
      "text/plain": [
       "True"
      ]
     },
     "execution_count": 3,
     "metadata": {},
     "output_type": "execute_result"
    }
   ],
   "source": [
    "21 in L"
   ]
  },
  {
   "cell_type": "code",
   "execution_count": 4,
   "id": "289c4ac1",
   "metadata": {},
   "outputs": [
    {
     "data": {
      "text/plain": [
       "False"
      ]
     },
     "execution_count": 4,
     "metadata": {},
     "output_type": "execute_result"
    }
   ],
   "source": [
    "50 in L"
   ]
  },
  {
   "cell_type": "code",
   "execution_count": 5,
   "id": "aac25080",
   "metadata": {},
   "outputs": [
    {
     "data": {
      "text/plain": [
       "True"
      ]
     },
     "execution_count": 5,
     "metadata": {},
     "output_type": "execute_result"
    }
   ],
   "source": [
    "50 not in L"
   ]
  },
  {
   "cell_type": "code",
   "execution_count": 6,
   "id": "9b5763db",
   "metadata": {},
   "outputs": [
    {
     "data": {
      "text/plain": [
       "False"
      ]
     },
     "execution_count": 6,
     "metadata": {},
     "output_type": "execute_result"
    }
   ],
   "source": [
    "24 not in L"
   ]
  },
  {
   "cell_type": "code",
   "execution_count": 7,
   "id": "356845ea",
   "metadata": {},
   "outputs": [
    {
     "data": {
      "text/plain": [
       "True"
      ]
     },
     "execution_count": 7,
     "metadata": {},
     "output_type": "execute_result"
    }
   ],
   "source": [
    "24 in L"
   ]
  },
  {
   "cell_type": "code",
   "execution_count": 4,
   "id": "796210e4",
   "metadata": {},
   "outputs": [],
   "source": [
    "a=[2,1,5]"
   ]
  },
  {
   "cell_type": "code",
   "execution_count": 1,
   "id": "c487fa0a",
   "metadata": {},
   "outputs": [],
   "source": [
    "a,b,c=[2,1,5]# List Unpacking method Note : elements need to be equal both side"
   ]
  },
  {
   "cell_type": "code",
   "execution_count": 2,
   "id": "320168db",
   "metadata": {},
   "outputs": [
    {
     "data": {
      "text/plain": [
       "2"
      ]
     },
     "execution_count": 2,
     "metadata": {},
     "output_type": "execute_result"
    }
   ],
   "source": [
    "a"
   ]
  },
  {
   "cell_type": "code",
   "execution_count": 3,
   "id": "98c199cc",
   "metadata": {},
   "outputs": [
    {
     "data": {
      "text/plain": [
       "1"
      ]
     },
     "execution_count": 3,
     "metadata": {},
     "output_type": "execute_result"
    }
   ],
   "source": [
    "b"
   ]
  },
  {
   "cell_type": "code",
   "execution_count": 4,
   "id": "6325cc73",
   "metadata": {},
   "outputs": [
    {
     "data": {
      "text/plain": [
       "5"
      ]
     },
     "execution_count": 4,
     "metadata": {},
     "output_type": "execute_result"
    }
   ],
   "source": [
    "c"
   ]
  },
  {
   "cell_type": "code",
   "execution_count": 7,
   "id": "2b3050e8",
   "metadata": {},
   "outputs": [],
   "source": [
    "t=(2,1,3,56,7,8,9)#tuples"
   ]
  },
  {
   "cell_type": "code",
   "execution_count": 8,
   "id": "c7461c0b",
   "metadata": {},
   "outputs": [
    {
     "data": {
      "text/plain": [
       "(2, 1, 3, 56, 7, 8, 9)"
      ]
     },
     "execution_count": 8,
     "metadata": {},
     "output_type": "execute_result"
    }
   ],
   "source": [
    "t"
   ]
  },
  {
   "cell_type": "code",
   "execution_count": 9,
   "id": "e007f5b7",
   "metadata": {},
   "outputs": [],
   "source": [
    "p=(1,2,\"cat\",(2,4,5),[4,6,7,8])"
   ]
  },
  {
   "cell_type": "code",
   "execution_count": 10,
   "id": "2c495de2",
   "metadata": {},
   "outputs": [
    {
     "data": {
      "text/plain": [
       "(1, 2, 'cat', (2, 4, 5), [4, 6, 7, 8])"
      ]
     },
     "execution_count": 10,
     "metadata": {},
     "output_type": "execute_result"
    }
   ],
   "source": [
    "p"
   ]
  },
  {
   "cell_type": "code",
   "execution_count": 11,
   "id": "cd16f5bc",
   "metadata": {},
   "outputs": [
    {
     "data": {
      "text/plain": [
       "(2, 4, 5)"
      ]
     },
     "execution_count": 11,
     "metadata": {},
     "output_type": "execute_result"
    }
   ],
   "source": [
    "p[3]"
   ]
  },
  {
   "cell_type": "code",
   "execution_count": 12,
   "id": "dea165cb",
   "metadata": {},
   "outputs": [],
   "source": [
    "t=(2,1,3,5,6,8,9)"
   ]
  },
  {
   "cell_type": "code",
   "execution_count": 13,
   "id": "dbe18c4f",
   "metadata": {},
   "outputs": [
    {
     "data": {
      "text/plain": [
       "(2, 1, 3, 5, 6, 8, 9)"
      ]
     },
     "execution_count": 13,
     "metadata": {},
     "output_type": "execute_result"
    }
   ],
   "source": [
    "t"
   ]
  },
  {
   "cell_type": "code",
   "execution_count": 15,
   "id": "f2ad5c0f",
   "metadata": {},
   "outputs": [
    {
     "data": {
      "text/plain": [
       "2"
      ]
     },
     "execution_count": 15,
     "metadata": {},
     "output_type": "execute_result"
    }
   ],
   "source": [
    "t[0]"
   ]
  },
  {
   "cell_type": "code",
   "execution_count": 18,
   "id": "1fe83b14",
   "metadata": {},
   "outputs": [
    {
     "data": {
      "text/plain": [
       "(2, 1, 3)"
      ]
     },
     "execution_count": 18,
     "metadata": {},
     "output_type": "execute_result"
    }
   ],
   "source": [
    "t[0:3]"
   ]
  },
  {
   "cell_type": "code",
   "execution_count": 20,
   "id": "cbb9803a",
   "metadata": {},
   "outputs": [
    {
     "ename": "TypeError",
     "evalue": "'tuple' object does not support item assignment",
     "output_type": "error",
     "traceback": [
      "\u001b[1;31m---------------------------------------------------------------------------\u001b[0m",
      "\u001b[1;31mTypeError\u001b[0m                                 Traceback (most recent call last)",
      "Cell \u001b[1;32mIn[20], line 1\u001b[0m\n\u001b[1;32m----> 1\u001b[0m t[\u001b[38;5;241m0\u001b[39m]\u001b[38;5;241m=\u001b[39m\u001b[38;5;241m10\u001b[39m\n",
      "\u001b[1;31mTypeError\u001b[0m: 'tuple' object does not support item assignment"
     ]
    }
   ],
   "source": [
    "t[0]=10  #only thing is tupples inside elements cant be changed, immutable"
   ]
  },
  {
   "cell_type": "code",
   "execution_count": 27,
   "id": "3fd3ca71",
   "metadata": {},
   "outputs": [
    {
     "data": {
      "text/plain": [
       "[4, 10, 20, 8]"
      ]
     },
     "execution_count": 27,
     "metadata": {},
     "output_type": "execute_result"
    }
   ],
   "source": [
    "p[4] # inside the tuple element 4 is a List. Lets see if we can change the List elements"
   ]
  },
  {
   "cell_type": "code",
   "execution_count": 24,
   "id": "a9cfe100",
   "metadata": {},
   "outputs": [],
   "source": [
    "p[4][1]=10 # But inside tuples , if you have lists, Lists elements can be changed as  Lists inherit its changing ability"
   ]
  },
  {
   "cell_type": "code",
   "execution_count": 25,
   "id": "c448a8eb",
   "metadata": {},
   "outputs": [],
   "source": [
    "p[4][2]=20 # "
   ]
  },
  {
   "cell_type": "code",
   "execution_count": 28,
   "id": "664f2aa6",
   "metadata": {},
   "outputs": [
    {
     "data": {
      "text/plain": [
       "(1, 2, 'cat', (2, 4, 5), [4, 10, 20, 8])"
      ]
     },
     "execution_count": 28,
     "metadata": {},
     "output_type": "execute_result"
    }
   ],
   "source": [
    "p # see Lists element 1 and 2 are changed now"
   ]
  },
  {
   "cell_type": "code",
   "execution_count": 29,
   "id": "738cdeda",
   "metadata": {},
   "outputs": [
    {
     "data": {
      "text/plain": [
       "8"
      ]
     },
     "execution_count": 29,
     "metadata": {},
     "output_type": "execute_result"
    }
   ],
   "source": [
    "p[4][-1] # still act as a typical list and prints the last element"
   ]
  },
  {
   "cell_type": "code",
   "execution_count": 30,
   "id": "1a2bfe9d",
   "metadata": {},
   "outputs": [],
   "source": [
    "t=[2,12,3,4,6]  "
   ]
  },
  {
   "cell_type": "code",
   "execution_count": 63,
   "id": "1eeb4c84",
   "metadata": {},
   "outputs": [
    {
     "data": {
      "text/plain": [
       "1"
      ]
     },
     "execution_count": 63,
     "metadata": {},
     "output_type": "execute_result"
    }
   ],
   "source": [
    "t.count(2)   "
   ]
  },
  {
   "cell_type": "code",
   "execution_count": 65,
   "id": "a7140f60",
   "metadata": {},
   "outputs": [
    {
     "data": {
      "text/plain": [
       "4"
      ]
     },
     "execution_count": 65,
     "metadata": {},
     "output_type": "execute_result"
    }
   ],
   "source": [
    "t.index(6) # what is the location index of element \"6\" in the tuple"
   ]
  },
  {
   "cell_type": "code",
   "execution_count": 49,
   "id": "7d7d64c2",
   "metadata": {},
   "outputs": [
    {
     "data": {
      "text/plain": [
       "True"
      ]
     },
     "execution_count": 49,
     "metadata": {},
     "output_type": "execute_result"
    }
   ],
   "source": [
    "3 in t  #member ship is same in tuple"
   ]
  },
  {
   "cell_type": "code",
   "execution_count": 44,
   "id": "042a07a0",
   "metadata": {},
   "outputs": [
    {
     "data": {
      "text/plain": [
       "True"
      ]
     },
     "execution_count": 44,
     "metadata": {},
     "output_type": "execute_result"
    }
   ],
   "source": [
    "10 not in t"
   ]
  },
  {
   "cell_type": "code",
   "execution_count": 45,
   "id": "1077eaba",
   "metadata": {},
   "outputs": [],
   "source": [
    "a,b,c=(2,1,3)"
   ]
  },
  {
   "cell_type": "code",
   "execution_count": 46,
   "id": "776af914",
   "metadata": {},
   "outputs": [
    {
     "data": {
      "text/plain": [
       "2"
      ]
     },
     "execution_count": 46,
     "metadata": {},
     "output_type": "execute_result"
    }
   ],
   "source": [
    "a"
   ]
  },
  {
   "cell_type": "code",
   "execution_count": 47,
   "id": "15e4703e",
   "metadata": {},
   "outputs": [
    {
     "data": {
      "text/plain": [
       "1"
      ]
     },
     "execution_count": 47,
     "metadata": {},
     "output_type": "execute_result"
    }
   ],
   "source": [
    "b"
   ]
  },
  {
   "cell_type": "code",
   "execution_count": 48,
   "id": "fbeddb2e",
   "metadata": {},
   "outputs": [
    {
     "data": {
      "text/plain": [
       "3"
      ]
     },
     "execution_count": 48,
     "metadata": {},
     "output_type": "execute_result"
    }
   ],
   "source": [
    "c"
   ]
  },
  {
   "cell_type": "code",
   "execution_count": 57,
   "id": "972afa2e",
   "metadata": {},
   "outputs": [],
   "source": [
    "x,y,z=10,20,30  # tuple unpacking"
   ]
  },
  {
   "cell_type": "code",
   "execution_count": 51,
   "id": "9b4f74a3",
   "metadata": {},
   "outputs": [
    {
     "data": {
      "text/plain": [
       "10"
      ]
     },
     "execution_count": 51,
     "metadata": {},
     "output_type": "execute_result"
    }
   ],
   "source": [
    "x"
   ]
  },
  {
   "cell_type": "code",
   "execution_count": 52,
   "id": "1fb1e499",
   "metadata": {},
   "outputs": [
    {
     "data": {
      "text/plain": [
       "30"
      ]
     },
     "execution_count": 52,
     "metadata": {},
     "output_type": "execute_result"
    }
   ],
   "source": [
    "z"
   ]
  },
  {
   "cell_type": "code",
   "execution_count": 56,
   "id": "afcd1ec5",
   "metadata": {},
   "outputs": [],
   "source": [
    "p,q,r=(10,20,30) # tuple unpacking"
   ]
  },
  {
   "cell_type": "code",
   "execution_count": 54,
   "id": "d9c301be",
   "metadata": {},
   "outputs": [
    {
     "data": {
      "text/plain": [
       "10"
      ]
     },
     "execution_count": 54,
     "metadata": {},
     "output_type": "execute_result"
    }
   ],
   "source": [
    "p"
   ]
  },
  {
   "cell_type": "code",
   "execution_count": 55,
   "id": "2976d750",
   "metadata": {},
   "outputs": [
    {
     "data": {
      "text/plain": [
       "30"
      ]
     },
     "execution_count": 55,
     "metadata": {},
     "output_type": "execute_result"
    }
   ],
   "source": [
    "r"
   ]
  },
  {
   "cell_type": "code",
   "execution_count": 66,
   "id": "2c607aeb",
   "metadata": {},
   "outputs": [],
   "source": [
    "w=3,4,5,(2,1,4),6,7"
   ]
  },
  {
   "cell_type": "code",
   "execution_count": 67,
   "id": "e84212a3",
   "metadata": {},
   "outputs": [
    {
     "data": {
      "text/plain": [
       "(3, 4, 5, (2, 1, 4), 6, 7)"
      ]
     },
     "execution_count": 67,
     "metadata": {},
     "output_type": "execute_result"
    }
   ],
   "source": [
    "w"
   ]
  },
  {
   "cell_type": "code",
   "execution_count": 68,
   "id": "2de8d077",
   "metadata": {},
   "outputs": [
    {
     "data": {
      "text/plain": [
       "False"
      ]
     },
     "execution_count": 68,
     "metadata": {},
     "output_type": "execute_result"
    }
   ],
   "source": [
    "2 in w"
   ]
  },
  {
   "cell_type": "code",
   "execution_count": 70,
   "id": "c4b30d64",
   "metadata": {},
   "outputs": [
    {
     "data": {
      "text/plain": [
       "True"
      ]
     },
     "execution_count": 70,
     "metadata": {},
     "output_type": "execute_result"
    }
   ],
   "source": [
    "2 in w[3]"
   ]
  },
  {
   "cell_type": "code",
   "execution_count": 73,
   "id": "adbdcb31",
   "metadata": {},
   "outputs": [],
   "source": [
    "# Sets, subsets in Python \"Kulaka\" like in venn diagrams"
   ]
  },
  {
   "cell_type": "code",
   "execution_count": 1,
   "id": "b7a31134",
   "metadata": {},
   "outputs": [],
   "source": [
    "s={2,1,1,1,2,2,2,2,3,3,3,4,8,5,6,7,7,0} # Sets allow only unique elements"
   ]
  },
  {
   "cell_type": "code",
   "execution_count": 89,
   "id": "77f1e818",
   "metadata": {},
   "outputs": [
    {
     "data": {
      "text/plain": [
       "{0, 1, 2, 3, 4, 5, 6, 7, 8}"
      ]
     },
     "execution_count": 89,
     "metadata": {},
     "output_type": "execute_result"
    }
   ],
   "source": [
    "s"
   ]
  },
  {
   "cell_type": "code",
   "execution_count": 77,
   "id": "d35ccf01",
   "metadata": {},
   "outputs": [
    {
     "data": {
      "text/plain": [
       "set"
      ]
     },
     "execution_count": 77,
     "metadata": {},
     "output_type": "execute_result"
    }
   ],
   "source": [
    "type(s)"
   ]
  },
  {
   "cell_type": "code",
   "execution_count": 92,
   "id": "1d409f07",
   "metadata": {},
   "outputs": [],
   "source": [
    "s.add(10)  # add element to a set\n",
    "s.add(20)"
   ]
  },
  {
   "cell_type": "code",
   "execution_count": 93,
   "id": "42e97416",
   "metadata": {},
   "outputs": [
    {
     "data": {
      "text/plain": [
       "{0, 1, 2, 3, 4, 5, 6, 7, 8, 10, 20}"
      ]
     },
     "execution_count": 93,
     "metadata": {},
     "output_type": "execute_result"
    }
   ],
   "source": [
    "s"
   ]
  },
  {
   "cell_type": "code",
   "execution_count": 94,
   "id": "a1c42b6f",
   "metadata": {},
   "outputs": [],
   "source": [
    "s.remove(20)"
   ]
  },
  {
   "cell_type": "code",
   "execution_count": 95,
   "id": "94f9a362",
   "metadata": {},
   "outputs": [
    {
     "data": {
      "text/plain": [
       "{0, 1, 2, 3, 4, 5, 6, 7, 8, 10}"
      ]
     },
     "execution_count": 95,
     "metadata": {},
     "output_type": "execute_result"
    }
   ],
   "source": [
    "s"
   ]
  },
  {
   "cell_type": "code",
   "execution_count": 96,
   "id": "550b5fbe",
   "metadata": {},
   "outputs": [],
   "source": [
    "a={2,1,3,4,5}\n",
    "b={7,1,3,4,8}"
   ]
  },
  {
   "cell_type": "code",
   "execution_count": 97,
   "id": "6a8dbc9d",
   "metadata": {},
   "outputs": [
    {
     "data": {
      "text/plain": [
       "{1, 2, 3, 4, 5, 7, 8}"
      ]
     },
     "execution_count": 97,
     "metadata": {},
     "output_type": "execute_result"
    }
   ],
   "source": [
    "a.union(b)"
   ]
  },
  {
   "cell_type": "code",
   "execution_count": 98,
   "id": "9938a501",
   "metadata": {},
   "outputs": [
    {
     "data": {
      "text/plain": [
       "{1, 2, 3, 4, 5, 7, 8}"
      ]
     },
     "execution_count": 98,
     "metadata": {},
     "output_type": "execute_result"
    }
   ],
   "source": [
    "b.union(a)"
   ]
  },
  {
   "cell_type": "code",
   "execution_count": 99,
   "id": "56efb893",
   "metadata": {},
   "outputs": [
    {
     "data": {
      "text/plain": [
       "{1, 3, 4}"
      ]
     },
     "execution_count": 99,
     "metadata": {},
     "output_type": "execute_result"
    }
   ],
   "source": [
    "a.intersection(b)"
   ]
  },
  {
   "cell_type": "code",
   "execution_count": 100,
   "id": "07e2b9e7",
   "metadata": {},
   "outputs": [
    {
     "data": {
      "text/plain": [
       "{1, 3, 4}"
      ]
     },
     "execution_count": 100,
     "metadata": {},
     "output_type": "execute_result"
    }
   ],
   "source": [
    "b.intersection(a)"
   ]
  },
  {
   "cell_type": "code",
   "execution_count": null,
   "id": "0773d061",
   "metadata": {},
   "outputs": [],
   "source": []
  }
 ],
 "metadata": {
  "kernelspec": {
   "display_name": "Python 3 (ipykernel)",
   "language": "python",
   "name": "python3"
  },
  "language_info": {
   "codemirror_mode": {
    "name": "ipython",
    "version": 3
   },
   "file_extension": ".py",
   "mimetype": "text/x-python",
   "name": "python",
   "nbconvert_exporter": "python",
   "pygments_lexer": "ipython3",
   "version": "3.10.9"
  }
 },
 "nbformat": 4,
 "nbformat_minor": 5
}
