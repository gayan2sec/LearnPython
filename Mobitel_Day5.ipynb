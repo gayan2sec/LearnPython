{
 "cells": [
  {
   "cell_type": "code",
   "execution_count": 3,
   "id": "f953f653",
   "metadata": {},
   "outputs": [
    {
     "data": {
      "text/plain": [
       "[10, 20, 30, 40]"
      ]
     },
     "execution_count": 3,
     "metadata": {},
     "output_type": "execute_result"
    }
   ],
   "source": [
    "a=[10,20,30,40]# list\n",
    "a"
   ]
  },
  {
   "cell_type": "code",
   "execution_count": 4,
   "id": "9c868050",
   "metadata": {},
   "outputs": [
    {
     "data": {
      "text/plain": [
       "{'a': 10, 'b': 20, 'c': 30, 'd': 40}"
      ]
     },
     "execution_count": 4,
     "metadata": {},
     "output_type": "execute_result"
    }
   ],
   "source": [
    "d1={\"a\":10,\"b\":20,\"c\":30,\"d\":40} #Dictionary\n",
    "d1"
   ]
  },
  {
   "cell_type": "code",
   "execution_count": 5,
   "id": "09260e27",
   "metadata": {},
   "outputs": [
    {
     "data": {
      "text/plain": [
       "dict"
      ]
     },
     "execution_count": 5,
     "metadata": {},
     "output_type": "execute_result"
    }
   ],
   "source": [
    "type(d1)"
   ]
  },
  {
   "cell_type": "code",
   "execution_count": 9,
   "id": "8945a40d",
   "metadata": {},
   "outputs": [
    {
     "data": {
      "text/plain": [
       "10"
      ]
     },
     "execution_count": 9,
     "metadata": {},
     "output_type": "execute_result"
    }
   ],
   "source": [
    "d1[\"a\"] # In Dictionaries you have to give the key to get the values"
   ]
  },
  {
   "cell_type": "code",
   "execution_count": 8,
   "id": "c90b5f58",
   "metadata": {},
   "outputs": [
    {
     "data": {
      "text/plain": [
       "10"
      ]
     },
     "execution_count": 8,
     "metadata": {},
     "output_type": "execute_result"
    }
   ],
   "source": [
    "d1['a']"
   ]
  },
  {
   "cell_type": "code",
   "execution_count": 64,
   "id": "183bb7ba",
   "metadata": {},
   "outputs": [],
   "source": [
    "d2={'ID': 500,\"Address\":\"No 10:abc Rd,Colombo\",\"Name\":[\"John\",\"Anne\",\"David\"],\"Age\":[21,22,23],\"email\":(\"John@abc.com\",\"Anne@abc.com\")} #Values can be any other data type like a string, List, Tuple e.t.c "
   ]
  },
  {
   "cell_type": "code",
   "execution_count": 48,
   "id": "fd38ec80",
   "metadata": {},
   "outputs": [
    {
     "data": {
      "text/plain": [
       "{'ID': 500,\n",
       " 'Address': 'No 10:abc Rd,Colombo',\n",
       " 'Name': ['John', 'Anne', 'David'],\n",
       " 'Age': [21, 22, 23],\n",
       " 'email': ('John@abc.com', 'Anne@abc.com')}"
      ]
     },
     "execution_count": 48,
     "metadata": {},
     "output_type": "execute_result"
    }
   ],
   "source": [
    "d2"
   ]
  },
  {
   "cell_type": "code",
   "execution_count": 49,
   "id": "3a962c3c",
   "metadata": {},
   "outputs": [
    {
     "data": {
      "text/plain": [
       "['John', 'Anne', 'David']"
      ]
     },
     "execution_count": 49,
     "metadata": {},
     "output_type": "execute_result"
    }
   ],
   "source": [
    "d2[\"Name\"]"
   ]
  },
  {
   "cell_type": "code",
   "execution_count": 50,
   "id": "da4d5b9a",
   "metadata": {},
   "outputs": [
    {
     "data": {
      "text/plain": [
       "22"
      ]
     },
     "execution_count": 50,
     "metadata": {},
     "output_type": "execute_result"
    }
   ],
   "source": [
    "d2[\"Age\"][1] # You can drill down to Elements in the lists"
   ]
  },
  {
   "cell_type": "code",
   "execution_count": 51,
   "id": "3e9c96a0",
   "metadata": {},
   "outputs": [
    {
     "data": {
      "text/plain": [
       "'John@abc.com'"
      ]
     },
     "execution_count": 51,
     "metadata": {},
     "output_type": "execute_result"
    }
   ],
   "source": [
    "d2[\"email\"][0]"
   ]
  },
  {
   "cell_type": "code",
   "execution_count": 52,
   "id": "f202a0ea",
   "metadata": {},
   "outputs": [
    {
     "data": {
      "text/plain": [
       "500"
      ]
     },
     "execution_count": 52,
     "metadata": {},
     "output_type": "execute_result"
    }
   ],
   "source": [
    "d2[\"ID\"]"
   ]
  },
  {
   "cell_type": "code",
   "execution_count": 53,
   "id": "d6bc089e",
   "metadata": {},
   "outputs": [
    {
     "data": {
      "text/plain": [
       "'No 10:abc Rd,Colombo'"
      ]
     },
     "execution_count": 53,
     "metadata": {},
     "output_type": "execute_result"
    }
   ],
   "source": [
    "d2[\"Address\"]"
   ]
  },
  {
   "cell_type": "code",
   "execution_count": 54,
   "id": "445c3bb0",
   "metadata": {},
   "outputs": [
    {
     "data": {
      "text/plain": [
       "dict_keys(['ID', 'Address', 'Name', 'Age', 'email'])"
      ]
     },
     "execution_count": 54,
     "metadata": {},
     "output_type": "execute_result"
    }
   ],
   "source": [
    "d2.keys()  # To access the key list in the Dictionary"
   ]
  },
  {
   "cell_type": "code",
   "execution_count": 55,
   "id": "bf2e1b1f",
   "metadata": {},
   "outputs": [
    {
     "data": {
      "text/plain": [
       "dict_values([500, 'No 10:abc Rd,Colombo', ['John', 'Anne', 'David'], [21, 22, 23], ('John@abc.com', 'Anne@abc.com')])"
      ]
     },
     "execution_count": 55,
     "metadata": {},
     "output_type": "execute_result"
    }
   ],
   "source": [
    "d2.values()  # To access the value list in the Dictionary"
   ]
  },
  {
   "cell_type": "code",
   "execution_count": 66,
   "id": "9fccef3c",
   "metadata": {},
   "outputs": [
    {
     "data": {
      "text/plain": [
       "{'ID': 500,\n",
       " 'Address': 'No 10:abc Rd,Colombo',\n",
       " 'Name': ['John', 'Anne', 'David'],\n",
       " 'Age': [21, 22, 23],\n",
       " 'email': ('John@abc.com', 'Anne@abc.com'),\n",
       " 'Gender': ['Male', 'Female']}"
      ]
     },
     "execution_count": 66,
     "metadata": {},
     "output_type": "execute_result"
    }
   ],
   "source": [
    "d2[\"Gender\"]=[\"Male\",\"Female\"]# How to add new elements to the Dictionary\n",
    "d2"
   ]
  },
  {
   "cell_type": "code",
   "execution_count": 67,
   "id": "30fec334",
   "metadata": {},
   "outputs": [
    {
     "data": {
      "text/plain": [
       "{'ID': 500,\n",
       " 'Address': 'No 10:abc Rd,Colombo',\n",
       " 'Name': ['John', 'Anne', 'David'],\n",
       " 'Age': [22, 23],\n",
       " 'email': ('John@abc.com', 'Anne@abc.com'),\n",
       " 'Gender': ['Male', 'Female']}"
      ]
     },
     "execution_count": 67,
     "metadata": {},
     "output_type": "execute_result"
    }
   ],
   "source": [
    "del d2['Age'][0]# How to remove an Key elements in the Dictionary (Another Sub level List element)\n",
    "d2"
   ]
  },
  {
   "cell_type": "code",
   "execution_count": 63,
   "id": "18bfd8ac",
   "metadata": {},
   "outputs": [
    {
     "ename": "KeyError",
     "evalue": "'Age'",
     "output_type": "error",
     "traceback": [
      "\u001b[1;31m---------------------------------------------------------------------------\u001b[0m",
      "\u001b[1;31mKeyError\u001b[0m                                  Traceback (most recent call last)",
      "Cell \u001b[1;32mIn[63], line 1\u001b[0m\n\u001b[1;32m----> 1\u001b[0m \u001b[38;5;28;01mdel\u001b[39;00m d2[\u001b[38;5;124m'\u001b[39m\u001b[38;5;124mAge\u001b[39m\u001b[38;5;124m'\u001b[39m] \u001b[38;5;66;03m# How to remove an elements in the Dictionary\u001b[39;00m\n\u001b[0;32m      2\u001b[0m d2\n",
      "\u001b[1;31mKeyError\u001b[0m: 'Age'"
     ]
    }
   ],
   "source": [
    "del d2['Age'] # How to remove an elements in the Dictionary\n",
    "d2"
   ]
  },
  {
   "cell_type": "code",
   "execution_count": 62,
   "id": "93933d52",
   "metadata": {},
   "outputs": [
    {
     "data": {
      "text/plain": [
       "{'ID': 500,\n",
       " 'Address': 'No 10:abc Rd,Colombo',\n",
       " 'Name': ['John', 'Anne', 'David'],\n",
       " 'email': ('John@abc.com', 'Anne@abc.com'),\n",
       " 'Gender': ['Male', 'Female']}"
      ]
     },
     "execution_count": 62,
     "metadata": {},
     "output_type": "execute_result"
    }
   ],
   "source": [
    "d2"
   ]
  },
  {
   "cell_type": "code",
   "execution_count": 80,
   "id": "ffdc6015",
   "metadata": {},
   "outputs": [],
   "source": [
    "#Converting (Casting) something to a List,Tuple,Set\n",
    "a=[2,1,34,5,6,7,8,5,5,5]\n",
    "b=(2,3,4,6,78,8)\n",
    "c={2,5,6,7,8,9,}"
   ]
  },
  {
   "cell_type": "code",
   "execution_count": 74,
   "id": "db607fb8",
   "metadata": {},
   "outputs": [
    {
     "data": {
      "text/plain": [
       "[2, 3, 4, 6, 78, 8]"
      ]
     },
     "execution_count": 74,
     "metadata": {},
     "output_type": "execute_result"
    }
   ],
   "source": [
    "list(b)"
   ]
  },
  {
   "cell_type": "code",
   "execution_count": 81,
   "id": "5e64edea",
   "metadata": {},
   "outputs": [
    {
     "data": {
      "text/plain": [
       "[2, 5, 6, 7, 8, 9]"
      ]
     },
     "execution_count": 81,
     "metadata": {},
     "output_type": "execute_result"
    }
   ],
   "source": [
    "list(c)"
   ]
  },
  {
   "cell_type": "code",
   "execution_count": 82,
   "id": "6f517a26",
   "metadata": {},
   "outputs": [
    {
     "data": {
      "text/plain": [
       "(2, 1, 34, 5, 6, 7, 8, 5, 5, 5)"
      ]
     },
     "execution_count": 82,
     "metadata": {},
     "output_type": "execute_result"
    }
   ],
   "source": [
    "tuple(a)"
   ]
  },
  {
   "cell_type": "code",
   "execution_count": 77,
   "id": "81c25976",
   "metadata": {},
   "outputs": [
    {
     "data": {
      "text/plain": [
       "(2, 5, 6, 7, 8, 9)"
      ]
     },
     "execution_count": 77,
     "metadata": {},
     "output_type": "execute_result"
    }
   ],
   "source": [
    "tuple(c)"
   ]
  },
  {
   "cell_type": "code",
   "execution_count": 79,
   "id": "043fca40",
   "metadata": {},
   "outputs": [
    {
     "data": {
      "text/plain": [
       "{1, 2, 5, 6, 7, 8, 34}"
      ]
     },
     "execution_count": 79,
     "metadata": {},
     "output_type": "execute_result"
    }
   ],
   "source": [
    "set(a)  # See duplicates get removed when casting to a set \"Each set/Kulaka has unique values\""
   ]
  },
  {
   "cell_type": "code",
   "execution_count": 83,
   "id": "22f305ab",
   "metadata": {},
   "outputs": [
    {
     "data": {
      "text/plain": [
       "{2, 3, 4, 6, 8, 78}"
      ]
     },
     "execution_count": 83,
     "metadata": {},
     "output_type": "execute_result"
    }
   ],
   "source": [
    "set(b)"
   ]
  },
  {
   "cell_type": "code",
   "execution_count": 90,
   "id": "93d1c35f",
   "metadata": {},
   "outputs": [
    {
     "data": {
      "text/plain": [
       "{2, 6, 8}"
      ]
     },
     "execution_count": 90,
     "metadata": {},
     "output_type": "execute_result"
    }
   ],
   "source": [
    "p=set(a)\n",
    "q=set(b)\n",
    "p.intersection(q)"
   ]
  },
  {
   "cell_type": "code",
   "execution_count": 91,
   "id": "7ff92ef4",
   "metadata": {},
   "outputs": [
    {
     "data": {
      "text/plain": [
       "{2, 6, 8}"
      ]
     },
     "execution_count": 91,
     "metadata": {},
     "output_type": "execute_result"
    }
   ],
   "source": [
    "set(a).intersection(set(b))"
   ]
  },
  {
   "cell_type": "code",
   "execution_count": 93,
   "id": "2f277e11",
   "metadata": {},
   "outputs": [
    {
     "data": {
      "text/plain": [
       "{'a': 10, 'b': 20, 'c': 30, 'd': 40}"
      ]
     },
     "execution_count": 93,
     "metadata": {},
     "output_type": "execute_result"
    }
   ],
   "source": [
    "d={\"a\":10,\"b\":20,\"c\":30,\"d\":40} \n",
    "d"
   ]
  },
  {
   "cell_type": "code",
   "execution_count": 108,
   "id": "dee0cae2",
   "metadata": {},
   "outputs": [
    {
     "data": {
      "text/plain": [
       "['a', 'b', 'c', 'd']"
      ]
     },
     "execution_count": 108,
     "metadata": {},
     "output_type": "execute_result"
    }
   ],
   "source": [
    "list(d) # convert Dictionary to a list --- only keys are taken"
   ]
  },
  {
   "cell_type": "code",
   "execution_count": 109,
   "id": "d3a25954",
   "metadata": {},
   "outputs": [
    {
     "data": {
      "text/plain": [
       "('a', 'b', 'c', 'd')"
      ]
     },
     "execution_count": 109,
     "metadata": {},
     "output_type": "execute_result"
    }
   ],
   "source": [
    "tuple(d)  # convert Dictionary to a tuple  --- only keys are taken"
   ]
  },
  {
   "cell_type": "code",
   "execution_count": 110,
   "id": "f31eb71c",
   "metadata": {},
   "outputs": [
    {
     "data": {
      "text/plain": [
       "{'a', 'b', 'c', 'd'}"
      ]
     },
     "execution_count": 110,
     "metadata": {},
     "output_type": "execute_result"
    }
   ],
   "source": [
    "set(d) # convert Dictionary to a Set  --- only keys are taken"
   ]
  },
  {
   "cell_type": "code",
   "execution_count": 103,
   "id": "a3a4247c",
   "metadata": {},
   "outputs": [
    {
     "data": {
      "text/plain": [
       "{'p': 10, 'q': 20, 'r': 30, 's': 40}"
      ]
     },
     "execution_count": 103,
     "metadata": {},
     "output_type": "execute_result"
    }
   ],
   "source": [
    "dict( ( (\"p\",10),(\"q\",20),(\"r\",30),(\"s\",40) ) ) #convert tuple to dictionary (have to give in key value pair format) "
   ]
  },
  {
   "cell_type": "code",
   "execution_count": 115,
   "id": "5dc1ce7b",
   "metadata": {},
   "outputs": [
    {
     "data": {
      "text/plain": [
       "{'a': 1, 'b': 2, 'c': 3}"
      ]
     },
     "execution_count": 115,
     "metadata": {},
     "output_type": "execute_result"
    }
   ],
   "source": [
    "dict((('a',1), ('b',2), ['c',3]))"
   ]
  },
  {
   "cell_type": "markdown",
   "id": "57386a04",
   "metadata": {},
   "source": [
    "Conditional operators in Python"
   ]
  },
  {
   "cell_type": "code",
   "execution_count": 116,
   "id": "9c6c0a3e",
   "metadata": {},
   "outputs": [
    {
     "name": "stdout",
     "output_type": "stream",
     "text": [
      "Yes\n"
     ]
    }
   ],
   "source": [
    "x=10\n",
    "if x>5:\n",
    "    print(\"Yes\")"
   ]
  },
  {
   "cell_type": "code",
   "execution_count": 118,
   "id": "73ad7dc4",
   "metadata": {},
   "outputs": [],
   "source": [
    "x=1\n",
    "if x>5:\n",
    "    print(\"Yes\")"
   ]
  },
  {
   "cell_type": "code",
   "execution_count": 123,
   "id": "b6b4e94f",
   "metadata": {},
   "outputs": [
    {
     "name": "stdout",
     "output_type": "stream",
     "text": [
      "[3, 4, 5, 7, 8]\n"
     ]
    }
   ],
   "source": [
    "L=[1,3,4,5,7,8]\n",
    "if 1 in L:\n",
    "    L.remove(1)\n"
   ]
  },
  {
   "cell_type": "code",
   "execution_count": 126,
   "id": "436a1365",
   "metadata": {},
   "outputs": [
    {
     "name": "stdout",
     "output_type": "stream",
     "text": [
      "[3, 4, 5, 7, 8]\n"
     ]
    }
   ],
   "source": [
    "L=[1,3,4,5,7,8]\n",
    "if 1 in L:\n",
    "    L.remove(1)\n",
    "print(L)    "
   ]
  },
  {
   "cell_type": "code",
   "execution_count": 132,
   "id": "5dc242d4",
   "metadata": {},
   "outputs": [
    {
     "name": "stdout",
     "output_type": "stream",
     "text": [
      "fail\n"
     ]
    }
   ],
   "source": [
    "mark=36\n",
    "if mark>=50:\n",
    "    print(\"pass\")\n",
    "else:\n",
    "    print(\"fail\")"
   ]
  },
  {
   "cell_type": "code",
   "execution_count": 134,
   "id": "03a38671",
   "metadata": {},
   "outputs": [
    {
     "name": "stdout",
     "output_type": "stream",
     "text": [
      "even value\n"
     ]
    }
   ],
   "source": [
    "a=4\n",
    "if a%2==0:\n",
    "    print(\"even value\")\n",
    "else:\n",
    "    print(\"Odd value\")"
   ]
  },
  {
   "cell_type": "code",
   "execution_count": 152,
   "id": "fea219ad",
   "metadata": {},
   "outputs": [
    {
     "name": "stdout",
     "output_type": "stream",
     "text": [
      "S Pass\n"
     ]
    }
   ],
   "source": [
    "marks=56\n",
    "if marks<50:\n",
    "    print(\"Fail\")\n",
    "elif marks<60:\n",
    "    print(\"S Pass\")\n",
    "elif marks<70:\n",
    "    print(\"C Pass\")\n",
    "else:\n",
    "    print(\"D Pass\")"
   ]
  },
  {
   "cell_type": "code",
   "execution_count": 153,
   "id": "98265294",
   "metadata": {},
   "outputs": [
    {
     "name": "stdout",
     "output_type": "stream",
     "text": [
      "S Pass\n"
     ]
    }
   ],
   "source": [
    "marks=56\n",
    "if marks<50:\n",
    "    print(\"Fail\")\n",
    "elif marks<60:\n",
    "    print(\"S Pass\")\n",
    "elif marks<70:\n",
    "    print(\"C Pass\")\n",
    "else:\n",
    "    print(\"D Pass\")"
   ]
  },
  {
   "cell_type": "code",
   "execution_count": 168,
   "id": "2fff4660",
   "metadata": {},
   "outputs": [
    {
     "name": "stdout",
     "output_type": "stream",
     "text": [
      "A\n"
     ]
    }
   ],
   "source": [
    "marks=80\n",
    "if marks>=80:\n",
    "    grade=\"A\"\n",
    "elif marks>=65:\n",
    "    grade=\"B\"\n",
    "elif marks>=50:\n",
    "    grade=\"C\"\n",
    "else:\n",
    "    grade=\"F\"\n",
    "print(grade)"
   ]
  },
  {
   "cell_type": "code",
   "execution_count": 170,
   "id": "4a84a78d",
   "metadata": {},
   "outputs": [
    {
     "name": "stdout",
     "output_type": "stream",
     "text": [
      "Pass\n"
     ]
    }
   ],
   "source": [
    "mark=78   \n",
    "result=\"Pass\" if mark>=50 else \"Fail\"  # if command in single line\n",
    "print(result)"
   ]
  },
  {
   "cell_type": "code",
   "execution_count": 177,
   "id": "cdfb4022",
   "metadata": {},
   "outputs": [
    {
     "name": "stdout",
     "output_type": "stream",
     "text": [
      "B\n"
     ]
    }
   ],
   "source": [
    "mark=75 \n",
    "grade=\"A\" if mark>=80 else \"B\" if mark>=65 else \"C\" if mark>=50 else \"F\"   # multiple if else command in single line\n",
    "print(grade) # Its lie this We release \"A\" if marks >=80 then we release \"B\" if marks >=65"
   ]
  },
  {
   "cell_type": "code",
   "execution_count": null,
   "id": "439aa323",
   "metadata": {},
   "outputs": [],
   "source": []
  }
 ],
 "metadata": {
  "kernelspec": {
   "display_name": "Python 3 (ipykernel)",
   "language": "python",
   "name": "python3"
  },
  "language_info": {
   "codemirror_mode": {
    "name": "ipython",
    "version": 3
   },
   "file_extension": ".py",
   "mimetype": "text/x-python",
   "name": "python",
   "nbconvert_exporter": "python",
   "pygments_lexer": "ipython3",
   "version": "3.10.9"
  }
 },
 "nbformat": 4,
 "nbformat_minor": 5
}
