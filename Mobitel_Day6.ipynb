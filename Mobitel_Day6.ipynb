{
 "cells": [
  {
   "cell_type": "markdown",
   "id": "a8c6fa52",
   "metadata": {},
   "source": [
    "# Control Loops\n",
    "For Loop"
   ]
  },
  {
   "cell_type": "code",
   "execution_count": 1,
   "id": "8c50b49d",
   "metadata": {},
   "outputs": [],
   "source": [
    "k=[1,1,3,7,4,8,4,5,6,7,8,3,6,8,9,5]"
   ]
  },
  {
   "cell_type": "code",
   "execution_count": 2,
   "id": "b67924f6",
   "metadata": {},
   "outputs": [
    {
     "name": "stdout",
     "output_type": "stream",
     "text": [
      "1\n",
      "1\n",
      "3\n",
      "7\n",
      "4\n",
      "8\n",
      "4\n",
      "5\n",
      "6\n",
      "7\n",
      "8\n",
      "3\n",
      "6\n",
      "8\n",
      "9\n",
      "5\n"
     ]
    }
   ],
   "source": [
    "for i in k:\n",
    "    print(i)"
   ]
  },
  {
   "cell_type": "code",
   "execution_count": 13,
   "id": "63aa2345",
   "metadata": {},
   "outputs": [
    {
     "name": "stdout",
     "output_type": "stream",
     "text": [
      "1\n",
      "hi\n",
      "1\n",
      "hi\n",
      "3\n",
      "hi\n",
      "7\n",
      "hi\n"
     ]
    }
   ],
   "source": [
    "for i in k:\n",
    "    if i%2==0:\n",
    "      break  # Break the loop and exit when it meets the first even (condition) match\n",
    "    print(i) # without even executing the print line/follow up blocks\n",
    "    print(\"hi\")"
   ]
  },
  {
   "cell_type": "code",
   "execution_count": 12,
   "id": "ef6d77be",
   "metadata": {},
   "outputs": [
    {
     "name": "stdout",
     "output_type": "stream",
     "text": [
      "1\n",
      "hi\n",
      "1\n",
      "hi\n",
      "3\n",
      "hi\n",
      "7\n",
      "hi\n",
      "5\n",
      "hi\n",
      "7\n",
      "hi\n",
      "3\n",
      "hi\n",
      "9\n",
      "hi\n",
      "5\n",
      "hi\n"
     ]
    }
   ],
   "source": [
    "for i in k:\n",
    "    if i%2==0:\n",
    "      continue  #skip if it meets an even number(condition) without printing\n",
    "    print(i)  # i.e go to the next iteration without executing\n",
    "    print(\"hi\") # follow up line/codes"
   ]
  },
  {
   "cell_type": "code",
   "execution_count": 14,
   "id": "ab0858d4",
   "metadata": {},
   "outputs": [],
   "source": [
    "k=[8,9,0,2,3,4,6,7,6]"
   ]
  },
  {
   "cell_type": "code",
   "execution_count": 27,
   "id": "309ccd67",
   "metadata": {},
   "outputs": [
    {
     "name": "stdout",
     "output_type": "stream",
     "text": [
      "[80, 90, 0, 20, 30, 40, 60, 70, 60]\n"
     ]
    }
   ],
   "source": [
    "h=[]\n",
    "for j in k:\n",
    "    h.append(10*j)  # appending customized elements to an array\n",
    "print(h)    "
   ]
  },
  {
   "cell_type": "code",
   "execution_count": 18,
   "id": "6837a3b6",
   "metadata": {},
   "outputs": [
    {
     "data": {
      "text/plain": [
       "[80, 90, 0, 20, 30, 40, 60, 70, 60]"
      ]
     },
     "execution_count": 18,
     "metadata": {},
     "output_type": "execute_result"
    }
   ],
   "source": [
    "d=[10*x for x in k] # same thing with list comprehension method\n",
    "d"
   ]
  },
  {
   "cell_type": "code",
   "execution_count": 20,
   "id": "02f298b5",
   "metadata": {},
   "outputs": [
    {
     "data": {
      "text/plain": [
       "[3, 4, -5, -3, -2, -1, 1, 2, 1]"
      ]
     },
     "execution_count": 20,
     "metadata": {},
     "output_type": "execute_result"
    }
   ],
   "source": [
    "p=[i-5 for i in k]\n",
    "p"
   ]
  },
  {
   "cell_type": "code",
   "execution_count": 24,
   "id": "67beb88f",
   "metadata": {},
   "outputs": [
    {
     "data": {
      "text/plain": [
       "[8, 9, 0, 2, 3, 4, 6, 7, 6]"
      ]
     },
     "execution_count": 24,
     "metadata": {},
     "output_type": "execute_result"
    }
   ],
   "source": [
    "k"
   ]
  },
  {
   "cell_type": "code",
   "execution_count": 26,
   "id": "e97e9126",
   "metadata": {},
   "outputs": [
    {
     "data": {
      "text/plain": [
       "[9, 10, 1, 3, 4, 5, 7, 8, 7]"
      ]
     },
     "execution_count": 26,
     "metadata": {},
     "output_type": "execute_result"
    }
   ],
   "source": [
    "q=[i+1 for i in k]\n",
    "q"
   ]
  },
  {
   "cell_type": "code",
   "execution_count": 28,
   "id": "039313e2",
   "metadata": {},
   "outputs": [
    {
     "data": {
      "text/plain": [
       "[8, 0, 2, 4, 6, 6]"
      ]
     },
     "execution_count": 28,
     "metadata": {},
     "output_type": "execute_result"
    }
   ],
   "source": [
    "v=[i for i in k if i%2==0] # if you want to have a single if condition list comprehension method\n",
    "v                # you have to add the if condition at the end"
   ]
  },
  {
   "cell_type": "code",
   "execution_count": 31,
   "id": "80d51c24",
   "metadata": {},
   "outputs": [],
   "source": [
    "marks=[56,45,78,99,56,43,5,87,66,7,88,99,33,69,59,80]"
   ]
  },
  {
   "cell_type": "code",
   "execution_count": 45,
   "id": "d27544f6",
   "metadata": {},
   "outputs": [
    {
     "name": "stdout",
     "output_type": "stream",
     "text": [
      "['Pass', 'Fail', 'Pass', 'Pass', 'Pass', 'Fail', 'Fail', 'Pass', 'Pass', 'Fail', 'Pass', 'Pass', 'Fail', 'Pass', 'Pass', 'Pass']\n"
     ]
    }
   ],
   "source": [
    "results=[\"Pass\" if m>50 else \"Fail\" for m in marks] # if you have if else of more if\n",
    "print(results)   # Then you have to add the if conditions to the begining\n",
    "                 # Read it like this release \"Pass\" if marks >50 else we release \"Fail\" "
   ]
  },
  {
   "cell_type": "code",
   "execution_count": 44,
   "id": "f8cbe0d6",
   "metadata": {},
   "outputs": [
    {
     "name": "stdout",
     "output_type": "stream",
     "text": [
      "['C', 'F', 'B', 'A', 'C', 'F', 'F', 'A', 'B', 'F', 'A', 'A', 'F', 'B', 'C', 'B']\n"
     ]
    }
   ],
   "source": [
    "grades=[\"A\" if m>80 else \"B\" if m>65 else \"C\" if m>50 else \"F\"   for m in marks] # multiple if else command in single line\n",
    "print(grades) #Read it like this release \"A\" if marks >=80 then we release \"B\" if marks >=65"
   ]
  },
  {
   "cell_type": "markdown",
   "id": "0f112b35",
   "metadata": {},
   "source": [
    "#Nested Lists  # Nested Tuples"
   ]
  },
  {
   "cell_type": "code",
   "execution_count": 46,
   "id": "65d7e864",
   "metadata": {},
   "outputs": [],
   "source": [
    "p=[[2,3],[5,7],[8,5],[9,2],[4,0]]"
   ]
  },
  {
   "cell_type": "code",
   "execution_count": 47,
   "id": "df61bd5a",
   "metadata": {},
   "outputs": [
    {
     "name": "stdout",
     "output_type": "stream",
     "text": [
      "[2, 3]\n",
      "[5, 7]\n",
      "[8, 5]\n",
      "[9, 2]\n",
      "[4, 0]\n"
     ]
    }
   ],
   "source": [
    "for i in p:\n",
    "    print(i)"
   ]
  },
  {
   "cell_type": "code",
   "execution_count": 51,
   "id": "d658a917",
   "metadata": {},
   "outputs": [
    {
     "data": {
      "text/plain": [
       "5"
      ]
     },
     "execution_count": 51,
     "metadata": {},
     "output_type": "execute_result"
    }
   ],
   "source": [
    "a,b=5,7 #use unpacking elements method to access inside list elements\n",
    "a"
   ]
  },
  {
   "cell_type": "code",
   "execution_count": 58,
   "id": "249c9832",
   "metadata": {},
   "outputs": [
    {
     "name": "stdout",
     "output_type": "stream",
     "text": [
      "2 3\n",
      "5 7\n",
      "8 5\n",
      "9 2\n",
      "4 0\n"
     ]
    }
   ],
   "source": [
    "for i,j in p:\n",
    "    print(i,j)"
   ]
  },
  {
   "cell_type": "code",
   "execution_count": 62,
   "id": "a73f3ac0",
   "metadata": {},
   "outputs": [
    {
     "name": "stdout",
     "output_type": "stream",
     "text": [
      "5\n",
      "12\n",
      "13\n",
      "11\n",
      "4\n"
     ]
    }
   ],
   "source": [
    "for i,j in p:\n",
    "    print(i+j) # add both unpacked elements together"
   ]
  },
  {
   "cell_type": "code",
   "execution_count": 61,
   "id": "b058a182",
   "metadata": {},
   "outputs": [
    {
     "name": "stdout",
     "output_type": "stream",
     "text": [
      "2\n",
      "5\n",
      "8\n",
      "9\n",
      "4\n"
     ]
    }
   ],
   "source": [
    "for i,j in p:\n",
    "    print(i)  # print only element i"
   ]
  },
  {
   "cell_type": "code",
   "execution_count": 65,
   "id": "b1ad0cd8",
   "metadata": {},
   "outputs": [
    {
     "data": {
      "text/plain": [
       "[(2, 6), (1, 3), (4, 7), (6, 9), (7, 8)]"
      ]
     },
     "execution_count": 65,
     "metadata": {},
     "output_type": "execute_result"
    }
   ],
   "source": [
    "a=[2,1,4,6,7]   \n",
    "b=[6,3,7,9,8]\n",
    "zip(a,b)  # Making cuples/pairs with zip function\n",
    "list(zip(a,b))"
   ]
  },
  {
   "cell_type": "code",
   "execution_count": 83,
   "id": "413a24be",
   "metadata": {},
   "outputs": [
    {
     "data": {
      "text/plain": [
       "[(2, 6, 5), (1, 3, 2), (4, 7, 5), (6, 9, 8), (7, 8, 3)]"
      ]
     },
     "execution_count": 83,
     "metadata": {},
     "output_type": "execute_result"
    }
   ],
   "source": [
    "a=[2,1,4,6,7]   \n",
    "b=[6,3,7,9,8]\n",
    "c=[5,2,5,8,3]\n",
    "list(zip(a,b,c)) # a,b,c elements are coupled/paired together with zip function"
   ]
  },
  {
   "cell_type": "code",
   "execution_count": 79,
   "id": "bcc82da9",
   "metadata": {},
   "outputs": [
    {
     "name": "stdout",
     "output_type": "stream",
     "text": [
      "\n",
      "\n",
      "\n",
      "\n",
      "\n",
      "[(2, 6), (1, 3), (4, 7), (6, 9), (7, 8)]\n"
     ]
    }
   ],
   "source": [
    "a=[2,1,4,6,7]   \n",
    "b=[6,3,7,9,8]\n",
    "for x,y in zip(a,b):   # \n",
    "    print(\"\")\n",
    "print(list(zip(a,b)))"
   ]
  },
  {
   "cell_type": "code",
   "execution_count": 84,
   "id": "000fe511",
   "metadata": {},
   "outputs": [
    {
     "name": "stdout",
     "output_type": "stream",
     "text": [
      "[8, 4, 11, 15, 15]\n"
     ]
    }
   ],
   "source": [
    "a=[2,1,4,6,7]   \n",
    "b=[6,3,7,9,8]\n",
    "d=[]\n",
    "for x,y in zip(a,b):   #using unpacking method together with zip function in for loop\n",
    "    d.append(x+y)      # \n",
    "print(d)"
   ]
  },
  {
   "cell_type": "markdown",
   "id": "b1cc7b04",
   "metadata": {},
   "source": [
    "# While Loop"
   ]
  },
  {
   "cell_type": "code",
   "execution_count": 99,
   "id": "d812b60c",
   "metadata": {},
   "outputs": [
    {
     "name": "stdout",
     "output_type": "stream",
     "text": [
      "20\n"
     ]
    }
   ],
   "source": [
    "x=20\n",
    "if x>10:\n",
    "    print(x)\n",
    "    x=x-1"
   ]
  },
  {
   "cell_type": "code",
   "execution_count": 89,
   "id": "9d4a040c",
   "metadata": {},
   "outputs": [
    {
     "name": "stdout",
     "output_type": "stream",
     "text": [
      "20\n",
      "19\n",
      "18\n",
      "17\n",
      "16\n",
      "15\n",
      "14\n",
      "13\n",
      "12\n",
      "11\n",
      "10\n"
     ]
    }
   ],
   "source": [
    "x=20\n",
    "while x>=10:    # @ 9  9>=10 becomes false and while loop exits\n",
    "    print(x)\n",
    "    x=x-1  # When xbecomes 10 x-1 becomes 9 "
   ]
  },
  {
   "cell_type": "code",
   "execution_count": 101,
   "id": "deae380b",
   "metadata": {},
   "outputs": [
    {
     "name": "stdout",
     "output_type": "stream",
     "text": [
      "[2, 1, 4, 6, 7, 8, 9]\n",
      "[2, 1, 4, 6, 7, 8]\n",
      "[2, 1, 4, 6, 7]\n",
      "[2, 1, 4, 6]\n",
      "[2, 1, 4]\n",
      "[2, 1]\n",
      "[2]\n"
     ]
    }
   ],
   "source": [
    "L=[2,1,4,6,7,8,9]\n",
    "while len(L)>0:  #when length become 0 exit the while loop\n",
    "    print(L)     # print array\n",
    "    L.remove(L[-1]) # Remove the last element of the array \n",
    "                    #until array size become 0  i.e until it becomes an empty array"
   ]
  },
  {
   "cell_type": "code",
   "execution_count": 104,
   "id": "e94e3270",
   "metadata": {},
   "outputs": [
    {
     "name": "stdout",
     "output_type": "stream",
     "text": [
      "['G', 'a', 'y', 'a', 'n']\n",
      "['a', 'y', 'a', 'n']\n",
      "['y', 'a', 'n']\n",
      "['a', 'n']\n",
      "['n']\n"
     ]
    }
   ],
   "source": [
    "name=\"Gayan\"\n",
    "L=list(name)\n",
    "while len(L)>0:  #when length become 0 exit the while loop\n",
    "    print(L)     # print array\n",
    "    L.remove(L[0]) # Remove the last element of the array \n",
    "                    #until array size become 0  i.e until it becomes an empty array"
   ]
  },
  {
   "cell_type": "code",
   "execution_count": null,
   "id": "04a73d1b",
   "metadata": {},
   "outputs": [],
   "source": []
  }
 ],
 "metadata": {
  "kernelspec": {
   "display_name": "Python 3 (ipykernel)",
   "language": "python",
   "name": "python3"
  },
  "language_info": {
   "codemirror_mode": {
    "name": "ipython",
    "version": 3
   },
   "file_extension": ".py",
   "mimetype": "text/x-python",
   "name": "python",
   "nbconvert_exporter": "python",
   "pygments_lexer": "ipython3",
   "version": "3.10.9"
  }
 },
 "nbformat": 4,
 "nbformat_minor": 5
}
