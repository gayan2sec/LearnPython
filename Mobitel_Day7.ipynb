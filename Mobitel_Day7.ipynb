{
 "cells": [
  {
   "cell_type": "markdown",
   "id": "d194ec77",
   "metadata": {},
   "source": [
    "# Functions"
   ]
  },
  {
   "cell_type": "markdown",
   "id": "77143d32",
   "metadata": {},
   "source": [
    "Generating a repetitive output without a function"
   ]
  },
  {
   "cell_type": "code",
   "execution_count": 4,
   "id": "f0990db7",
   "metadata": {},
   "outputs": [
    {
     "name": "stdout",
     "output_type": "stream",
     "text": [
      "Hi Gayan\n",
      "Happy Birthday to you\n",
      "Happy Birthday to you\n",
      "Happy Birthday Dear Friend...\n",
      "Happy Birthday to you\n",
      "======================\n",
      "Hi Sam\n",
      "Happy Birthday to you\n",
      "Happy Birthday to you\n",
      "Happy Birthday Dear Friend...\n",
      "Happy Birthday to you\n",
      "======================\n",
      "Hi Nimal\n",
      "Happy Birthday to you\n",
      "Happy Birthday to you\n",
      "Happy Birthday Dear Friend...\n",
      "Happy Birthday to you\n"
     ]
    }
   ],
   "source": [
    "print(\"Hi Gayan\")\n",
    "print(\"Happy Birthday to you\")\n",
    "print(\"Happy Birthday to you\")\n",
    "print(\"Happy Birthday Dear Friend...\")\n",
    "print(\"Happy Birthday to you\")\n",
    "print(\"======================\")\n",
    "print(\"Hi Sam\")\n",
    "print(\"Happy Birthday to you\")\n",
    "print(\"Happy Birthday to you\")\n",
    "print(\"Happy Birthday Dear Friend...\")\n",
    "print(\"Happy Birthday to you\")\n",
    "print(\"======================\")\n",
    "print(\"Hi Nimal\")\n",
    "print(\"Happy Birthday to you\")\n",
    "print(\"Happy Birthday to you\")\n",
    "print(\"Happy Birthday Dear Friend...\")\n",
    "print(\"Happy Birthday to you\")"
   ]
  },
  {
   "cell_type": "markdown",
   "id": "60d227e3",
   "metadata": {},
   "source": [
    "Writing the same output with a function to eleminate repetitive codes"
   ]
  },
  {
   "cell_type": "code",
   "execution_count": 5,
   "id": "b658fa52",
   "metadata": {},
   "outputs": [],
   "source": [
    "def wish_birthday():\n",
    "    print(\"Happy Birthday to you\")\n",
    "    print(\"Happy Birthday to you\")\n",
    "    print(\"Happy Birthday Dear Friend...\")\n",
    "    print(\"Happy Birthday to you\")   \n",
    "    print(\"======================\")"
   ]
  },
  {
   "cell_type": "code",
   "execution_count": 7,
   "id": "5eb6ba0d",
   "metadata": {},
   "outputs": [
    {
     "name": "stdout",
     "output_type": "stream",
     "text": [
      "Hi Gayan\n",
      "Happy Birthday to you\n",
      "Happy Birthday to you\n",
      "Happy Birthday Dear Friend...\n",
      "Happy Birthday to you\n",
      "======================\n",
      "Hi Sam\n",
      "Happy Birthday to you\n",
      "Happy Birthday to you\n",
      "Happy Birthday Dear Friend...\n",
      "Happy Birthday to you\n",
      "======================\n",
      "Hi Nimal\n",
      "Happy Birthday to you\n",
      "Happy Birthday to you\n",
      "Happy Birthday Dear Friend...\n",
      "Happy Birthday to you\n",
      "======================\n"
     ]
    }
   ],
   "source": [
    "print(\"Hi Gayan\")\n",
    "wish_birthday()\n",
    "print(\"Hi Sam\")\n",
    "wish_birthday()\n",
    "print(\"Hi Nimal\")\n",
    "wish_birthday()"
   ]
  },
  {
   "cell_type": "code",
   "execution_count": 1,
   "id": "bf013e07",
   "metadata": {},
   "outputs": [],
   "source": [
    "def square_val(x):\n",
    "    print(x**2)"
   ]
  },
  {
   "cell_type": "code",
   "execution_count": 2,
   "id": "c9daf858",
   "metadata": {},
   "outputs": [
    {
     "name": "stdout",
     "output_type": "stream",
     "text": [
      "9\n"
     ]
    }
   ],
   "source": [
    "square_val(3)"
   ]
  },
  {
   "cell_type": "code",
   "execution_count": 18,
   "id": "3c22ee76",
   "metadata": {},
   "outputs": [],
   "source": [
    "def add_vals(a,b):\n",
    "    print(a+b)"
   ]
  },
  {
   "cell_type": "code",
   "execution_count": 19,
   "id": "c84492f4",
   "metadata": {},
   "outputs": [
    {
     "name": "stdout",
     "output_type": "stream",
     "text": [
      "9\n"
     ]
    }
   ],
   "source": [
    "add_vals(3,6)"
   ]
  },
  {
   "cell_type": "code",
   "execution_count": 20,
   "id": "d561528d",
   "metadata": {},
   "outputs": [
    {
     "name": "stdout",
     "output_type": "stream",
     "text": [
      "10\n"
     ]
    }
   ],
   "source": [
    "add_vals(8,2)"
   ]
  },
  {
   "cell_type": "code",
   "execution_count": 21,
   "id": "8121c8d4",
   "metadata": {},
   "outputs": [],
   "source": [
    "def check_odd_even(p):\n",
    "    if p%2==0:\n",
    "        print(\"Even\")\n",
    "    else:\n",
    "        print(\"Odd\")\n",
    "    "
   ]
  },
  {
   "cell_type": "code",
   "execution_count": 29,
   "id": "40abd610",
   "metadata": {},
   "outputs": [
    {
     "name": "stdout",
     "output_type": "stream",
     "text": [
      "Even\n"
     ]
    }
   ],
   "source": [
    "check_odd_even(6)"
   ]
  },
  {
   "cell_type": "code",
   "execution_count": 30,
   "id": "520cac3a",
   "metadata": {},
   "outputs": [],
   "source": [
    "def add_list(L1,L2):\n",
    "    L3=[i+j for i,j in zip(L1,L2)]  # List comprehension (i for i in List) + unpacking method a,b=5,7 +  zip function in for loop\n",
    "    print(L3)"
   ]
  },
  {
   "cell_type": "code",
   "execution_count": 31,
   "id": "85f60ba6",
   "metadata": {},
   "outputs": [
    {
     "name": "stdout",
     "output_type": "stream",
     "text": [
      "[10, 5, 7, 10, 13]\n"
     ]
    }
   ],
   "source": [
    "add_list([2,1,4,5,6],[8,4,3,5,7])"
   ]
  },
  {
   "cell_type": "code",
   "execution_count": 33,
   "id": "5beb502d",
   "metadata": {},
   "outputs": [
    {
     "name": "stdout",
     "output_type": "stream",
     "text": [
      "[6, 7]\n"
     ]
    }
   ],
   "source": [
    "add_list([2,1],[4,6])"
   ]
  },
  {
   "cell_type": "code",
   "execution_count": 37,
   "id": "95509d87",
   "metadata": {},
   "outputs": [],
   "source": [
    "def check_result(p):\n",
    "    if p> 50:\n",
    "        print(\"Pass\")\n",
    "    else:\n",
    "        print(\"Fail\")"
   ]
  },
  {
   "cell_type": "code",
   "execution_count": 38,
   "id": "ebf58269",
   "metadata": {},
   "outputs": [
    {
     "name": "stdout",
     "output_type": "stream",
     "text": [
      "Pass\n"
     ]
    }
   ],
   "source": [
    "check_result(63)"
   ]
  },
  {
   "cell_type": "code",
   "execution_count": 39,
   "id": "2304c2bd",
   "metadata": {},
   "outputs": [],
   "source": [
    "def fun(a):\n",
    "    print(2*a)"
   ]
  },
  {
   "cell_type": "code",
   "execution_count": 40,
   "id": "60eb8758",
   "metadata": {},
   "outputs": [
    {
     "name": "stdout",
     "output_type": "stream",
     "text": [
      "4\n"
     ]
    }
   ],
   "source": [
    "fun(2)"
   ]
  },
  {
   "cell_type": "code",
   "execution_count": 3,
   "id": "cdbd1d50",
   "metadata": {},
   "outputs": [
    {
     "ename": "NameError",
     "evalue": "name 'fun' is not defined",
     "output_type": "error",
     "traceback": [
      "\u001b[1;31m---------------------------------------------------------------------------\u001b[0m",
      "\u001b[1;31mNameError\u001b[0m                                 Traceback (most recent call last)",
      "Cell \u001b[1;32mIn[3], line 1\u001b[0m\n\u001b[1;32m----> 1\u001b[0m \u001b[43mfun\u001b[49m(\u001b[38;5;241m2\u001b[39m)\u001b[38;5;241m+\u001b[39m\u001b[38;5;241m10\u001b[39m\n",
      "\u001b[1;31mNameError\u001b[0m: name 'fun' is not defined"
     ]
    }
   ],
   "source": [
    "fun(2)+10  # Print can't  add to a variable . You must use a return variable insted"
   ]
  },
  {
   "cell_type": "code",
   "execution_count": 47,
   "id": "658eaf6b",
   "metadata": {},
   "outputs": [],
   "source": [
    "def fun(b):\n",
    "    return(2*b)"
   ]
  },
  {
   "cell_type": "code",
   "execution_count": 48,
   "id": "26bdebec",
   "metadata": {},
   "outputs": [
    {
     "data": {
      "text/plain": [
       "4"
      ]
     },
     "execution_count": 48,
     "metadata": {},
     "output_type": "execute_result"
    }
   ],
   "source": [
    "fun(2)"
   ]
  },
  {
   "cell_type": "code",
   "execution_count": 49,
   "id": "bee12860",
   "metadata": {},
   "outputs": [
    {
     "data": {
      "text/plain": [
       "14"
      ]
     },
     "execution_count": 49,
     "metadata": {},
     "output_type": "execute_result"
    }
   ],
   "source": [
    "fun(2)+10"
   ]
  },
  {
   "cell_type": "code",
   "execution_count": 50,
   "id": "cdecf47a",
   "metadata": {},
   "outputs": [
    {
     "data": {
      "text/plain": [
       "12"
      ]
     },
     "execution_count": 50,
     "metadata": {},
     "output_type": "execute_result"
    }
   ],
   "source": [
    "x=fun(6)\n",
    "x"
   ]
  },
  {
   "cell_type": "code",
   "execution_count": 52,
   "id": "a2be3128",
   "metadata": {},
   "outputs": [],
   "source": [
    "def fun1(a,b):\n",
    "    return a+b"
   ]
  },
  {
   "cell_type": "code",
   "execution_count": 53,
   "id": "52165208",
   "metadata": {},
   "outputs": [
    {
     "data": {
      "text/plain": [
       "30"
      ]
     },
     "execution_count": 53,
     "metadata": {},
     "output_type": "execute_result"
    }
   ],
   "source": [
    "fun1(10,20)"
   ]
  },
  {
   "cell_type": "code",
   "execution_count": 54,
   "id": "9ce276f1",
   "metadata": {},
   "outputs": [],
   "source": [
    "def check_result(m):\n",
    "    return \"Pass\" if m>=50 else \"Fail\""
   ]
  },
  {
   "cell_type": "code",
   "execution_count": 55,
   "id": "9f31246f",
   "metadata": {},
   "outputs": [
    {
     "data": {
      "text/plain": [
       "'Pass'"
      ]
     },
     "execution_count": 55,
     "metadata": {},
     "output_type": "execute_result"
    }
   ],
   "source": [
    "check_result(56)"
   ]
  },
  {
   "cell_type": "code",
   "execution_count": 58,
   "id": "50affa12",
   "metadata": {},
   "outputs": [
    {
     "name": "stdout",
     "output_type": "stream",
     "text": [
      "['Pass', 'Fail', 'Pass', 'Pass', 'Pass', 'Fail', 'Pass']\n"
     ]
    }
   ],
   "source": [
    "marks=[67,45,76,78,98,45,64]\n",
    "results=[\"Pass\" if m>=50 else \"Fail\" for m in marks] # List comprehension\n",
    "print(results)"
   ]
  },
  {
   "cell_type": "code",
   "execution_count": 68,
   "id": "df129afe",
   "metadata": {},
   "outputs": [
    {
     "name": "stdout",
     "output_type": "stream",
     "text": [
      "['Pass', 'Fail', 'Pass', 'Pass', 'Pass', 'Fail', 'Pass']\n"
     ]
    }
   ],
   "source": [
    "marks=[67,45,76,78,98,45,64]\n",
    "results=[check_result(m) for m in marks]  # same with a function  Calling to check_result(m) function\n",
    "print(results)"
   ]
  },
  {
   "cell_type": "code",
   "execution_count": 70,
   "id": "4b29d46a",
   "metadata": {},
   "outputs": [
    {
     "name": "stdout",
     "output_type": "stream",
     "text": [
      "['Pass', 'Fail', 'Pass', 'Pass', 'Pass', 'Fail', 'Pass']\n"
     ]
    }
   ],
   "source": [
    "results=list(map(check_result,marks))  #pass each element to the function\n",
    "print(results)"
   ]
  },
  {
   "cell_type": "markdown",
   "id": "259bb887",
   "metadata": {},
   "source": [
    "map(function, iterable, [iterable1, iterable2, ...])    #map syantx"
   ]
  },
  {
   "cell_type": "code",
   "execution_count": 80,
   "id": "a7e6c980",
   "metadata": {},
   "outputs": [
    {
     "name": "stdout",
     "output_type": "stream",
     "text": [
      "[1, 8, 27, 64, 125]\n"
     ]
    }
   ],
   "source": [
    "org_list = [1, 2, 3, 4, 5]   #---from internet\n",
    "fin_list = []\n",
    "\n",
    "for num in org_list:\n",
    "    fin_list.append(num**3)\n",
    "\n",
    "print(fin_list) # [1, 8, 27, 64, 125]"
   ]
  },
  {
   "cell_type": "code",
   "execution_count": 109,
   "id": "9aa5fed2",
   "metadata": {},
   "outputs": [
    {
     "name": "stdout",
     "output_type": "stream",
     "text": [
      "[1, 8, 27, 64, 125]\n"
     ]
    }
   ],
   "source": [
    "org_list = [1, 2, 3, 4, 5]  #---from internet  # Self study\n",
    "\n",
    "# define a function that returns the cube of `num`\n",
    "def cube(num):\n",
    "    return num**3\n",
    "   \n",
    "fin_list = list(map(cube, org_list))\n",
    "print(fin_list) # [1, 8, 27, 64, 125]\n",
    "#the map() function essentially iterated through each element of the iterable (in our case, org_list) \n",
    "#and applied the cube function on it. It finally returned a new iterable (fin_list ) with the result."
   ]
  },
  {
   "cell_type": "code",
   "execution_count": 75,
   "id": "a189a783",
   "metadata": {},
   "outputs": [],
   "source": [
    "def myfun(a):\n",
    "     return 2*a"
   ]
  },
  {
   "cell_type": "code",
   "execution_count": 108,
   "id": "749da398",
   "metadata": {},
   "outputs": [
    {
     "data": {
      "text/plain": [
       "[4, 2, 8, 12, 14, 16, 18]"
      ]
     },
     "execution_count": 108,
     "metadata": {},
     "output_type": "execute_result"
    }
   ],
   "source": [
    "L=[2,1,4,6,7,8,9]   # Self study\n",
    "list(map(myfun,L))\n",
    "#the map() function essentially iterated through each element of the iterable (in our case, org_list) \n",
    "#and applied the cube function on it. It finally returned a new iterable (fin_list ) with the result."
   ]
  },
  {
   "cell_type": "code",
   "execution_count": 83,
   "id": "4c774d52",
   "metadata": {},
   "outputs": [],
   "source": [
    "#normal function in two lines\n",
    "def myfun(a):\n",
    "     return 2*a"
   ]
  },
  {
   "cell_type": "code",
   "execution_count": 84,
   "id": "31528b84",
   "metadata": {},
   "outputs": [],
   "source": [
    "#lambda function in single line\n",
    "fun1=lambda x:2*x"
   ]
  },
  {
   "cell_type": "code",
   "execution_count": 85,
   "id": "095f5273",
   "metadata": {},
   "outputs": [
    {
     "data": {
      "text/plain": [
       "12"
      ]
     },
     "execution_count": 85,
     "metadata": {},
     "output_type": "execute_result"
    }
   ],
   "source": [
    "fun1(6)"
   ]
  },
  {
   "cell_type": "code",
   "execution_count": 88,
   "id": "4dd98666",
   "metadata": {},
   "outputs": [],
   "source": [
    "fun2=lambda a,b : a+b    # a,b <---- what you give as input   a+b<---your operation"
   ]
  },
  {
   "cell_type": "code",
   "execution_count": 87,
   "id": "a00263c5",
   "metadata": {},
   "outputs": [
    {
     "data": {
      "text/plain": [
       "6"
      ]
     },
     "execution_count": 87,
     "metadata": {},
     "output_type": "execute_result"
    }
   ],
   "source": [
    "fun2(2,4)"
   ]
  },
  {
   "cell_type": "code",
   "execution_count": 81,
   "id": "5836df91",
   "metadata": {},
   "outputs": [
    {
     "data": {
      "text/plain": [
       "[4, 2, 8, 12, 14, 16, 18]"
      ]
     },
     "execution_count": 81,
     "metadata": {},
     "output_type": "execute_result"
    }
   ],
   "source": [
    "#lambda  === write the function in a single line\n",
    "#Instead of writing a separate function to calculate the cube of a number, ---from internet\n",
    "#we can use a lambda expression in its place. Here's how you'd do that:\n",
    "L=[2,1,4,6,7,8,9]\n",
    "list(map(lambda a:2*a,L))"
   ]
  },
  {
   "cell_type": "code",
   "execution_count": 94,
   "id": "f7ad0996",
   "metadata": {},
   "outputs": [
    {
     "data": {
      "text/plain": [
       "['Fail', 'Pass', 'Pass', 'Pass', 'Fail', 'Pass']"
      ]
     },
     "execution_count": 94,
     "metadata": {},
     "output_type": "execute_result"
    }
   ],
   "source": [
    "marks=[34,65,78,96,47,97]\n",
    "list(map(lambda m : \"Pass\" if m>50 else \"Fail\",marks))\n"
   ]
  },
  {
   "cell_type": "code",
   "execution_count": 96,
   "id": "d26910d6",
   "metadata": {},
   "outputs": [
    {
     "name": "stdout",
     "output_type": "stream",
     "text": [
      "['Fail', 'Pass', 'Pass', 'Pass', 'Fail', 'Pass']\n"
     ]
    }
   ],
   "source": [
    "marks=[34,65,78,96,47,97]\n",
    "result=list(map(lambda m : \"Pass\" if m>50 else \"Fail\",marks)) #assign to another list and print\n",
    "print(result)"
   ]
  },
  {
   "cell_type": "code",
   "execution_count": 98,
   "id": "2e71e06e",
   "metadata": {},
   "outputs": [
    {
     "data": {
      "text/plain": [
       "['Fail', 'Pass', 'Pass', 'Pass', 'Fail', 'Pass']"
      ]
     },
     "execution_count": 98,
     "metadata": {},
     "output_type": "execute_result"
    }
   ],
   "source": [
    "marks=[34,65,78,96,47,97]\n",
    "list(map(lambda m : \"Pass\" if m>50 else \"Fail\",marks))"
   ]
  },
  {
   "cell_type": "code",
   "execution_count": 107,
   "id": "2119929f",
   "metadata": {},
   "outputs": [
    {
     "data": {
      "text/plain": [
       "['f', 'C', 'A', 'A', 'f', 'A']"
      ]
     },
     "execution_count": 107,
     "metadata": {},
     "output_type": "execute_result"
    }
   ],
   "source": [
    "marks=[34,65,78,96,47,97]    # Self study\n",
    "list(map(lambda m : \"A\" if m>75 else \"B\" if m>65 else \"C\" if m>50 else \"f\",marks)) \n",
    "# A simple single line lambda function to grade student results"
   ]
  },
  {
   "cell_type": "code",
   "execution_count": 106,
   "id": "d9b3f93a",
   "metadata": {},
   "outputs": [
    {
     "data": {
      "text/plain": [
       "[(34, 'f'), (65, 'C'), (78, 'A'), (96, 'A'), (47, 'f'), (97, 'A')]"
      ]
     },
     "execution_count": 106,
     "metadata": {},
     "output_type": "execute_result"
    }
   ],
   "source": [
    "marks=[34,65,78,96,47,97]    # Self study\n",
    "grades=list(map(lambda m : \"A\" if m>75 else \"B\" if m>65 else \"C\" if m>50 else \"f\",marks)) \n",
    "# A simple single line lambda function to grade student results\n",
    "list(zip(marks,grades))"
   ]
  },
  {
   "cell_type": "markdown",
   "id": "85343bc5",
   "metadata": {},
   "source": [
    "# Strings"
   ]
  },
  {
   "cell_type": "code",
   "execution_count": 110,
   "id": "6594808c",
   "metadata": {},
   "outputs": [
    {
     "data": {
      "text/plain": [
       "'a'"
      ]
     },
     "execution_count": 110,
     "metadata": {},
     "output_type": "execute_result"
    }
   ],
   "source": [
    "\"a\""
   ]
  },
  {
   "cell_type": "code",
   "execution_count": 111,
   "id": "bcc2c3d7",
   "metadata": {},
   "outputs": [
    {
     "data": {
      "text/plain": [
       "'cat'"
      ]
     },
     "execution_count": 111,
     "metadata": {},
     "output_type": "execute_result"
    }
   ],
   "source": [
    "\"cat\""
   ]
  },
  {
   "cell_type": "code",
   "execution_count": 112,
   "id": "d3b03dc9",
   "metadata": {},
   "outputs": [
    {
     "data": {
      "text/plain": [
       "'dog is barking'"
      ]
     },
     "execution_count": 112,
     "metadata": {},
     "output_type": "execute_result"
    }
   ],
   "source": [
    "\"dog is barking\""
   ]
  },
  {
   "cell_type": "code",
   "execution_count": 113,
   "id": "10b80baf",
   "metadata": {},
   "outputs": [
    {
     "data": {
      "text/plain": [
       "'  '"
      ]
     },
     "execution_count": 113,
     "metadata": {},
     "output_type": "execute_result"
    }
   ],
   "source": [
    "\"  \""
   ]
  },
  {
   "cell_type": "code",
   "execution_count": 114,
   "id": "b67e4b10",
   "metadata": {},
   "outputs": [
    {
     "data": {
      "text/plain": [
       "str"
      ]
     },
     "execution_count": 114,
     "metadata": {},
     "output_type": "execute_result"
    }
   ],
   "source": [
    "type(\"\")"
   ]
  },
  {
   "cell_type": "code",
   "execution_count": 115,
   "id": "7793ce66",
   "metadata": {},
   "outputs": [
    {
     "data": {
      "text/plain": [
       "str"
      ]
     },
     "execution_count": 115,
     "metadata": {},
     "output_type": "execute_result"
    }
   ],
   "source": [
    "type(\" \")"
   ]
  },
  {
   "cell_type": "code",
   "execution_count": 116,
   "id": "c1c4cb55",
   "metadata": {},
   "outputs": [
    {
     "data": {
      "text/plain": [
       "str"
      ]
     },
     "execution_count": 116,
     "metadata": {},
     "output_type": "execute_result"
    }
   ],
   "source": [
    "type(\" hello there  \")"
   ]
  },
  {
   "cell_type": "code",
   "execution_count": 117,
   "id": "0347f714",
   "metadata": {},
   "outputs": [
    {
     "data": {
      "text/plain": [
       "str"
      ]
     },
     "execution_count": 117,
     "metadata": {},
     "output_type": "execute_result"
    }
   ],
   "source": [
    "type('hello there')"
   ]
  },
  {
   "cell_type": "code",
   "execution_count": 118,
   "id": "c183bbe6",
   "metadata": {},
   "outputs": [
    {
     "data": {
      "text/plain": [
       "str"
      ]
     },
     "execution_count": 118,
     "metadata": {},
     "output_type": "execute_result"
    }
   ],
   "source": [
    "type('234234#@#$%$')"
   ]
  },
  {
   "cell_type": "code",
   "execution_count": 120,
   "id": "cd20c6a0",
   "metadata": {},
   "outputs": [
    {
     "data": {
      "text/plain": [
       "str"
      ]
     },
     "execution_count": 120,
     "metadata": {},
     "output_type": "execute_result"
    }
   ],
   "source": [
    "type(\"234234#@#$%$\")"
   ]
  },
  {
   "cell_type": "code",
   "execution_count": 121,
   "id": "ed66afb0",
   "metadata": {},
   "outputs": [
    {
     "name": "stdout",
     "output_type": "stream",
     "text": [
      "234234#@#$%$\n"
     ]
    }
   ],
   "source": [
    "print('234234#@#$%$')"
   ]
  },
  {
   "cell_type": "code",
   "execution_count": 124,
   "id": "a8838c27",
   "metadata": {},
   "outputs": [
    {
     "name": "stdout",
     "output_type": "stream",
     "text": [
      " a \n"
     ]
    }
   ],
   "source": [
    "print(\" a \")"
   ]
  },
  {
   "cell_type": "code",
   "execution_count": 129,
   "id": "bf1162c1",
   "metadata": {},
   "outputs": [
    {
     "name": "stdout",
     "output_type": "stream",
     "text": [
      " a \n"
     ]
    }
   ],
   "source": [
    "print(' a ')"
   ]
  },
  {
   "cell_type": "code",
   "execution_count": 130,
   "id": "82eedcb3",
   "metadata": {},
   "outputs": [],
   "source": [
    "#how to combine strings"
   ]
  },
  {
   "cell_type": "code",
   "execution_count": 136,
   "id": "c5b89682",
   "metadata": {},
   "outputs": [],
   "source": [
    "a=\"Sam\"\n",
    "b=\"is a good boy\"\n",
    "c=\" \""
   ]
  },
  {
   "cell_type": "code",
   "execution_count": 137,
   "id": "a8996d18",
   "metadata": {},
   "outputs": [
    {
     "data": {
      "text/plain": [
       "'Sam is a good boy'"
      ]
     },
     "execution_count": 137,
     "metadata": {},
     "output_type": "execute_result"
    }
   ],
   "source": [
    "a+c+b"
   ]
  },
  {
   "cell_type": "code",
   "execution_count": 139,
   "id": "2a4193a9",
   "metadata": {},
   "outputs": [
    {
     "data": {
      "text/plain": [
       "'SamSamSam'"
      ]
     },
     "execution_count": 139,
     "metadata": {},
     "output_type": "execute_result"
    }
   ],
   "source": [
    "3*a   #<<----same string \"sam\" will repeated 3 times"
   ]
  },
  {
   "cell_type": "code",
   "execution_count": 141,
   "id": "0fd36a64",
   "metadata": {},
   "outputs": [
    {
     "data": {
      "text/plain": [
       "'is a good boyis a good boy'"
      ]
     },
     "execution_count": 141,
     "metadata": {},
     "output_type": "execute_result"
    }
   ],
   "source": [
    "2*b"
   ]
  },
  {
   "cell_type": "code",
   "execution_count": 142,
   "id": "14df397e",
   "metadata": {},
   "outputs": [
    {
     "name": "stdout",
     "output_type": "stream",
     "text": [
      "is a good boyis a good boy\n"
     ]
    }
   ],
   "source": [
    "print(2*b)"
   ]
  },
  {
   "cell_type": "code",
   "execution_count": 143,
   "id": "a08ccceb",
   "metadata": {},
   "outputs": [],
   "source": [
    "a=\"8\""
   ]
  },
  {
   "cell_type": "code",
   "execution_count": 144,
   "id": "2288d221",
   "metadata": {},
   "outputs": [
    {
     "data": {
      "text/plain": [
       "'88888'"
      ]
     },
     "execution_count": 144,
     "metadata": {},
     "output_type": "execute_result"
    }
   ],
   "source": [
    "5*a"
   ]
  },
  {
   "cell_type": "code",
   "execution_count": 145,
   "id": "03285678",
   "metadata": {},
   "outputs": [],
   "source": [
    "msg=\"Today is a very beautiful day\""
   ]
  },
  {
   "cell_type": "code",
   "execution_count": 146,
   "id": "9e7cc4b7",
   "metadata": {},
   "outputs": [
    {
     "data": {
      "text/plain": [
       "29"
      ]
     },
     "execution_count": 146,
     "metadata": {},
     "output_type": "execute_result"
    }
   ],
   "source": [
    "len(msg)"
   ]
  },
  {
   "cell_type": "code",
   "execution_count": 147,
   "id": "9c000f56",
   "metadata": {},
   "outputs": [],
   "source": [
    "#membership test apply"
   ]
  },
  {
   "cell_type": "code",
   "execution_count": 148,
   "id": "cfd88c9a",
   "metadata": {},
   "outputs": [
    {
     "data": {
      "text/plain": [
       "True"
      ]
     },
     "execution_count": 148,
     "metadata": {},
     "output_type": "execute_result"
    }
   ],
   "source": [
    "\"Today\" in msg"
   ]
  },
  {
   "cell_type": "code",
   "execution_count": 149,
   "id": "3012ceac",
   "metadata": {},
   "outputs": [
    {
     "data": {
      "text/plain": [
       "False"
      ]
     },
     "execution_count": 149,
     "metadata": {},
     "output_type": "execute_result"
    }
   ],
   "source": [
    "\"today\" in msg"
   ]
  },
  {
   "cell_type": "code",
   "execution_count": 150,
   "id": "d2f1b29d",
   "metadata": {},
   "outputs": [
    {
     "data": {
      "text/plain": [
       "False"
      ]
     },
     "execution_count": 150,
     "metadata": {},
     "output_type": "execute_result"
    }
   ],
   "source": [
    "\"Today\" not in msg"
   ]
  },
  {
   "cell_type": "code",
   "execution_count": 160,
   "id": "94f77407",
   "metadata": {},
   "outputs": [
    {
     "data": {
      "text/plain": [
       "True"
      ]
     },
     "execution_count": 160,
     "metadata": {},
     "output_type": "execute_result"
    }
   ],
   "source": [
    "\"is a\" in msg"
   ]
  },
  {
   "cell_type": "code",
   "execution_count": 152,
   "id": "cddfd823",
   "metadata": {},
   "outputs": [
    {
     "data": {
      "text/plain": [
       "'T'"
      ]
     },
     "execution_count": 152,
     "metadata": {},
     "output_type": "execute_result"
    }
   ],
   "source": [
    "msg[0]"
   ]
  },
  {
   "cell_type": "code",
   "execution_count": 153,
   "id": "87c355de",
   "metadata": {},
   "outputs": [
    {
     "data": {
      "text/plain": [
       "' '"
      ]
     },
     "execution_count": 153,
     "metadata": {},
     "output_type": "execute_result"
    }
   ],
   "source": [
    "msg[5]"
   ]
  },
  {
   "cell_type": "code",
   "execution_count": 154,
   "id": "0a573477",
   "metadata": {},
   "outputs": [
    {
     "data": {
      "text/plain": [
       "'y'"
      ]
     },
     "execution_count": 154,
     "metadata": {},
     "output_type": "execute_result"
    }
   ],
   "source": [
    "msg[-1]"
   ]
  },
  {
   "cell_type": "code",
   "execution_count": 155,
   "id": "da870d4f",
   "metadata": {},
   "outputs": [
    {
     "data": {
      "text/plain": [
       "'ay is'"
      ]
     },
     "execution_count": 155,
     "metadata": {},
     "output_type": "execute_result"
    }
   ],
   "source": [
    "msg[3:8]"
   ]
  },
  {
   "cell_type": "code",
   "execution_count": 157,
   "id": "b2963028",
   "metadata": {},
   "outputs": [
    {
     "ename": "TypeError",
     "evalue": "'str' object does not support item assignment",
     "output_type": "error",
     "traceback": [
      "\u001b[1;31m---------------------------------------------------------------------------\u001b[0m",
      "\u001b[1;31mTypeError\u001b[0m                                 Traceback (most recent call last)",
      "Cell \u001b[1;32mIn[157], line 1\u001b[0m\n\u001b[1;32m----> 1\u001b[0m msg[\u001b[38;5;241m0\u001b[39m]\u001b[38;5;241m=\u001b[39m\u001b[38;5;124m\"\u001b[39m\u001b[38;5;124mt\u001b[39m\u001b[38;5;124m\"\u001b[39m\n",
      "\u001b[1;31mTypeError\u001b[0m: 'str' object does not support item assignment"
     ]
    }
   ],
   "source": [
    "msg[0]=\"t\"  #not mutable   can't change string elements in direct methods"
   ]
  }
 ],
 "metadata": {
  "kernelspec": {
   "display_name": "Python 3 (ipykernel)",
   "language": "python",
   "name": "python3"
  },
  "language_info": {
   "codemirror_mode": {
    "name": "ipython",
    "version": 3
   },
   "file_extension": ".py",
   "mimetype": "text/x-python",
   "name": "python",
   "nbconvert_exporter": "python",
   "pygments_lexer": "ipython3",
   "version": "3.10.9"
  }
 },
 "nbformat": 4,
 "nbformat_minor": 5
}
