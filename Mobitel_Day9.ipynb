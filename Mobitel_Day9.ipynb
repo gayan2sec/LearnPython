{
 "cells": [
  {
   "cell_type": "markdown",
   "id": "19cd1150",
   "metadata": {},
   "source": [
    "In built python base functions"
   ]
  },
  {
   "cell_type": "code",
   "execution_count": 1,
   "id": "d7b802e9",
   "metadata": {},
   "outputs": [],
   "source": [
    "L=[1,2,4,5,6,8]"
   ]
  },
  {
   "cell_type": "code",
   "execution_count": 2,
   "id": "497c9cc3",
   "metadata": {},
   "outputs": [
    {
     "data": {
      "text/plain": [
       "6"
      ]
     },
     "execution_count": 2,
     "metadata": {},
     "output_type": "execute_result"
    }
   ],
   "source": [
    "len(L)"
   ]
  },
  {
   "cell_type": "code",
   "execution_count": 3,
   "id": "00145729",
   "metadata": {},
   "outputs": [],
   "source": [
    "L.append(10)"
   ]
  },
  {
   "cell_type": "code",
   "execution_count": 4,
   "id": "dcf0740d",
   "metadata": {},
   "outputs": [
    {
     "data": {
      "text/plain": [
       "[1, 2, 4, 5, 6, 8, 10]"
      ]
     },
     "execution_count": 4,
     "metadata": {},
     "output_type": "execute_result"
    }
   ],
   "source": [
    "L"
   ]
  },
  {
   "cell_type": "markdown",
   "id": "b85db482",
   "metadata": {},
   "source": [
    "# Modules/Libraries   \n",
    "Modules/Libraries <---Collectin of several related Calsses and function or A set of tools to perform special set of tasks\n",
    "\n",
    "A Package <--- is a collection of Modules (A huge collection of function and modules)\n",
    "\n",
    "We first need to import them to work with them"
   ]
  },
  {
   "cell_type": "markdown",
   "id": "8f6408d1",
   "metadata": {},
   "source": [
    "import random<BR>\n",
    "import numpy<BR>\n",
    "import matplotlib<BR>\n",
    "import pandas<BR>\n",
    "import seaborn\n"
   ]
  },
  {
   "cell_type": "code",
   "execution_count": 38,
   "id": "28ed684f",
   "metadata": {},
   "outputs": [
    {
     "data": {
      "text/plain": [
       "3"
      ]
     },
     "execution_count": 38,
     "metadata": {},
     "output_type": "execute_result"
    }
   ],
   "source": [
    "# work with random maths module\n",
    "import random\n",
    "random.randrange(1,10) # This does not include the upper most value\n",
    "# i,e here 10 will never be generated"
   ]
  },
  {
   "cell_type": "code",
   "execution_count": 39,
   "id": "3b8980c5",
   "metadata": {},
   "outputs": [
    {
     "data": {
      "text/plain": [
       "10"
      ]
     },
     "execution_count": 39,
     "metadata": {},
     "output_type": "execute_result"
    }
   ],
   "source": [
    "random.randrange(1,50)"
   ]
  },
  {
   "cell_type": "code",
   "execution_count": 24,
   "id": "a870d0ed",
   "metadata": {},
   "outputs": [
    {
     "data": {
      "text/plain": [
       "9"
      ]
     },
     "execution_count": 24,
     "metadata": {},
     "output_type": "execute_result"
    }
   ],
   "source": [
    "random.randrange(0,10)"
   ]
  },
  {
   "cell_type": "code",
   "execution_count": 32,
   "id": "540d2ad2",
   "metadata": {},
   "outputs": [
    {
     "data": {
      "text/plain": [
       "4"
      ]
     },
     "execution_count": 32,
     "metadata": {},
     "output_type": "execute_result"
    }
   ],
   "source": [
    "random.randrange(10) # This is equal to random.randrange(0,10) but does not include last val"
   ]
  },
  {
   "cell_type": "code",
   "execution_count": 37,
   "id": "43383419",
   "metadata": {},
   "outputs": [
    {
     "data": {
      "text/plain": [
       "5"
      ]
     },
     "execution_count": 37,
     "metadata": {},
     "output_type": "execute_result"
    }
   ],
   "source": [
    "random.randint(1,5)# Thsi include the uppervalue as well  i.e print 5 also"
   ]
  },
  {
   "cell_type": "code",
   "execution_count": 43,
   "id": "bb3d9e69",
   "metadata": {},
   "outputs": [
    {
     "data": {
      "text/plain": [
       "0.733812271825348"
      ]
     },
     "execution_count": 43,
     "metadata": {},
     "output_type": "execute_result"
    }
   ],
   "source": [
    "random.random() # Generate random number from 0 to 1"
   ]
  },
  {
   "cell_type": "code",
   "execution_count": 61,
   "id": "58adcfa1",
   "metadata": {},
   "outputs": [
    {
     "data": {
      "text/plain": [
       "0.1495947327155105"
      ]
     },
     "execution_count": 61,
     "metadata": {},
     "output_type": "execute_result"
    }
   ],
   "source": [
    "random.uniform(0,1) # Generate random decimal  number from 0 to 1"
   ]
  },
  {
   "cell_type": "code",
   "execution_count": 62,
   "id": "333e0151",
   "metadata": {},
   "outputs": [
    {
     "data": {
      "text/plain": [
       "5.6984293580848195"
      ]
     },
     "execution_count": 62,
     "metadata": {},
     "output_type": "execute_result"
    }
   ],
   "source": [
    "random.uniform(2,6)  # Generate random decimal  number from 2 to 6"
   ]
  },
  {
   "cell_type": "code",
   "execution_count": 63,
   "id": "1eab65a8",
   "metadata": {},
   "outputs": [],
   "source": [
    "import random"
   ]
  },
  {
   "cell_type": "code",
   "execution_count": 64,
   "id": "8f164a5d",
   "metadata": {},
   "outputs": [],
   "source": [
    "L=[10,20,30,40,50,60,70]\n",
    "T=(2,4,3,5,6,8,8,9,0,0,3,2,1)\n",
    "S=\"Today is a very beautiful day\""
   ]
  },
  {
   "cell_type": "code",
   "execution_count": 65,
   "id": "71377036",
   "metadata": {},
   "outputs": [
    {
     "data": {
      "text/plain": [
       "10"
      ]
     },
     "execution_count": 65,
     "metadata": {},
     "output_type": "execute_result"
    }
   ],
   "source": [
    "random.choice(L) # to get an element from a list/tuple/string\n"
   ]
  },
  {
   "cell_type": "code",
   "execution_count": 66,
   "id": "eda9036d",
   "metadata": {},
   "outputs": [
    {
     "data": {
      "text/plain": [
       "4"
      ]
     },
     "execution_count": 66,
     "metadata": {},
     "output_type": "execute_result"
    }
   ],
   "source": [
    "random.choice(T)"
   ]
  },
  {
   "cell_type": "code",
   "execution_count": 67,
   "id": "6f774c66",
   "metadata": {},
   "outputs": [
    {
     "data": {
      "text/plain": [
       "'f'"
      ]
     },
     "execution_count": 67,
     "metadata": {},
     "output_type": "execute_result"
    }
   ],
   "source": [
    "random.choice(S)"
   ]
  },
  {
   "cell_type": "code",
   "execution_count": 72,
   "id": "2badaf3c",
   "metadata": {},
   "outputs": [
    {
     "data": {
      "text/plain": [
       "[50, 30, 60, 20]"
      ]
     },
     "execution_count": 72,
     "metadata": {},
     "output_type": "execute_result"
    }
   ],
   "source": [
    "random.sample(L,4) #provide you 4 random samples from the List L"
   ]
  },
  {
   "cell_type": "code",
   "execution_count": 73,
   "id": "25885240",
   "metadata": {},
   "outputs": [
    {
     "data": {
      "text/plain": [
       "[6, 9, 0, 2, 1]"
      ]
     },
     "execution_count": 73,
     "metadata": {},
     "output_type": "execute_result"
    }
   ],
   "source": [
    "random.sample(T,5) #provide you 5 random samples from the Tuple T"
   ]
  },
  {
   "cell_type": "code",
   "execution_count": 75,
   "id": "f9d9e5b4",
   "metadata": {},
   "outputs": [
    {
     "data": {
      "text/plain": [
       "['u', ' ', 'e']"
      ]
     },
     "execution_count": 75,
     "metadata": {},
     "output_type": "execute_result"
    }
   ],
   "source": [
    "random.sample(S,3) #provide you 3 random samples from the Stgrng S"
   ]
  },
  {
   "cell_type": "code",
   "execution_count": 78,
   "id": "bd37210a",
   "metadata": {},
   "outputs": [
    {
     "data": {
      "text/plain": [
       "[23, 97, 78, 56, 34]"
      ]
     },
     "execution_count": 78,
     "metadata": {},
     "output_type": "execute_result"
    }
   ],
   "source": [
    "import random\n",
    "L=[23,34,56,78,97]\n",
    "random.shuffle(L)\n",
    "L"
   ]
  },
  {
   "cell_type": "code",
   "execution_count": 79,
   "id": "9a6a87c0",
   "metadata": {},
   "outputs": [],
   "source": [
    "import numpy"
   ]
  },
  {
   "cell_type": "code",
   "execution_count": 84,
   "id": "a9af5307",
   "metadata": {},
   "outputs": [
    {
     "data": {
      "text/plain": [
       "array([2, 1, 3, 4])"
      ]
     },
     "execution_count": 84,
     "metadata": {},
     "output_type": "execute_result"
    }
   ],
   "source": [
    "numpy.array([2,1,3,4]) # we have to give the numpy all the time\n",
    "                       # we can use an alias or nick name"
   ]
  },
  {
   "cell_type": "code",
   "execution_count": 87,
   "id": "663f33d9",
   "metadata": {},
   "outputs": [],
   "source": [
    "import numpy as x  # we can use an alias "
   ]
  },
  {
   "cell_type": "code",
   "execution_count": 86,
   "id": "f1f409a0",
   "metadata": {},
   "outputs": [
    {
     "data": {
      "text/plain": [
       "array([2, 1, 3, 4])"
      ]
     },
     "execution_count": 86,
     "metadata": {},
     "output_type": "execute_result"
    }
   ],
   "source": [
    "x.array([2,1,3,4])"
   ]
  },
  {
   "cell_type": "code",
   "execution_count": 100,
   "id": "d4178e42",
   "metadata": {},
   "outputs": [],
   "source": [
    "import numpy as np  # we can use meaningful alias as agreed by coders \n",
    "import pandas as pd\n",
    "import seaborn as sns\n",
    "import numpy.linalg as lg  # You can directly import only the sub library in sie numpy\n",
    "import matplotlib.pyplot as plt  # You can directly import only plotting module of matplotlib\n",
    "#for huge libraries we only import the required fub module with \"from\"\n",
    "#import sklearn   <--- dont import this way for bigger modules\n",
    "from sklearn.model_selection import train_test_split,cross_val_score\n",
    "from numpy import linalg as lig"
   ]
  },
  {
   "cell_type": "code",
   "execution_count": 90,
   "id": "3a951780",
   "metadata": {},
   "outputs": [
    {
     "data": {
      "text/plain": [
       "array([2, 1, 3, 4])"
      ]
     },
     "execution_count": 90,
     "metadata": {},
     "output_type": "execute_result"
    }
   ],
   "source": [
    "np.array([2,1,3,4])"
   ]
  },
  {
   "cell_type": "code",
   "execution_count": 91,
   "id": "da81102f",
   "metadata": {},
   "outputs": [
    {
     "ename": "TypeError",
     "evalue": "_unary_dispatcher() missing 1 required positional argument: 'a'",
     "output_type": "error",
     "traceback": [
      "\u001b[1;31m---------------------------------------------------------------------------\u001b[0m",
      "\u001b[1;31mTypeError\u001b[0m                                 Traceback (most recent call last)",
      "Cell \u001b[1;32mIn[91], line 1\u001b[0m\n\u001b[1;32m----> 1\u001b[0m \u001b[43mnp\u001b[49m\u001b[38;5;241;43m.\u001b[39;49m\u001b[43mlinalg\u001b[49m\u001b[38;5;241;43m.\u001b[39;49m\u001b[43minv\u001b[49m\u001b[43m(\u001b[49m\u001b[43m)\u001b[49m\n",
      "File \u001b[1;32m<__array_function__ internals>:179\u001b[0m, in \u001b[0;36minv\u001b[1;34m(*args, **kwargs)\u001b[0m\n",
      "\u001b[1;31mTypeError\u001b[0m: _unary_dispatcher() missing 1 required positional argument: 'a'"
     ]
    }
   ],
   "source": [
    "np.linalg.inv()  # accessing linear algebra library in numpy"
   ]
  },
  {
   "cell_type": "code",
   "execution_count": 92,
   "id": "285ff2db",
   "metadata": {},
   "outputs": [
    {
     "data": {
      "text/plain": [
       "0.08582653751467662"
      ]
     },
     "execution_count": 92,
     "metadata": {},
     "output_type": "execute_result"
    }
   ],
   "source": [
    "np.random.uniform()"
   ]
  },
  {
   "cell_type": "markdown",
   "id": "56ef588c",
   "metadata": {},
   "source": [
    "# Exception Handling"
   ]
  },
  {
   "cell_type": "code",
   "execution_count": 103,
   "id": "627c52d2",
   "metadata": {},
   "outputs": [
    {
     "ename": "SyntaxError",
     "evalue": "Missing parentheses in call to 'print'. Did you mean print(...)? (3758121376.py, line 1)",
     "output_type": "error",
     "traceback": [
      "\u001b[1;36m  Cell \u001b[1;32mIn[103], line 1\u001b[1;36m\u001b[0m\n\u001b[1;33m    print 10+20  #sample SyntaxError\u001b[0m\n\u001b[1;37m    ^\u001b[0m\n\u001b[1;31mSyntaxError\u001b[0m\u001b[1;31m:\u001b[0m Missing parentheses in call to 'print'. Did you mean print(...)?\n"
     ]
    }
   ],
   "source": [
    "print 10+20  #sample SyntaxError"
   ]
  },
  {
   "cell_type": "code",
   "execution_count": 108,
   "id": "a1950289",
   "metadata": {},
   "outputs": [
    {
     "ename": "SyntaxError",
     "evalue": "expected ':' (2689691699.py, line 2)",
     "output_type": "error",
     "traceback": [
      "\u001b[1;36m  Cell \u001b[1;32mIn[108], line 2\u001b[1;36m\u001b[0m\n\u001b[1;33m    if x>=20\u001b[0m\n\u001b[1;37m                          ^\u001b[0m\n\u001b[1;31mSyntaxError\u001b[0m\u001b[1;31m:\u001b[0m expected ':'\n"
     ]
    }
   ],
   "source": [
    "x=10\n",
    "if x>=20              \n",
    "    print(\"Yes\") #sample SyntaxError  for no \":\" for if   "
   ]
  },
  {
   "cell_type": "code",
   "execution_count": 113,
   "id": "d504c87c",
   "metadata": {},
   "outputs": [
    {
     "ename": "SyntaxError",
     "evalue": "unterminated string literal (detected at line 1) (2242119391.py, line 1)",
     "output_type": "error",
     "traceback": [
      "\u001b[1;36m  Cell \u001b[1;32mIn[113], line 1\u001b[1;36m\u001b[0m\n\u001b[1;33m    L=[1,23,45,54,'Sam]\u001b[0m\n\u001b[1;37m                  ^\u001b[0m\n\u001b[1;31mSyntaxError\u001b[0m\u001b[1;31m:\u001b[0m unterminated string literal (detected at line 1)\n"
     ]
    }
   ],
   "source": [
    "L=[1,23,45,54,'Sam]"
   ]
  },
  {
   "cell_type": "code",
   "execution_count": 116,
   "id": "8c479687",
   "metadata": {},
   "outputs": [
    {
     "ename": "TypeError",
     "evalue": "unsupported operand type(s) for +: 'int' and 'str'",
     "output_type": "error",
     "traceback": [
      "\u001b[1;31m---------------------------------------------------------------------------\u001b[0m",
      "\u001b[1;31mTypeError\u001b[0m                                 Traceback (most recent call last)",
      "Cell \u001b[1;32mIn[116], line 1\u001b[0m\n\u001b[1;32m----> 1\u001b[0m \u001b[38;5;241;43m10\u001b[39;49m\u001b[38;5;241;43m+\u001b[39;49m\u001b[38;5;124;43m\"\u001b[39;49m\u001b[38;5;124;43m100\u001b[39;49m\u001b[38;5;124;43m\"\u001b[39;49m\n",
      "\u001b[1;31mTypeError\u001b[0m: unsupported operand type(s) for +: 'int' and 'str'"
     ]
    }
   ],
   "source": [
    "10+\"100\"  # <----Data types does not match int+String"
   ]
  },
  {
   "cell_type": "code",
   "execution_count": 119,
   "id": "768c6b93",
   "metadata": {},
   "outputs": [
    {
     "ename": "ModuleNotFoundError",
     "evalue": "No module named 'numpi'",
     "output_type": "error",
     "traceback": [
      "\u001b[1;31m---------------------------------------------------------------------------\u001b[0m",
      "\u001b[1;31mModuleNotFoundError\u001b[0m                       Traceback (most recent call last)",
      "Cell \u001b[1;32mIn[119], line 1\u001b[0m\n\u001b[1;32m----> 1\u001b[0m \u001b[38;5;28;01mimport\u001b[39;00m \u001b[38;5;21;01mnumpi\u001b[39;00m\n",
      "\u001b[1;31mModuleNotFoundError\u001b[0m: No module named 'numpi'"
     ]
    }
   ],
   "source": [
    "import numpi  # <  we try to import unknown module due to typo"
   ]
  },
  {
   "cell_type": "code",
   "execution_count": 122,
   "id": "d7b176dd",
   "metadata": {},
   "outputs": [
    {
     "ename": "NameError",
     "evalue": "name 't' is not defined",
     "output_type": "error",
     "traceback": [
      "\u001b[1;31m---------------------------------------------------------------------------\u001b[0m",
      "\u001b[1;31mNameError\u001b[0m                                 Traceback (most recent call last)",
      "Cell \u001b[1;32mIn[122], line 1\u001b[0m\n\u001b[1;32m----> 1\u001b[0m \u001b[38;5;28mprint\u001b[39m(\u001b[43mt\u001b[49m)\n",
      "\u001b[1;31mNameError\u001b[0m: name 't' is not defined"
     ]
    }
   ],
   "source": [
    "print(t)  #<---Name error given for still not defined variables"
   ]
  },
  {
   "cell_type": "code",
   "execution_count": 125,
   "id": "af064e9e",
   "metadata": {},
   "outputs": [
    {
     "ename": "ValueError",
     "evalue": "list.remove(x): x not in list",
     "output_type": "error",
     "traceback": [
      "\u001b[1;31m---------------------------------------------------------------------------\u001b[0m",
      "\u001b[1;31mValueError\u001b[0m                                Traceback (most recent call last)",
      "Cell \u001b[1;32mIn[125], line 2\u001b[0m\n\u001b[0;32m      1\u001b[0m L\u001b[38;5;241m=\u001b[39m[\u001b[38;5;241m2\u001b[39m,\u001b[38;5;241m1\u001b[39m,\u001b[38;5;241m3\u001b[39m,\u001b[38;5;241m5\u001b[39m,\u001b[38;5;241m5\u001b[39m]  \u001b[38;5;66;03m#ValueError given for value not in this list\u001b[39;00m\n\u001b[1;32m----> 2\u001b[0m \u001b[43mL\u001b[49m\u001b[38;5;241;43m.\u001b[39;49m\u001b[43mremove\u001b[49m\u001b[43m(\u001b[49m\u001b[38;5;241;43m9\u001b[39;49m\u001b[43m)\u001b[49m\n\u001b[0;32m      3\u001b[0m L\n",
      "\u001b[1;31mValueError\u001b[0m: list.remove(x): x not in list"
     ]
    }
   ],
   "source": [
    "L=[2,1,3,5,5]  #ValueError given for value not in this list\n",
    "L.remove(9)\n",
    "L"
   ]
  },
  {
   "cell_type": "code",
   "execution_count": 126,
   "id": "d87a0247",
   "metadata": {},
   "outputs": [],
   "source": [
    "d={\"a\":10,\"b\":20,\"c\":40}"
   ]
  },
  {
   "cell_type": "code",
   "execution_count": 128,
   "id": "61ff866b",
   "metadata": {},
   "outputs": [
    {
     "data": {
      "text/plain": [
       "10"
      ]
     },
     "execution_count": 128,
     "metadata": {},
     "output_type": "execute_result"
    }
   ],
   "source": [
    "d[\"a\"]"
   ]
  },
  {
   "cell_type": "code",
   "execution_count": 131,
   "id": "b2d67e7c",
   "metadata": {},
   "outputs": [
    {
     "ename": "KeyError",
     "evalue": "'g'",
     "output_type": "error",
     "traceback": [
      "\u001b[1;31m---------------------------------------------------------------------------\u001b[0m",
      "\u001b[1;31mKeyError\u001b[0m                                  Traceback (most recent call last)",
      "Cell \u001b[1;32mIn[131], line 1\u001b[0m\n\u001b[1;32m----> 1\u001b[0m \u001b[43md\u001b[49m\u001b[43m[\u001b[49m\u001b[38;5;124;43m\"\u001b[39;49m\u001b[38;5;124;43mg\u001b[39;49m\u001b[38;5;124;43m\"\u001b[39;49m\u001b[43m]\u001b[49m\n",
      "\u001b[1;31mKeyError\u001b[0m: 'g'"
     ]
    }
   ],
   "source": [
    "d[\"g\"]  #<--- keyError for undefined keys"
   ]
  },
  {
   "cell_type": "code",
   "execution_count": 134,
   "id": "a7e4174f",
   "metadata": {},
   "outputs": [
    {
     "ename": "IndexError",
     "evalue": "list index out of range",
     "output_type": "error",
     "traceback": [
      "\u001b[1;31m---------------------------------------------------------------------------\u001b[0m",
      "\u001b[1;31mIndexError\u001b[0m                                Traceback (most recent call last)",
      "Cell \u001b[1;32mIn[134], line 2\u001b[0m\n\u001b[0;32m      1\u001b[0m L\u001b[38;5;241m=\u001b[39m[\u001b[38;5;241m3\u001b[39m,\u001b[38;5;241m2\u001b[39m,\u001b[38;5;241m5\u001b[39m,\u001b[38;5;241m6\u001b[39m,\u001b[38;5;241m8\u001b[39m]   \u001b[38;5;66;03m#<--- 9 no in this list, thus no matching index\u001b[39;00m\n\u001b[1;32m----> 2\u001b[0m \u001b[43mL\u001b[49m\u001b[43m[\u001b[49m\u001b[38;5;241;43m9\u001b[39;49m\u001b[43m]\u001b[49m\n",
      "\u001b[1;31mIndexError\u001b[0m: list index out of range"
     ]
    }
   ],
   "source": [
    "L=[3,2,5,6,8]   #<--- 9 no in this list, thus no matching index\n",
    "L[9]"
   ]
  },
  {
   "cell_type": "code",
   "execution_count": 136,
   "id": "9dc30723",
   "metadata": {},
   "outputs": [
    {
     "ename": "ZeroDivisionError",
     "evalue": "division by zero",
     "output_type": "error",
     "traceback": [
      "\u001b[1;31m---------------------------------------------------------------------------\u001b[0m",
      "\u001b[1;31mZeroDivisionError\u001b[0m                         Traceback (most recent call last)",
      "Cell \u001b[1;32mIn[136], line 1\u001b[0m\n\u001b[1;32m----> 1\u001b[0m \u001b[38;5;241;43m10\u001b[39;49m\u001b[38;5;241;43m/\u001b[39;49m\u001b[38;5;241;43m0\u001b[39;49m\n",
      "\u001b[1;31mZeroDivisionError\u001b[0m: division by zero"
     ]
    }
   ],
   "source": [
    "10/0  #<---ZeroDivisionError                         "
   ]
  },
  {
   "cell_type": "code",
   "execution_count": 137,
   "id": "32d8f4c4",
   "metadata": {},
   "outputs": [],
   "source": [
    "#we can create our own exceptions with raise or asertion"
   ]
  },
  {
   "cell_type": "code",
   "execution_count": 141,
   "id": "49ba5eb0",
   "metadata": {},
   "outputs": [
    {
     "name": "stdout",
     "output_type": "stream",
     "text": [
      "60\n"
     ]
    }
   ],
   "source": [
    "x=30\n",
    "if x<=20:\n",
    "    raise Exception(\"Value not in right region\")\n",
    "print(x*2)"
   ]
  },
  {
   "cell_type": "code",
   "execution_count": 143,
   "id": "21cb361a",
   "metadata": {},
   "outputs": [
    {
     "ename": "Exception",
     "evalue": "Value not in right region",
     "output_type": "error",
     "traceback": [
      "\u001b[1;31m---------------------------------------------------------------------------\u001b[0m",
      "\u001b[1;31mException\u001b[0m                                 Traceback (most recent call last)",
      "Cell \u001b[1;32mIn[143], line 3\u001b[0m\n\u001b[0;32m      1\u001b[0m x\u001b[38;5;241m=\u001b[39m\u001b[38;5;241m10\u001b[39m\n\u001b[0;32m      2\u001b[0m \u001b[38;5;28;01mif\u001b[39;00m x\u001b[38;5;241m<\u001b[39m\u001b[38;5;241m=\u001b[39m\u001b[38;5;241m20\u001b[39m:\n\u001b[1;32m----> 3\u001b[0m     \u001b[38;5;28;01mraise\u001b[39;00m \u001b[38;5;167;01mException\u001b[39;00m(\u001b[38;5;124m\"\u001b[39m\u001b[38;5;124mValue not in right region\u001b[39m\u001b[38;5;124m\"\u001b[39m) \u001b[38;5;66;03m# Our error\u001b[39;00m\n\u001b[0;32m      4\u001b[0m \u001b[38;5;28mprint\u001b[39m(x\u001b[38;5;241m*\u001b[39m\u001b[38;5;241m2\u001b[39m)\n",
      "\u001b[1;31mException\u001b[0m: Value not in right region"
     ]
    }
   ],
   "source": [
    "x=10\n",
    "if x<=20:\n",
    "    raise Exception(\"Value not in right region\") # Our error\n",
    "print(x*2)"
   ]
  },
  {
   "cell_type": "code",
   "execution_count": 156,
   "id": "675c3e4c",
   "metadata": {},
   "outputs": [
    {
     "name": "stdout",
     "output_type": "stream",
     "text": [
      "[12, 23, 34, 45, 46]\n"
     ]
    }
   ],
   "source": [
    "L=[12,13,23,34,45,46]\n",
    "x=13\n",
    "if x%2==0:   #<-- if condition not met Error not thrown\n",
    "    raise Exception(\"You cannot remove an even value\")\n",
    "L.remove(x)\n",
    "print(L)"
   ]
  },
  {
   "cell_type": "code",
   "execution_count": 155,
   "id": "0721403f",
   "metadata": {},
   "outputs": [
    {
     "ename": "Exception",
     "evalue": "You cannot remove an even value",
     "output_type": "error",
     "traceback": [
      "\u001b[1;31m---------------------------------------------------------------------------\u001b[0m",
      "\u001b[1;31mException\u001b[0m                                 Traceback (most recent call last)",
      "Cell \u001b[1;32mIn[155], line 4\u001b[0m\n\u001b[0;32m      2\u001b[0m x\u001b[38;5;241m=\u001b[39m\u001b[38;5;241m12\u001b[39m\n\u001b[0;32m      3\u001b[0m \u001b[38;5;28;01mif\u001b[39;00m x\u001b[38;5;241m%\u001b[39m\u001b[38;5;241m2\u001b[39m\u001b[38;5;241m==\u001b[39m\u001b[38;5;241m0\u001b[39m:  \u001b[38;5;66;03m#<-- if condition met Error thrown\u001b[39;00m\n\u001b[1;32m----> 4\u001b[0m     \u001b[38;5;28;01mraise\u001b[39;00m \u001b[38;5;167;01mException\u001b[39;00m(\u001b[38;5;124m\"\u001b[39m\u001b[38;5;124mYou cannot remove an even value\u001b[39m\u001b[38;5;124m\"\u001b[39m)\n\u001b[0;32m      5\u001b[0m L\u001b[38;5;241m.\u001b[39mremove(x)\n\u001b[0;32m      6\u001b[0m \u001b[38;5;28mprint\u001b[39m(L)\n",
      "\u001b[1;31mException\u001b[0m: You cannot remove an even value"
     ]
    }
   ],
   "source": [
    "L=[12,13,23,34,45,46]\n",
    "x=12\n",
    "if x%2==0:  #<-- if condition met Error thrown\n",
    "    raise Exception(\"You cannot remove an even value\")\n",
    "L.remove(x)\n",
    "print(L)"
   ]
  },
  {
   "cell_type": "code",
   "execution_count": 151,
   "id": "111813b3",
   "metadata": {},
   "outputs": [
    {
     "name": "stdout",
     "output_type": "stream",
     "text": [
      "60\n"
     ]
    }
   ],
   "source": [
    "x=30\n",
    "assert x>20, \"Value is not in the correct region\"\n",
    "print(x*2)"
   ]
  },
  {
   "cell_type": "code",
   "execution_count": 157,
   "id": "e4e7d332",
   "metadata": {},
   "outputs": [
    {
     "ename": "AssertionError",
     "evalue": "Value is not in the correct region",
     "output_type": "error",
     "traceback": [
      "\u001b[1;31m---------------------------------------------------------------------------\u001b[0m",
      "\u001b[1;31mAssertionError\u001b[0m                            Traceback (most recent call last)",
      "Cell \u001b[1;32mIn[157], line 3\u001b[0m\n\u001b[0;32m      1\u001b[0m \u001b[38;5;66;03m#assert\u001b[39;00m\n\u001b[0;32m      2\u001b[0m x\u001b[38;5;241m=\u001b[39m\u001b[38;5;241m10\u001b[39m\n\u001b[1;32m----> 3\u001b[0m \u001b[38;5;28;01massert\u001b[39;00m x\u001b[38;5;241m>\u001b[39m\u001b[38;5;241m20\u001b[39m, \u001b[38;5;124m\"\u001b[39m\u001b[38;5;124mValue is not in the correct region\u001b[39m\u001b[38;5;124m\"\u001b[39m  \u001b[38;5;66;03m#<-- if condition not met Error thrown\u001b[39;00m\n\u001b[0;32m      4\u001b[0m \u001b[38;5;28mprint\u001b[39m(x\u001b[38;5;241m*\u001b[39m\u001b[38;5;241m2\u001b[39m)\n",
      "\u001b[1;31mAssertionError\u001b[0m: Value is not in the correct region"
     ]
    }
   ],
   "source": [
    "#assert\n",
    "x=10\n",
    "assert x>20, \"Value is not in the correct region\"  #<-- if condition not met Error thrown\n",
    "print(x*2)"
   ]
  },
  {
   "cell_type": "code",
   "execution_count": null,
   "id": "e19f7e7c",
   "metadata": {},
   "outputs": [],
   "source": []
  }
 ],
 "metadata": {
  "kernelspec": {
   "display_name": "Python 3 (ipykernel)",
   "language": "python",
   "name": "python3"
  },
  "language_info": {
   "codemirror_mode": {
    "name": "ipython",
    "version": 3
   },
   "file_extension": ".py",
   "mimetype": "text/x-python",
   "name": "python",
   "nbconvert_exporter": "python",
   "pygments_lexer": "ipython3",
   "version": "3.10.9"
  }
 },
 "nbformat": 4,
 "nbformat_minor": 5
}
